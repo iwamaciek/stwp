{
 "cells": [
  {
   "cell_type": "code",
   "execution_count": 7,
   "id": "d1dcd03c-92b3-4748-8d00-98c89fc727e7",
   "metadata": {},
   "outputs": [],
   "source": [
    "import xarray as xr\n",
    "import numpy as np\n",
    "import pandas as pd"
   ]
  },
  {
   "cell_type": "code",
   "execution_count": 8,
   "id": "f98522d7-45f9-4477-bd3a-537a6fbef07a",
   "metadata": {},
   "outputs": [],
   "source": [
    "filepath = 'data.grib'\n",
    "ds = xr.open_dataset(filepath, engine='pynio')"
   ]
  },
  {
   "cell_type": "code",
   "execution_count": 9,
   "id": "4f9117dc-dd48-46ce-8e60-d4f633ea8d33",
   "metadata": {},
   "outputs": [
    {
     "name": "stdout",
     "output_type": "stream",
     "text": [
      "SP_GDS0_SFC, Surface pressure, Pa\n",
      "2T_GDS0_SFC, 2 metre temperature, K\n",
      "initial_time0_encoded, initial time encoded as double, yyyymmddhh.hh_frac\n",
      "initial_time0, Initial time of first record, mm/dd/yyyy (hh:mm)\n"
     ]
    }
   ],
   "source": [
    "for v in ds:\n",
    "    print(\"{}, {}, {}\".format(v, ds[v].attrs[\"long_name\"], ds[v].attrs[\"units\"]))"
   ]
  },
  {
   "cell_type": "code",
   "execution_count": 10,
   "id": "f911c050-ce82-42d4-ac60-23d95f7ba6e2",
   "metadata": {},
   "outputs": [],
   "source": [
    "df = ds.to_dataframe()"
   ]
  },
  {
   "cell_type": "code",
   "execution_count": 11,
   "id": "9834862a-0050-457e-b87e-08d7a2c42e74",
   "metadata": {},
   "outputs": [
    {
     "data": {
      "text/html": [
       "<div>\n",
       "<style scoped>\n",
       "    .dataframe tbody tr th:only-of-type {\n",
       "        vertical-align: middle;\n",
       "    }\n",
       "\n",
       "    .dataframe tbody tr th {\n",
       "        vertical-align: top;\n",
       "    }\n",
       "\n",
       "    .dataframe thead th {\n",
       "        text-align: right;\n",
       "    }\n",
       "</style>\n",
       "<table border=\"1\" class=\"dataframe\">\n",
       "  <thead>\n",
       "    <tr style=\"text-align: right;\">\n",
       "      <th></th>\n",
       "      <th></th>\n",
       "      <th></th>\n",
       "      <th>SP_GDS0_SFC</th>\n",
       "      <th>2T_GDS0_SFC</th>\n",
       "      <th>initial_time0_encoded</th>\n",
       "      <th>initial_time0</th>\n",
       "    </tr>\n",
       "    <tr>\n",
       "      <th>initial_time0_hours</th>\n",
       "      <th>g0_lat_1</th>\n",
       "      <th>g0_lon_2</th>\n",
       "      <th></th>\n",
       "      <th></th>\n",
       "      <th></th>\n",
       "      <th></th>\n",
       "    </tr>\n",
       "  </thead>\n",
       "  <tbody>\n",
       "    <tr>\n",
       "      <th rowspan=\"5\" valign=\"top\">2023-10-03</th>\n",
       "      <th rowspan=\"5\" valign=\"top\">55.0</th>\n",
       "      <th>14.00</th>\n",
       "      <td>101434.4375</td>\n",
       "      <td>289.975342</td>\n",
       "      <td>2.023100e+09</td>\n",
       "      <td>b'10/03/2023 (00:00)'</td>\n",
       "    </tr>\n",
       "    <tr>\n",
       "      <th>14.25</th>\n",
       "      <td>101433.4375</td>\n",
       "      <td>290.184326</td>\n",
       "      <td>2.023100e+09</td>\n",
       "      <td>b'10/03/2023 (00:00)'</td>\n",
       "    </tr>\n",
       "    <tr>\n",
       "      <th>14.50</th>\n",
       "      <td>101407.4375</td>\n",
       "      <td>290.365967</td>\n",
       "      <td>2.023100e+09</td>\n",
       "      <td>b'10/03/2023 (00:00)'</td>\n",
       "    </tr>\n",
       "    <tr>\n",
       "      <th>14.75</th>\n",
       "      <td>101352.4375</td>\n",
       "      <td>290.449951</td>\n",
       "      <td>2.023100e+09</td>\n",
       "      <td>b'10/03/2023 (00:00)'</td>\n",
       "    </tr>\n",
       "    <tr>\n",
       "      <th>15.00</th>\n",
       "      <td>101318.4375</td>\n",
       "      <td>290.504639</td>\n",
       "      <td>2.023100e+09</td>\n",
       "      <td>b'10/03/2023 (00:00)'</td>\n",
       "    </tr>\n",
       "  </tbody>\n",
       "</table>\n",
       "</div>"
      ],
      "text/plain": [
       "                                       SP_GDS0_SFC  2T_GDS0_SFC  \\\n",
       "initial_time0_hours g0_lat_1 g0_lon_2                             \n",
       "2023-10-03          55.0     14.00     101434.4375   289.975342   \n",
       "                             14.25     101433.4375   290.184326   \n",
       "                             14.50     101407.4375   290.365967   \n",
       "                             14.75     101352.4375   290.449951   \n",
       "                             15.00     101318.4375   290.504639   \n",
       "\n",
       "                                       initial_time0_encoded  \\\n",
       "initial_time0_hours g0_lat_1 g0_lon_2                          \n",
       "2023-10-03          55.0     14.00              2.023100e+09   \n",
       "                             14.25              2.023100e+09   \n",
       "                             14.50              2.023100e+09   \n",
       "                             14.75              2.023100e+09   \n",
       "                             15.00              2.023100e+09   \n",
       "\n",
       "                                               initial_time0  \n",
       "initial_time0_hours g0_lat_1 g0_lon_2                         \n",
       "2023-10-03          55.0     14.00     b'10/03/2023 (00:00)'  \n",
       "                             14.25     b'10/03/2023 (00:00)'  \n",
       "                             14.50     b'10/03/2023 (00:00)'  \n",
       "                             14.75     b'10/03/2023 (00:00)'  \n",
       "                             15.00     b'10/03/2023 (00:00)'  "
      ]
     },
     "execution_count": 11,
     "metadata": {},
     "output_type": "execute_result"
    }
   ],
   "source": [
    "df.head()"
   ]
  },
  {
   "cell_type": "code",
   "execution_count": 12,
   "id": "0c80d937-ca80-45a0-9727-c78d58a1c3f2",
   "metadata": {},
   "outputs": [
    {
     "data": {
      "text/html": [
       "<div>\n",
       "<style scoped>\n",
       "    .dataframe tbody tr th:only-of-type {\n",
       "        vertical-align: middle;\n",
       "    }\n",
       "\n",
       "    .dataframe tbody tr th {\n",
       "        vertical-align: top;\n",
       "    }\n",
       "\n",
       "    .dataframe thead th {\n",
       "        text-align: right;\n",
       "    }\n",
       "</style>\n",
       "<table border=\"1\" class=\"dataframe\">\n",
       "  <thead>\n",
       "    <tr style=\"text-align: right;\">\n",
       "      <th></th>\n",
       "      <th>SP_GDS0_SFC</th>\n",
       "      <th>2T_GDS0_SFC</th>\n",
       "      <th>initial_time0_encoded</th>\n",
       "    </tr>\n",
       "  </thead>\n",
       "  <tbody>\n",
       "    <tr>\n",
       "      <th>count</th>\n",
       "      <td>13500.00000</td>\n",
       "      <td>13500.000000</td>\n",
       "      <td>1.350000e+04</td>\n",
       "    </tr>\n",
       "    <tr>\n",
       "      <th>mean</th>\n",
       "      <td>99412.87500</td>\n",
       "      <td>289.029877</td>\n",
       "      <td>2.023100e+09</td>\n",
       "    </tr>\n",
       "    <tr>\n",
       "      <th>std</th>\n",
       "      <td>1739.98999</td>\n",
       "      <td>4.052129</td>\n",
       "      <td>5.046638e+01</td>\n",
       "    </tr>\n",
       "    <tr>\n",
       "      <th>min</th>\n",
       "      <td>90895.06250</td>\n",
       "      <td>278.070312</td>\n",
       "      <td>2.023100e+09</td>\n",
       "    </tr>\n",
       "    <tr>\n",
       "      <th>25%</th>\n",
       "      <td>98940.03125</td>\n",
       "      <td>286.273682</td>\n",
       "      <td>2.023100e+09</td>\n",
       "    </tr>\n",
       "    <tr>\n",
       "      <th>50%</th>\n",
       "      <td>99843.12500</td>\n",
       "      <td>288.041748</td>\n",
       "      <td>2.023100e+09</td>\n",
       "    </tr>\n",
       "    <tr>\n",
       "      <th>75%</th>\n",
       "      <td>100470.21875</td>\n",
       "      <td>291.425781</td>\n",
       "      <td>2.023100e+09</td>\n",
       "    </tr>\n",
       "    <tr>\n",
       "      <th>max</th>\n",
       "      <td>102020.18750</td>\n",
       "      <td>300.770996</td>\n",
       "      <td>2.023100e+09</td>\n",
       "    </tr>\n",
       "  </tbody>\n",
       "</table>\n",
       "</div>"
      ],
      "text/plain": [
       "        SP_GDS0_SFC   2T_GDS0_SFC  initial_time0_encoded\n",
       "count   13500.00000  13500.000000           1.350000e+04\n",
       "mean    99412.87500    289.029877           2.023100e+09\n",
       "std      1739.98999      4.052129           5.046638e+01\n",
       "min     90895.06250    278.070312           2.023100e+09\n",
       "25%     98940.03125    286.273682           2.023100e+09\n",
       "50%     99843.12500    288.041748           2.023100e+09\n",
       "75%    100470.21875    291.425781           2.023100e+09\n",
       "max    102020.18750    300.770996           2.023100e+09"
      ]
     },
     "execution_count": 12,
     "metadata": {},
     "output_type": "execute_result"
    }
   ],
   "source": [
    "df.describe()"
   ]
  },
  {
   "cell_type": "code",
   "execution_count": 13,
   "id": "542fdf25-3571-44da-856b-7a45a35a2bf2",
   "metadata": {},
   "outputs": [
    {
     "name": "stdout",
     "output_type": "stream",
     "text": [
      "                                       SP_GDS0_SFC  2T_GDS0_SFC  \\\n",
      "initial_time0_hours g0_lat_1 g0_lon_2                             \n",
      "2023-10-03 00:00:00 55.0     14.00     101434.4375   289.975342   \n",
      "                             14.25     101433.4375   290.184326   \n",
      "                             14.50     101407.4375   290.365967   \n",
      "                             14.75     101352.4375   290.449951   \n",
      "                             15.00     101318.4375   290.504639   \n",
      "...                                            ...          ...   \n",
      "2023-10-04 20:00:00 49.0     24.00      96875.1875   280.931641   \n",
      "                             24.25      98291.1875   282.093750   \n",
      "                             24.50      98823.1875   282.771484   \n",
      "                             24.75      99160.1875   283.390625   \n",
      "                             25.00      98902.1875   283.646484   \n",
      "\n",
      "                                       initial_time0_encoded  \\\n",
      "initial_time0_hours g0_lat_1 g0_lon_2                          \n",
      "2023-10-03 00:00:00 55.0     14.00              2.023100e+09   \n",
      "                             14.25              2.023100e+09   \n",
      "                             14.50              2.023100e+09   \n",
      "                             14.75              2.023100e+09   \n",
      "                             15.00              2.023100e+09   \n",
      "...                                                      ...   \n",
      "2023-10-04 20:00:00 49.0     24.00              2.023100e+09   \n",
      "                             24.25              2.023100e+09   \n",
      "                             24.50              2.023100e+09   \n",
      "                             24.75              2.023100e+09   \n",
      "                             25.00              2.023100e+09   \n",
      "\n",
      "                                               initial_time0  \n",
      "initial_time0_hours g0_lat_1 g0_lon_2                         \n",
      "2023-10-03 00:00:00 55.0     14.00     b'10/03/2023 (00:00)'  \n",
      "                             14.25     b'10/03/2023 (00:00)'  \n",
      "                             14.50     b'10/03/2023 (00:00)'  \n",
      "                             14.75     b'10/03/2023 (00:00)'  \n",
      "                             15.00     b'10/03/2023 (00:00)'  \n",
      "...                                                      ...  \n",
      "2023-10-04 20:00:00 49.0     24.00     b'10/04/2023 (20:00)'  \n",
      "                             24.25     b'10/04/2023 (20:00)'  \n",
      "                             24.50     b'10/04/2023 (20:00)'  \n",
      "                             24.75     b'10/04/2023 (20:00)'  \n",
      "                             25.00     b'10/04/2023 (20:00)'  \n",
      "\n",
      "[13500 rows x 4 columns]\n"
     ]
    }
   ],
   "source": [
    "print(df)"
   ]
  }
 ],
 "metadata": {
  "kernelspec": {
   "display_name": "engeeneringEnv",
   "language": "python",
   "name": "engeeneringenv"
  },
  "language_info": {
   "codemirror_mode": {
    "name": "ipython",
    "version": 3
   },
   "file_extension": ".py",
   "mimetype": "text/x-python",
   "name": "python",
   "nbconvert_exporter": "python",
   "pygments_lexer": "ipython3",
   "version": "3.10.13"
  }
 },
 "nbformat": 4,
 "nbformat_minor": 5
}
