{
 "cells": [
  {
   "cell_type": "code",
   "execution_count": 1,
   "id": "515f04b2-d51c-4fb2-8c08-f4b4789dae33",
   "metadata": {
    "tags": []
   },
   "outputs": [],
   "source": [
    "import sys\n",
    "import warnings\n",
    "warnings.filterwarnings('ignore')\n",
    "sys.path.append(\"..\")\n",
    "\n",
    "from models.data_processor import DataProcessor\n",
    "from models.linear_reg.simple_linear_regressor import SimpleLinearRegressor\n",
    "from models.linear_reg.linear_regressor import LinearRegressor\n",
    "from models.grad_boost.grad_booster import GradBooster\n",
    "from models.exp_smoothing.smoothing import SmoothingPredictor\n",
    "from models.baseline_regressor import BaselineRegressor\n",
    "from time import time "
   ]
  },
  {
   "cell_type": "markdown",
   "id": "0a719195-2f99-4453-9b64-3a24a83addd7",
   "metadata": {},
   "source": [
    "### Preprocess data"
   ]
  },
  {
   "cell_type": "code",
   "execution_count": 3,
   "id": "1bb92e92-d280-4b5f-9a3d-bf86cf4f0b72",
   "metadata": {
    "tags": []
   },
   "outputs": [],
   "source": [
    "processor = DataProcessor(path='../data/input/data2019-2021-small.grib')\n",
    "data, feature_list = processor.data, processor.feature_list\n",
    "s = 5\n",
    "fh = 1\n",
    "\n",
    "X, y = processor.preprocess(s, fh, use_neighbours=False)\n",
    "X_train, X_test, y_train, y_test = processor.train_val_test_split(X, y, split_type=2) # train 2019; test 2021"
   ]
  },
  {
   "cell_type": "code",
   "execution_count": 3,
   "id": "36d3e59d-50c7-45b8-ace3-d40c6debf171",
   "metadata": {},
   "outputs": [],
   "source": [
    "# # because smoothing is slow\n",
    "# X_train, y_train = X_train[-100:], y_train[-100:]\n",
    "# X_test, y_test = X_test[:5], y_test[:5]"
   ]
  },
  {
   "cell_type": "markdown",
   "id": "32f77ab9-3ff8-4e71-b6d4-86298262b993",
   "metadata": {},
   "source": [
    "### Fit and evaluate models"
   ]
  },
  {
   "cell_type": "code",
   "execution_count": 4,
   "id": "c6a1ee07-b2a0-48f4-9b4e-17df137f921f",
   "metadata": {
    "tags": []
   },
   "outputs": [
    {
     "name": "stdout",
     "output_type": "stream",
     "text": [
      "BaselineRegressor standard\n",
      "=======================================\n",
      "Evaluation metrics for entire test set:\n",
      "=======================================\n",
      "t2m => RMSE: 9.12573545539063;  MAE: 7.609569590636848; SE: 0.007036642941927937\n",
      "sp => RMSE: 8.284739406510885;  MAE: 6.5173220695874345; SE: 0.01623546992051714\n",
      "tcc => RMSE: 0.3604296477344859;  MAE: 0.323887774887461; SE: 0.00028020813242258326\n",
      "u10 => RMSE: 2.9085824116652805;  MAE: 2.26632253820643; SE: 0.002280315936773002\n",
      "v10 => RMSE: 2.671482457883997;  MAE: 2.131336113645767; SE: 0.002085767001179107\n",
      "tp => RMSE: 0.311762192857256;  MAE: 0.12257721447873195; SE: 0.00024301953731840448\n",
      "\n",
      "BaselineRegressor 2.474334955215454 [s]\n",
      "\n",
      "======================================\n",
      "\n",
      "SimpleLinearRegressor ridge\n",
      "=======================================\n",
      "Evaluation metrics for entire test set:\n",
      "=======================================\n",
      "t2m => RMSE: 2.1227015952352475;  MAE: 1.583813584526771; SE: 0.007036642941927937\n",
      "sp => RMSE: 1.426594759467368;  MAE: 1.04074274051827; SE: 0.01623546992051714\n",
      "tcc => RMSE: 0.29537001456373574;  MAE: 0.24220492366961963; SE: 0.00028020813242258326\n",
      "u10 => RMSE: 1.5611287130016671;  MAE: 1.1472146229797318; SE: 0.002280315936773002\n",
      "v10 => RMSE: 1.5285502095361856;  MAE: 1.1316268655683688; SE: 0.002085767001179107\n",
      "tp => RMSE: 0.30215904615056866;  MAE: 0.11565906041695405; SE: 0.00024301953731840448\n",
      "\n",
      "SimpleLinearRegressor 4.045124292373657 [s]\n",
      "\n",
      "======================================\n",
      "\n",
      "LinearRegressor ridge\n",
      "=======================================\n",
      "Evaluation metrics for entire test set:\n",
      "=======================================\n",
      "t2m => RMSE: 2.0229548541355777;  MAE: 1.529741641366824; SE: 0.007036642941927937\n",
      "sp => RMSE: 1.3549082267091428;  MAE: 0.9899184205159458; SE: 0.01623546992051714\n",
      "tcc => RMSE: 0.2914864289847958;  MAE: 0.23646784952535044; SE: 0.00028020813242258326\n",
      "u10 => RMSE: 1.502160898472238;  MAE: 1.116583376228637; SE: 0.002280315936773002\n",
      "v10 => RMSE: 1.4939796239792122;  MAE: 1.1026535894558875; SE: 0.002085767001179107\n",
      "tp => RMSE: 0.29614788394930275;  MAE: 0.11413353971161715; SE: 0.00024301953731840448\n",
      "\n",
      "LinearRegressor 9.767163038253784 [s]\n",
      "\n",
      "======================================\n",
      "\n",
      "GradBooster lgb\n",
      "=======================================\n",
      "Evaluation metrics for entire test set:\n",
      "=======================================\n",
      "t2m => RMSE: 1.8695671818520743;  MAE: 1.3689238830444206; SE: 0.007036642941927937\n",
      "sp => RMSE: 1.498610202587409;  MAE: 1.1004563676527404; SE: 0.01623546992051714\n",
      "tcc => RMSE: 0.2862078436615052;  MAE: 0.22847493068784766; SE: 0.00028020813242258326\n",
      "u10 => RMSE: 1.466163187016829;  MAE: 1.0815718159192071; SE: 0.002280315936773002\n",
      "v10 => RMSE: 1.4522011400973165;  MAE: 1.0731694768724909; SE: 0.002085767001179107\n",
      "tp => RMSE: 0.29283118454695134;  MAE: 0.10490116108288697; SE: 0.00024301953731840448\n",
      "\n",
      "GradBooster 434.40383100509644 [s]\n",
      "\n",
      "======================================\n",
      "\n"
     ]
    }
   ],
   "source": [
    "reg_classes = [\n",
    "    # SmoothingPredictor,\n",
    "    BaselineRegressor,\n",
    "    SimpleLinearRegressor,\n",
    "    LinearRegressor,\n",
    "    GradBooster\n",
    "]\n",
    "\n",
    "default_types = [\n",
    "    # \"simple\",\n",
    "    \"standard\",\n",
    "    \"ridge\",\n",
    "    \"ridge\",\n",
    "    \"lgb\"\n",
    "]\n",
    "\n",
    "for reg_class, default_type in zip(reg_classes, default_types):\n",
    "    print(reg_class.__name__, default_type)\n",
    "    start = time()\n",
    "    regressor = reg_class(X.shape, fh, feature_list, default_type)\n",
    "    regressor.train(X_train, y_train)\n",
    "    y_hat = regressor.predict_and_evaluate(X_test, y_test, plot=False)\n",
    "    regressor.save_prediction_tensor(y_hat)\n",
    "    end = time()\n",
    "    print(f'\\n{reg_class.__name__} {end-start} [s]')\n",
    "    print(\"\\n======================================\\n\")"
   ]
  },
  {
   "cell_type": "code",
   "execution_count": null,
   "id": "4f5e2923-0dac-4162-8706-970d3243f997",
   "metadata": {},
   "outputs": [],
   "source": [
    "regressor.plot_predictions(y_hat, y_test, 1, pretty=True)"
   ]
  }
 ],
 "metadata": {
  "kernelspec": {
   "display_name": "Python 3 (ipykernel)",
   "language": "python",
   "name": "python3"
  },
  "language_info": {
   "codemirror_mode": {
    "name": "ipython",
    "version": 3
   },
   "file_extension": ".py",
   "mimetype": "text/x-python",
   "name": "python",
   "nbconvert_exporter": "python",
   "pygments_lexer": "ipython3",
   "version": "3.11.4"
  }
 },
 "nbformat": 4,
 "nbformat_minor": 5
}
