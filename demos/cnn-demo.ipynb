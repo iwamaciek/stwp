{
 "cells": [
  {
   "cell_type": "code",
   "execution_count": 1,
   "metadata": {
    "tags": []
   },
   "outputs": [
    {
     "name": "stderr",
     "output_type": "stream",
     "text": [
      "c:\\Users\\iwama\\Desktop\\Maciej\\Eng\\meteoapp-data\\venv\\lib\\site-packages\\gribapi\\__init__.py:23: UserWarning: ecCodes 2.31.0 or higher is recommended. You are running version 2.27.0\n",
      "  warnings.warn(\n"
     ]
    }
   ],
   "source": [
    "import sys\n",
    "sys.path.append('..')\n",
    "\n",
    "from models.cnn.trainer import Trainer"
   ]
  },
  {
   "cell_type": "code",
   "execution_count": 2,
   "metadata": {
    "tags": []
   },
   "outputs": [],
   "source": [
    "trainer = Trainer()"
   ]
  },
  {
   "cell_type": "code",
   "execution_count": 3,
   "metadata": {
    "tags": []
   },
   "outputs": [],
   "source": [
    "# trainer.load_model('model_state_cnn_fh_1.pt')"
   ]
  },
  {
   "cell_type": "code",
   "execution_count": null,
   "metadata": {
    "tags": []
   },
   "outputs": [],
   "source": [
    "trainer.train(1000)\n",
    "#done"
   ]
  },
  {
   "cell_type": "code",
   "execution_count": 5,
   "metadata": {
    "tags": []
   },
   "outputs": [
    {
     "name": "stdout",
     "output_type": "stream",
     "text": [
      "RMSE for t2m: 1.6919855692010146; MAE for t2m: 1.2696880128825907;\n",
      "RMSE for sp: 1.3225792603409856; MAE for sp: 0.993548262051931;\n",
      "RMSE for tcc: 0.2868512455683077; MAE for tcc: 0.19377891355637614;\n",
      "RMSE for u10: 1.3093819830557705; MAE for u10: 0.9765637953555617;\n",
      "RMSE for v10: 1.2716058053350747; MAE for v10: 0.9370431075689475;\n",
      "RMSE for tp: 0.3050391247157081; MAE for tp: 0.08214936769266837;\n"
     ]
    }
   ],
   "source": [
    "rmse, y_hat = trainer.evaluate(\"test\")"
   ]
  },
  {
   "cell_type": "code",
   "execution_count": 6,
   "metadata": {},
   "outputs": [
    {
     "name": "stdout",
     "output_type": "stream",
     "text": [
      "RMSE for t2m: 1.6752161797182044; MAE for t2m: 1.2708409951410211;\n",
      "RMSE for sp: 1.4054457217811258; MAE for sp: 1.0278769151959104;\n",
      "RMSE for tcc: 0.2928279491571064; MAE for tcc: 0.19920485977658642;\n",
      "RMSE for u10: 1.3292731316291553; MAE for u10: 0.986629246439973;\n",
      "RMSE for v10: 1.2915481457007367; MAE for v10: 0.9455801061792108;\n",
      "RMSE for tp: 0.3017690696693449; MAE for tp: 0.08183330512372013;\n"
     ]
    }
   ],
   "source": [
    "_ = trainer.evaluate(\"val\")"
   ]
  },
  {
   "cell_type": "code",
   "execution_count": 7,
   "metadata": {},
   "outputs": [
    {
     "name": "stdout",
     "output_type": "stream",
     "text": [
      "RMSE for t2m: 1.606069689888612; MAE for t2m: 1.211806523748046;\n",
      "RMSE for sp: 1.330766810168166; MAE for sp: 0.9875244542227125;\n",
      "RMSE for tcc: 0.28505570321210866; MAE for tcc: 0.1942108798150933;\n",
      "RMSE for u10: 1.2453924501900897; MAE for u10: 0.9129533500460814;\n",
      "RMSE for v10: 1.2201558141859339; MAE for v10: 0.8874124024563651;\n",
      "RMSE for tp: 0.2662624715507769; MAE for tp: 0.07071644674298815;\n"
     ]
    }
   ],
   "source": [
    "_ = trainer.evaluate(\"train\")"
   ]
  },
  {
   "cell_type": "code",
   "execution_count": null,
   "metadata": {},
   "outputs": [],
   "source": [
    "trainer.plot_predictions(data_type='test', pretty=False)"
   ]
  },
  {
   "cell_type": "code",
   "execution_count": 9,
   "metadata": {
    "tags": []
   },
   "outputs": [],
   "source": [
    "trainer.save_prediction_tensor(y_hat, path='prediction_tensor_cnn_new_real.pt')"
   ]
  },
  {
   "cell_type": "code",
   "execution_count": 4,
   "metadata": {},
   "outputs": [
    {
     "name": "stdout",
     "output_type": "stream",
     "text": [
      "RMSE for t2m: 0.20571558239252474; MAE for t2m: 0.154369554154288;\n",
      "RMSE for sp: 0.0546921972629527; MAE for sp: 0.041084317733544956;\n",
      "RMSE for tcc: 0.7767842672942566; MAE for tcc: 0.5258929919992062;\n",
      "RMSE for u10: 0.3934424683654931; MAE for u10: 0.2934368987705869;\n",
      "RMSE for v10: 0.44426956472907375; MAE for v10: 0.32738303714703604;\n",
      "RMSE for tp: 1.1005377807336127; MAE for tp: 0.2963824105719532;\n"
     ]
    }
   ],
   "source": [
    "rmse_norm, y_hat_norm = trainer.evaluate(\"test\", inverse_norm=False)"
   ]
  },
  {
   "cell_type": "code",
   "execution_count": 5,
   "metadata": {},
   "outputs": [],
   "source": [
    "trainer.save_prediction_tensor(y_hat_norm, path='prediction_tensor_cnn_new_norm.pt')"
   ]
  },
  {
   "cell_type": "code",
   "execution_count": 7,
   "metadata": {},
   "outputs": [
    {
     "data": {
      "text/plain": [
       "0.49590697679631895"
      ]
     },
     "execution_count": 7,
     "metadata": {},
     "output_type": "execute_result"
    }
   ],
   "source": [
    "import numpy as np\n",
    "rmse_norm = rmse_norm[0]\n",
    "np.mean(rmse_norm)"
   ]
  }
 ],
 "metadata": {
  "kernelspec": {
   "display_name": "Python 3 (ipykernel)",
   "language": "python",
   "name": "python3"
  },
  "language_info": {
   "codemirror_mode": {
    "name": "ipython",
    "version": 3
   },
   "file_extension": ".py",
   "mimetype": "text/x-python",
   "name": "python",
   "nbconvert_exporter": "python",
   "pygments_lexer": "ipython3",
   "version": "3.10.9"
  }
 },
 "nbformat": 4,
 "nbformat_minor": 4
}
