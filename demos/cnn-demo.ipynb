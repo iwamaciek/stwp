{
 "cells": [
  {
   "cell_type": "code",
   "execution_count": 1,
   "metadata": {
    "tags": []
   },
   "outputs": [
    {
     "name": "stderr",
     "output_type": "stream",
     "text": [
      "/home/kamil/Desktop/git/meteoapp-data/venv/lib/python3.11/site-packages/gribapi/__init__.py:23: UserWarning: ecCodes 2.31.0 or higher is recommended. You are running version 2.30.0\n",
      "  warnings.warn(\n"
     ]
    }
   ],
   "source": [
    "import sys\n",
    "sys.path.append('..')\n",
    "\n",
    "from models.cnn.trainer import Trainer"
   ]
  },
  {
   "cell_type": "code",
   "execution_count": 2,
   "metadata": {
    "tags": []
   },
   "outputs": [],
   "source": [
    "trainer = Trainer()"
   ]
  },
  {
   "cell_type": "code",
   "execution_count": null,
   "metadata": {},
   "outputs": [],
   "source": [
    "from models.config import config as cfg\n",
    "cfg.FH = 1\n",
    "cfg.INPUT_SIZE = 4\n",
    "cfg.SCALER_TYPE = 'robust'\n",
    "trainer.update_config(cfg)"
   ]
  },
  {
   "cell_type": "code",
   "execution_count": null,
   "metadata": {
    "tags": []
   },
   "outputs": [],
   "source": [
    "trainer.train(2)"
   ]
  },
  {
   "cell_type": "code",
   "execution_count": 4,
   "metadata": {},
   "outputs": [],
   "source": [
    "# trainer.load_model(\"./model_state.pt\")"
   ]
  },
  {
   "cell_type": "code",
   "execution_count": 4,
   "metadata": {
    "tags": []
   },
   "outputs": [
    {
     "name": "stdout",
     "output_type": "stream",
     "text": [
      "RMSE for t2m: 2.922577357009479; MAE for t2m: 2.313259467364046;\n",
      "RMSE for sp: 5.036614898966658; MAE for sp: 4.010803671352146;\n",
      "RMSE for tcc: 0.3659820240937233; MAE for tcc: 0.29493546619016076;\n",
      "RMSE for u10: 2.89915892195621; MAE for u10: 2.279375548342127;\n",
      "RMSE for v10: 1.8029109163027426; MAE for v10: 1.389097178298621;\n",
      "RMSE for tp: 0.00031321285256841473; MAE for tp: 8.581334918252224e-05;\n"
     ]
    }
   ],
   "source": [
    "trainer.evaluate(\"test\")"
   ]
  },
  {
   "cell_type": "code",
   "execution_count": 6,
   "metadata": {},
   "outputs": [
    {
     "name": "stdout",
     "output_type": "stream",
     "text": [
      "RMSE for t2m: 1.7199010992144435; MAE for t2m: 1.2956242564357001;\n",
      "RMSE for sp: 1.6058434180958425; MAE for sp: 1.2086651795860583;\n",
      "RMSE for tcc: 0.2864882132224856; MAE for tcc: 0.19461334342803469;\n",
      "RMSE for u10: 1.3194578957003176; MAE for u10: 0.9767489859532124;\n",
      "RMSE for v10: 1.3084604815870122; MAE for v10: 0.9633588356592744;\n",
      "RMSE for tp: 0.00029559497975706773; MAE for tp: 8.042210990307226e-05;\n"
     ]
    }
   ],
   "source": [
    "trainer.evaluate(\"val\")"
   ]
  },
  {
   "cell_type": "code",
   "execution_count": 9,
   "metadata": {},
   "outputs": [
    {
     "name": "stdout",
     "output_type": "stream",
     "text": [
      "RMSE for t2m: 1.6056668295087637; MAE for t2m: 1.2082205399936867;\n",
      "RMSE for sp: 1.5577218743349266; MAE for sp: 1.1523502682255968;\n",
      "RMSE for tcc: 0.2831834624643187; MAE for tcc: 0.18972778240979785;\n",
      "RMSE for u10: 1.2559222658496183; MAE for u10: 0.9218666984553306;\n",
      "RMSE for v10: 1.2492818163076784; MAE for v10: 0.9100379483323733;\n",
      "RMSE for tp: 0.0003078040717901862; MAE for tp: 8.25371774694316e-05;\n"
     ]
    }
   ],
   "source": [
    "trainer.evaluate(\"train\")"
   ]
  },
  {
   "cell_type": "code",
   "execution_count": null,
   "metadata": {},
   "outputs": [],
   "source": [
    "trainer.plot_predictions(data_type='test', pretty=False)"
   ]
  },
  {
   "cell_type": "code",
   "execution_count": null,
   "metadata": {},
   "outputs": [],
   "source": [
    "trainer.plot_predictions(data_type='train')"
   ]
  }
 ],
 "metadata": {
  "kernelspec": {
   "display_name": "Python 3 (ipykernel)",
   "language": "python",
   "name": "python3"
  },
  "language_info": {
   "codemirror_mode": {
    "name": "ipython",
    "version": 3
   },
   "file_extension": ".py",
   "mimetype": "text/x-python",
   "name": "python",
   "nbconvert_exporter": "python",
   "pygments_lexer": "ipython3",
   "version": "3.11.4"
  }
 },
 "nbformat": 4,
 "nbformat_minor": 4
}
