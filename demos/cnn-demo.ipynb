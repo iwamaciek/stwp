{
 "cells": [
  {
   "cell_type": "code",
   "execution_count": 1,
   "metadata": {
    "tags": []
   },
   "outputs": [
    {
     "name": "stderr",
     "output_type": "stream",
     "text": [
      "/home/kamil/Desktop/git/meteoapp-data/venv/lib/python3.11/site-packages/gribapi/__init__.py:23: UserWarning: ecCodes 2.31.0 or higher is recommended. You are running version 2.30.0\n",
      "  warnings.warn(\n"
     ]
    }
   ],
   "source": [
    "import sys\n",
    "sys.path.append('..')\n",
    "\n",
    "from models.cnn.trainer import Trainer"
   ]
  },
  {
   "cell_type": "code",
   "execution_count": 2,
   "metadata": {
    "tags": []
   },
   "outputs": [],
   "source": [
    "trainer = Trainer()"
   ]
  },
  {
   "cell_type": "code",
   "execution_count": 3,
   "metadata": {
    "tags": []
   },
   "outputs": [],
   "source": [
    "trainer.load_model('model_state_cnn_fh_1.pt')"
   ]
  },
  {
   "cell_type": "code",
   "execution_count": null,
   "metadata": {
    "tags": []
   },
   "outputs": [],
   "source": [
    "# trainer.train(2000)"
   ]
  },
  {
   "cell_type": "code",
   "execution_count": null,
   "metadata": {},
   "outputs": [],
   "source": [
    "# torch.save(trainer.model.state_dict(), \"./model_state.pt\")"
   ]
  },
  {
   "cell_type": "code",
   "execution_count": 4,
   "metadata": {
    "tags": []
   },
   "outputs": [
    {
     "name": "stdout",
     "output_type": "stream",
     "text": [
      "RMSE for t2m: 1.6983488051110296; MAE for t2m: 1.263247700406516;\n",
      "RMSE for sp: 1.5303385272854; MAE for sp: 1.1686171780985422;\n",
      "RMSE for tcc: 0.2884524191156457; MAE for tcc: 0.19099007875603205;\n",
      "RMSE for u10: 1.2263244017470716; MAE for u10: 0.9079949140672632;\n",
      "RMSE for v10: 1.1979028794015363; MAE for v10: 0.8840501536595762;\n",
      "RMSE for tp: 0.2961901042626651; MAE for tp: 0.08129562762062588;\n"
     ]
    }
   ],
   "source": [
    "_, y_hat = trainer.evaluate(\"test\")"
   ]
  },
  {
   "cell_type": "code",
   "execution_count": 6,
   "metadata": {},
   "outputs": [
    {
     "name": "stdout",
     "output_type": "stream",
     "text": [
      "RMSE for t2m: 1.7199010992144435; MAE for t2m: 1.2956242564357001;\n",
      "RMSE for sp: 1.6058434180958425; MAE for sp: 1.2086651795860583;\n",
      "RMSE for tcc: 0.2864882132224856; MAE for tcc: 0.19461334342803469;\n",
      "RMSE for u10: 1.3194578957003176; MAE for u10: 0.9767489859532124;\n",
      "RMSE for v10: 1.3084604815870122; MAE for v10: 0.9633588356592744;\n",
      "RMSE for tp: 0.00029559497975706773; MAE for tp: 8.042210990307226e-05;\n"
     ]
    }
   ],
   "source": [
    "_ = trainer.evaluate(\"val\")"
   ]
  },
  {
   "cell_type": "code",
   "execution_count": 9,
   "metadata": {},
   "outputs": [
    {
     "name": "stdout",
     "output_type": "stream",
     "text": [
      "RMSE for t2m: 1.6056668295087637; MAE for t2m: 1.2082205399936867;\n",
      "RMSE for sp: 1.5577218743349266; MAE for sp: 1.1523502682255968;\n",
      "RMSE for tcc: 0.2831834624643187; MAE for tcc: 0.18972778240979785;\n",
      "RMSE for u10: 1.2559222658496183; MAE for u10: 0.9218666984553306;\n",
      "RMSE for v10: 1.2492818163076784; MAE for v10: 0.9100379483323733;\n",
      "RMSE for tp: 0.0003078040717901862; MAE for tp: 8.25371774694316e-05;\n"
     ]
    }
   ],
   "source": [
    "_ = trainer.evaluate(\"train\")"
   ]
  },
  {
   "cell_type": "code",
   "execution_count": null,
   "metadata": {},
   "outputs": [],
   "source": [
    "trainer.plot_predictions(data_type='test', pretty=False)"
   ]
  },
  {
   "cell_type": "code",
   "execution_count": 5,
   "metadata": {
    "tags": []
   },
   "outputs": [],
   "source": [
    "trainer.save_prediction_tensor(y_hat)"
   ]
  },
  {
   "cell_type": "code",
   "execution_count": 8,
   "metadata": {
    "tags": []
   },
   "outputs": [
    {
     "data": {
      "text/plain": [
       "[3, 4, 5]"
      ]
     },
     "execution_count": 8,
     "metadata": {},
     "output_type": "execute_result"
    }
   ],
   "source": [
    "t = [1,2,3,4, 5]\n",
    "t[-3:]"
   ]
  }
 ],
 "metadata": {
  "kernelspec": {
   "display_name": "Python 3 (ipykernel)",
   "language": "python",
   "name": "python3"
  },
  "language_info": {
   "codemirror_mode": {
    "name": "ipython",
    "version": 3
   },
   "file_extension": ".py",
   "mimetype": "text/x-python",
   "name": "python",
   "nbconvert_exporter": "python",
   "pygments_lexer": "ipython3",
   "version": "3.11.4"
  }
 },
 "nbformat": 4,
 "nbformat_minor": 4
}
