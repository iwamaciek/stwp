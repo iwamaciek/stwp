{
 "cells": [
  {
   "cell_type": "code",
   "execution_count": null,
   "id": "33d3b790-b15f-45d5-87ad-9695cfcc2a85",
   "metadata": {
    "tags": []
   },
   "outputs": [],
   "source": [
    "import torch\n",
    "import torch.nn as nn\n",
    "\n",
    "batch_size = 4\n",
    "\n",
    "\n",
    "class SampleConcatener(nn.Module):\n",
    "    def __init__(self, input_X_dim, input_t_dim, input_s_dim, output_dim, hidden=16):\n",
    "        super(SampleConcatener, self).__init__()\n",
    "        self.mlp_embedder = nn.Linear(input_X_dim, hidden)\n",
    "        self.temporal_embedder = nn.Linear(input_t_dim, lat*lon)\n",
    "        self.mlp_decoder = nn.Linear(hidden + 1 + input_s_dim, output_dim)\n",
    "\n",
    "    def forward(self, X, t, s):\n",
    "        X = self.mlp_embedder(X).relu()\n",
    "        print(X.shape)\n",
    "        # (batch, s, temp_features) -> (batch, 1, s*temp_features) -> (batch, 1, lat*lon) -> (batch, lat*lon, 1)\n",
    "        print(t.shape)\n",
    "        t = self.temporal_embedder(t.reshape(batch_size, 1, -1)).relu().permute((0,2,1))\n",
    "        print(t.shape)\n",
    "        print(s.shape)\n",
    "        concat = torch.cat((X, t, s), dim=-1)\n",
    "        print(concat.shape)\n",
    "        \n",
    "        print('----------')\n",
    "        print('GNN cells ...')                \n",
    "        output = self.mlp_decoder(concat)\n",
    "        print('----------')\n",
    "        print(output.shape)\n",
    "        return output\n",
    "\n",
    "lat = 32\n",
    "lon = 48    \n",
    "s = 3\n",
    "features = 6\n",
    "temp_features = 4\n",
    "spat_features = 6\n",
    "\n",
    "X = torch.randn(batch_size, lat*lon, s*features)\n",
    "temp_enc = torch.randn(batch_size, s, temp_features)\n",
    "spat_enc = torch.randn(batch_size, lat*lon, spat_features)\n",
    "\n",
    "model = SampleConcatener(input_X_dim=s*features, input_t_dim=s*temp_features, input_s_dim=spat_features, output_dim=features)\n",
    "\n",
    "output = model(X, temp_enc, spat_enc)\n"
   ]
  },
  {
   "cell_type": "code",
   "execution_count": null,
   "id": "62980d23",
   "metadata": {},
   "outputs": [],
   "source": [
    "import sys\n",
    "sys.path.append('..')\n",
    "from baselines.cnn.cnn import UNet\n",
    "import torch\n",
    "\n",
    "batch_size = 4\n",
    "lat = 32\n",
    "lon = 48    \n",
    "s = 3\n",
    "fh = 3\n",
    "features = 6\n",
    "temp_features = 4\n",
    "spat_features = 6\n",
    "\n",
    "X = torch.randn(batch_size, lat*lon, s*features)\n",
    "temp_enc = torch.randn(batch_size, s, temp_features)\n",
    "spat_enc = torch.randn(batch_size, lat*lon, spat_features)\n",
    "\n",
    "model = UNet(features, spat_features, temp_features, features, lat, lon, s, fh)\n",
    "\n",
    "output = model(X, temp_enc, spat_enc)"
   ]
  },
  {
   "cell_type": "code",
   "execution_count": null,
   "id": "7e586725",
   "metadata": {},
   "outputs": [],
   "source": [
    "import sys\n",
    "sys.path.append('..')\n",
    "from baselines.gnn.cgc_conv import CrystalGNN\n",
    "import torch\n",
    "\n",
    "batch_size = 4\n",
    "lat = 32\n",
    "lon = 48    \n",
    "s = 3\n",
    "fh = 3\n",
    "features = 6\n",
    "temp_features = 4\n",
    "spat_features = 6\n",
    "\n",
    "X = torch.randn(batch_size, lat*lon, s*features)\n",
    "temp_enc = torch.randn(batch_size, s, temp_features)\n",
    "spat_enc = torch.randn(batch_size, lat*lon, spat_features)\n",
    "edge_index = torch.randn(2, 70544)\n",
    "edge_attr = torch.randn(70544, 3)\n",
    "\n",
    "model = CrystalGNN(features, features, 3, 64, temp_features, spat_features)\n",
    "\n",
    "output = model(X, edge_index, edge_attr, temp_enc, spat_enc)"
   ]
  },
  {
   "cell_type": "code",
   "execution_count": 1,
   "id": "83dc2d93",
   "metadata": {},
   "outputs": [
    {
     "name": "stderr",
     "output_type": "stream",
     "text": [
      "c:\\Users\\iwama\\Desktop\\Maciej\\Eng\\meteoapp-data\\venv\\lib\\site-packages\\gribapi\\__init__.py:23: UserWarning: ecCodes 2.31.0 or higher is recommended. You are running version 2.27.0\n",
      "  warnings.warn(\n"
     ]
    },
    {
     "name": "stdout",
     "output_type": "stream",
     "text": [
      "Loaded data: (4384, 32, 48, 6)\n",
      "Loaded spatial data: (32, 48, 6)\n",
      "Loaded temporal data: (4384, 32, 48, 4)\n"
     ]
    }
   ],
   "source": [
    "import sys\n",
    "sys.path.append('..')\n",
    "from baselines.gnn.processor import NNDataProcessor\n",
    "\n",
    "nn_proc = NNDataProcessor(additional_encodings=True)"
   ]
  },
  {
   "cell_type": "code",
   "execution_count": 2,
   "id": "9d250311",
   "metadata": {},
   "outputs": [
    {
     "name": "stdout",
     "output_type": "stream",
     "text": [
      "AUTOREG_SEQ: (6, 32, 48, 6) (4384, 32, 48, 6)\n",
      "AUTOREG_SEQ_TP (32, 48, 4) (4384, 32, 48, 4)\n",
      "AUTOREG_SEQ_SPT (32, 48, 6) (32, 48, 6)\n",
      "LOADERS: ((4379, 1536, 6, 5), (4379, 1536, 6, 1), (4384, 32, 48, 4), (32, 48, 6))\n"
     ]
    }
   ],
   "source": [
    "nn_proc.preprocess(subset=None)"
   ]
  },
  {
   "cell_type": "code",
   "execution_count": 3,
   "id": "4610f6d2",
   "metadata": {},
   "outputs": [
    {
     "data": {
      "text/plain": [
       "DataBatch(x=[6144, 6, 5], edge_index=[2, 70544], edge_attr=[70544, 3], y=[6144, 6, 1], pos=[128, 48, 6], time=[128, 48, 4], batch=[6144], ptr=[5])"
      ]
     },
     "execution_count": 3,
     "metadata": {},
     "output_type": "execute_result"
    }
   ],
   "source": [
    "next(iter(nn_proc.train_loader))"
   ]
  },
  {
   "cell_type": "code",
   "execution_count": null,
   "id": "b7ba19fb",
   "metadata": {},
   "outputs": [],
   "source": []
  }
 ],
 "metadata": {
  "kernelspec": {
   "display_name": "Python 3 (ipykernel)",
   "language": "python",
   "name": "python3"
  },
  "language_info": {
   "codemirror_mode": {
    "name": "ipython",
    "version": 3
   },
   "file_extension": ".py",
   "mimetype": "text/x-python",
   "name": "python",
   "nbconvert_exporter": "python",
   "pygments_lexer": "ipython3",
   "version": "3.10.9"
  }
 },
 "nbformat": 4,
 "nbformat_minor": 5
}
