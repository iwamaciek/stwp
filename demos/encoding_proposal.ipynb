{
 "cells": [
  {
   "cell_type": "code",
   "execution_count": 17,
   "id": "33d3b790-b15f-45d5-87ad-9695cfcc2a85",
   "metadata": {
    "tags": []
   },
   "outputs": [
    {
     "name": "stdout",
     "output_type": "stream",
     "text": [
      "torch.Size([4, 1125, 32])\n",
      "torch.Size([4, 3, 3])\n",
      "torch.Size([4, 1125, 1])\n",
      "torch.Size([4, 1125, 3])\n",
      "torch.Size([4, 1125, 36])\n",
      "----------\n",
      "GNN cells ...\n",
      "----------\n",
      "torch.Size([4, 1125, 6])\n"
     ]
    }
   ],
   "source": [
    "import torch\n",
    "import torch.nn as nn\n",
    "\n",
    "batch_size = 4\n",
    "\n",
    "\n",
    "class SampleConcatener(nn.Module):\n",
    "    def __init__(self, input_X_dim, input_t_dim, input_s_dim, output_dim, hidden=32):\n",
    "        super(SampleConcatener, self).__init__()\n",
    "        self.mlp_embedder = nn.Linear(input_X_dim, hidden)\n",
    "        self.temporal_embedder = nn.Linear(input_t_dim, lat*lon)\n",
    "        self.mlp_decoder = nn.Linear(hidden + 1 + input_s_dim, output_dim)\n",
    "\n",
    "    def forward(self, X, t, s):\n",
    "        X = self.mlp_embedder(X).relu()\n",
    "        print(X.shape)\n",
    "        # (batch, s, temp_features) -> (batch, 1, s*temp_features) -> (batch, 1, lat*lon) -> (batch, lat*lon, 1)\n",
    "        print(t.shape)\n",
    "        t = self.temporal_embedder(t.reshape(batch_size, 1, -1)).relu().permute((0,2,1))\n",
    "        print(t.shape)\n",
    "        print(s.shape)\n",
    "        concat = torch.cat((X, t, s), dim=-1)\n",
    "        print(concat.shape)\n",
    "        \n",
    "        print('----------')\n",
    "        print('GNN cells ...')                \n",
    "        output = self.mlp_decoder(concat)\n",
    "        print('----------')\n",
    "        print(output.shape)\n",
    "        return output\n",
    "\n",
    "lat = 25\n",
    "lon = 45    \n",
    "s = 3\n",
    "features = 6\n",
    "temp_features = 3\n",
    "spat_features = 3\n",
    "\n",
    "X = torch.randn(batch_size, lat*lon, s*features)\n",
    "temp_enc = torch.randn(batch_size, s, temp_features)\n",
    "spat_enc = torch.randn(batch_size, lat*lon, spat_features)\n",
    "\n",
    "model = SampleConcatener(input_X_dim=s*features, input_t_dim=s*temp_features, input_s_dim=spat_features, output_dim=features)\n",
    "\n",
    "output = model(X, temp_enc, spat_enc)\n"
   ]
  }
 ],
 "metadata": {
  "kernelspec": {
   "display_name": "Python 3 (ipykernel)",
   "language": "python",
   "name": "python3"
  },
  "language_info": {
   "codemirror_mode": {
    "name": "ipython",
    "version": 3
   },
   "file_extension": ".py",
   "mimetype": "text/x-python",
   "name": "python",
   "nbconvert_exporter": "python",
   "pygments_lexer": "ipython3",
   "version": "3.11.4"
  }
 },
 "nbformat": 4,
 "nbformat_minor": 5
}
