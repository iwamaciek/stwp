{
 "cells": [
  {
   "cell_type": "code",
   "execution_count": 1,
   "id": "6f9401b2-eb52-4dbf-aee0-015ac3ece254",
   "metadata": {
    "tags": []
   },
   "outputs": [
    {
     "name": "stderr",
     "output_type": "stream",
     "text": [
      "/home/kamil/Desktop/git/meteoapp-data/venv/lib/python3.11/site-packages/gribapi/__init__.py:23: UserWarning: ecCodes 2.31.0 or higher is recommended. You are running version 2.30.0\n",
      "  warnings.warn(\n"
     ]
    }
   ],
   "source": [
    "import sys\n",
    "import torch\n",
    "import numpy as np\n",
    "sys.path.append('..')\n",
    "\n",
    "from exp.experiments import Analyzer\n",
    "from models.gnn.trainer import Trainer\n",
    "from models.data_processor import DataProcessor\n",
    "from models.tigge.tigge import evaluate_and_compare"
   ]
  },
  {
   "cell_type": "code",
   "execution_count": 2,
   "id": "0ae42ed4-c13b-4ca5-aeab-528f39a0eb8a",
   "metadata": {
    "tags": []
   },
   "outputs": [
    {
     "name": "stdout",
     "output_type": "stream",
     "text": [
      "(730, 25, 45, 6, 1) (730, 25, 45, 6)\n"
     ]
    }
   ],
   "source": [
    "anal = Analyzer()\n",
    "anal.err_corr_analysis()"
   ]
  },
  {
   "cell_type": "code",
   "execution_count": 12,
   "id": "7b8bcd22-6d2e-4649-8a2d-504014dcfc07",
   "metadata": {
    "tags": []
   },
   "outputs": [],
   "source": [
    "y_tigge = anal.pred_dir['tigge']\n",
    "# y_trans = anal.pred_dir['trans'][1::2][...,0] #[1::2]"
   ]
  },
  {
   "cell_type": "code",
   "execution_count": 6,
   "id": "e1301890-c574-4ffb-a50a-4f330de43feb",
   "metadata": {
    "tags": []
   },
   "outputs": [],
   "source": [
    "y_trans = anal.pred_dir['trans'][...,0][1:] #[1::2]"
   ]
  },
  {
   "cell_type": "code",
   "execution_count": null,
   "id": "65833f69-941b-4f5f-a87f-df4d66375db2",
   "metadata": {
    "tags": []
   },
   "outputs": [],
   "source": [
    "dp = DataProcessor() #data2021-small\n",
    "era_data = dp.data"
   ]
  },
  {
   "cell_type": "code",
   "execution_count": 7,
   "id": "8f86a9ec-9357-4702-894e-a3cbec417a55",
   "metadata": {
    "tags": []
   },
   "outputs": [
    {
     "data": {
      "text/plain": [
       "((1460, 25, 45, 6), (1460, 25, 45, 6))"
      ]
     },
     "execution_count": 7,
     "metadata": {},
     "output_type": "execute_result"
    }
   ],
   "source": [
    "# y_tigge.shape, era_data.shape, y_trans.shape\n",
    "era_data.shape, y_trans.shape"
   ]
  },
  {
   "cell_type": "code",
   "execution_count": null,
   "id": "65a84bd2-4b8d-4d47-88f8-3807fa8acd8d",
   "metadata": {
    "tags": []
   },
   "outputs": [],
   "source": [
    "evaluate_and_compare(era_data, y_tigge)"
   ]
  },
  {
   "cell_type": "code",
   "execution_count": 8,
   "id": "33d577dc-8b72-42ea-b700-8962bdd76173",
   "metadata": {
    "tags": []
   },
   "outputs": [
    {
     "name": "stdout",
     "output_type": "stream",
     "text": [
      "t2m => RMSE: 1.7930077861165832;  MAE: 1.3539515120125032;\n",
      "sp => RMSE: 1.5381066772001322;  MAE: 1.1529509630734518;\n",
      "tcc => RMSE: 0.281006596972285;  MAE: 0.1971589592738087;\n",
      "u10 => RMSE: 1.4177333270991737;  MAE: 1.0649893377400785;\n",
      "v10 => RMSE: 1.3015018259949631;  MAE: 0.9609891823832737;\n",
      "tp => RMSE: 0.3152253081643514;  MAE: 0.08465586301572653;\n"
     ]
    }
   ],
   "source": [
    "evaluate_and_compare(era_data, y_trans, max_samples=0)"
   ]
  },
  {
   "cell_type": "code",
   "execution_count": 10,
   "id": "aaa8d295-dfcc-4c9b-a010-5527c2ab8c94",
   "metadata": {
    "tags": []
   },
   "outputs": [
    {
     "name": "stdout",
     "output_type": "stream",
     "text": [
      "t2m => RMSE: 1.64403166263244;  MAE: 1.2458182128522168;\n",
      "sp => RMSE: 1.520734428205496;  MAE: 1.1339480858185882;\n",
      "tcc => RMSE: 0.28143243524604356;  MAE: 0.19803248949988753;\n",
      "u10 => RMSE: 1.373628890324636;  MAE: 1.0298831684615175;\n",
      "v10 => RMSE: 1.2805909171130287;  MAE: 0.9449756044317343;\n",
      "tp => RMSE: 0.3062834571472341;  MAE: 0.07876141432982586;\n"
     ]
    }
   ],
   "source": [
    "evaluate_and_compare(era_data[1::2], y_trans[1::2], max_samples=0)"
   ]
  },
  {
   "cell_type": "code",
   "execution_count": 13,
   "id": "e277d8ec-7560-47a6-a2ce-672726d90b67",
   "metadata": {
    "tags": []
   },
   "outputs": [
    {
     "name": "stdout",
     "output_type": "stream",
     "text": [
      "t2m => RMSE: 1.121565580368042;  MAE: 0.8163307309150696;\n",
      "sp => RMSE: 3.2407097816467285;  MAE: 1.7096079587936401;\n",
      "tcc => RMSE: 0.227899968624115;  MAE: 0.13517701625823975;\n",
      "u10 => RMSE: 0.6544181704521179;  MAE: 0.47210294008255005;\n",
      "v10 => RMSE: 0.6504940390586853;  MAE: 0.4704841375350952;\n",
      "tp => RMSE: 0.3138228952884674;  MAE: 0.08093658834695816;\n"
     ]
    }
   ],
   "source": [
    "evaluate_and_compare(era_data[1::2], y_tigge, max_samples=0)"
   ]
  }
 ],
 "metadata": {
  "kernelspec": {
   "display_name": "Python 3 (ipykernel)",
   "language": "python",
   "name": "python3"
  },
  "language_info": {
   "codemirror_mode": {
    "name": "ipython",
    "version": 3
   },
   "file_extension": ".py",
   "mimetype": "text/x-python",
   "name": "python",
   "nbconvert_exporter": "python",
   "pygments_lexer": "ipython3",
   "version": "3.11.4"
  }
 },
 "nbformat": 4,
 "nbformat_minor": 5
}
