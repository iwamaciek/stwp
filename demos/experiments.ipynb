{
 "cells": [
  {
   "cell_type": "code",
   "execution_count": null,
   "id": "6f9401b2-eb52-4dbf-aee0-015ac3ece254",
   "metadata": {
    "tags": []
   },
   "outputs": [],
   "source": [
    "import sys\n",
    "sys.path.append('..')\n",
    "\n",
    "from exp.experiments import Analyzer"
   ]
  },
  {
   "cell_type": "code",
   "execution_count": null,
   "id": "0ae42ed4-c13b-4ca5-aeab-528f39a0eb8a",
   "metadata": {
    "tags": []
   },
   "outputs": [],
   "source": [
    "anal = Analyzer()\n",
    "anal.init()"
   ]
  },
  {
   "cell_type": "code",
   "execution_count": null,
   "id": "e066f61f-b00a-4332-a69e-6b93f7de5476",
   "metadata": {
    "tags": []
   },
   "outputs": [],
   "source": [
    "anal.generate_error_maps(save=True)"
   ]
  },
  {
   "cell_type": "code",
   "execution_count": null,
   "id": "674c9b3c-28b7-4c34-b41a-b503a85bb318",
   "metadata": {
    "tags": []
   },
   "outputs": [],
   "source": [
    "anal.generate_full_metrics(latex=True)"
   ]
  },
  {
   "cell_type": "code",
   "execution_count": null,
   "id": "ba99e062-c176-4d00-8233-da6094c8c571",
   "metadata": {
    "tags": []
   },
   "outputs": [],
   "source": [
    "anal.plot_err_corr_matrix(save=True)"
   ]
  },
  {
   "cell_type": "code",
   "execution_count": null,
   "id": "b1b8926b-b026-4c4f-9889-86cbd32a2941",
   "metadata": {
    "tags": []
   },
   "outputs": [],
   "source": [
    "# anal.plot_pred_corr_matrix(save=True)"
   ]
  },
  {
   "cell_type": "code",
   "execution_count": null,
   "id": "a96b26e0-9889-4490-83db-e1b076b598a9",
   "metadata": {},
   "outputs": [],
   "source": [
    "anal.plot_feature_distributions('hist', save=False)"
   ]
  },
  {
   "cell_type": "code",
   "execution_count": null,
   "id": "52bb0fff-521d-4cfb-ab04-e02c6b8d7154",
   "metadata": {
    "tags": []
   },
   "outputs": [],
   "source": [
    "anal.plot_feature_distributions(save=True, stats=True)"
   ]
  },
  {
   "cell_type": "code",
   "execution_count": null,
   "id": "52c83d0a-93a0-4093-bc08-2e11207298c4",
   "metadata": {
    "tags": []
   },
   "outputs": [],
   "source": [
    "anal.best_with_tigge_approx(verbose=True, plot=True, save=True)"
   ]
  }
 ],
 "metadata": {
  "kernelspec": {
   "display_name": "Python 3 (ipykernel)",
   "language": "python",
   "name": "python3"
  },
  "language_info": {
   "codemirror_mode": {
    "name": "ipython",
    "version": 3
   },
   "file_extension": ".py",
   "mimetype": "text/x-python",
   "name": "python",
   "nbconvert_exporter": "python",
   "pygments_lexer": "ipython3",
   "version": "3.11.4"
  }
 },
 "nbformat": 4,
 "nbformat_minor": 5
}
