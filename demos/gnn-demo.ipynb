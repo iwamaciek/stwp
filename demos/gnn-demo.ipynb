{
 "cells": [
  {
   "cell_type": "code",
   "execution_count": 1,
   "id": "3a8222fd-8e11-49eb-8772-859ae12314bc",
   "metadata": {
    "tags": []
   },
   "outputs": [
    {
     "name": "stderr",
     "output_type": "stream",
     "text": [
      "/home/kamil/Desktop/git/meteoapp-data/venv/lib/python3.11/site-packages/gribapi/__init__.py:23: UserWarning: ecCodes 2.31.0 or higher is recommended. You are running version 2.30.0\n",
      "  warnings.warn(\n"
     ]
    }
   ],
   "source": [
    "import sys\n",
    "import time\n",
    "sys.path.append('..')\n",
    "\n",
    "from models.gnn.trainer import Trainer"
   ]
  },
  {
   "cell_type": "code",
   "execution_count": 2,
   "id": "b3e96222-4498-45e5-ab0b-dab20c2fcf2c",
   "metadata": {
    "tags": []
   },
   "outputs": [
    {
     "name": "stdout",
     "output_type": "stream",
     "text": [
      "Elapsed time: 114.48478937149048 [s]\n"
     ]
    }
   ],
   "source": [
    "start = time.time()\n",
    "trainer = Trainer(architecture='trans', hidden_dim=32, lr=1e-3)\n",
    "trainer.load_model(\"BEST_l1.pt\")\n",
    "stop = time.time()\n",
    "print(f'Elapsed time: {stop-start} [s]') "
   ]
  },
  {
   "cell_type": "code",
   "execution_count": 3,
   "id": "dac5482f-b07c-49e3-8682-40b2fc3832b5",
   "metadata": {
    "tags": []
   },
   "outputs": [],
   "source": [
    "# from models.config import config as cfg\n",
    "# cfg.FH = 1\n",
    "# cfg.INPUT_SIZE = 4\n",
    "# cfg.SCALER_TYPE = 'standard'\n",
    "# trainer.update_config(cfg)"
   ]
  },
  {
   "cell_type": "code",
   "execution_count": null,
   "id": "2d6de798-a0fb-420a-b971-74729cc18100",
   "metadata": {
    "tags": []
   },
   "outputs": [],
   "source": [
    "trainer.train(num_epochs=500)"
   ]
  },
  {
   "cell_type": "code",
   "execution_count": 5,
   "id": "fcdf3215-d13d-4de5-8670-f6b5e61ad345",
   "metadata": {},
   "outputs": [],
   "source": [
    "# trainer.plot_predictions(\"train\")\n",
    "# trainer.plot_predictions(\"val\")\n",
    "# trainer.plot_predictions(\"test\")"
   ]
  },
  {
   "cell_type": "code",
   "execution_count": 3,
   "id": "c7ab0e2f-6950-4ea7-aae5-3ac46758a123",
   "metadata": {
    "tags": []
   },
   "outputs": [
    {
     "name": "stdout",
     "output_type": "stream",
     "text": [
      "RMSE for t2m: 1.4325550706718009; MAE for t2m: 1.0750564219596115;\n",
      "RMSE for sp: 1.2514103381680122; MAE for sp: 0.9244588923039944;\n",
      "RMSE for tcc: 0.26528681769966955; MAE for tcc: 0.17490960760576268;\n",
      "RMSE for u10: 1.0427637414255018; MAE for u10: 0.7590871985539557;\n",
      "RMSE for v10: 1.0294257969533278; MAE for v10: 0.7452796906717724;\n",
      "RMSE for tp: 0.25362178284106246; MAE for tp: 0.06637291237796332;\n"
     ]
    }
   ],
   "source": [
    "trainer.evaluate(\"train\")"
   ]
  },
  {
   "cell_type": "code",
   "execution_count": 4,
   "id": "729d171b-9058-4e1b-a72c-ebcd31ac9768",
   "metadata": {},
   "outputs": [
    {
     "name": "stdout",
     "output_type": "stream",
     "text": [
      "RMSE for t2m: 1.5441382852369978; MAE for t2m: 1.1632662105347815;\n",
      "RMSE for sp: 1.3242454101184011; MAE for sp: 0.9863059607646624;\n",
      "RMSE for tcc: 0.2859517797707127; MAE for tcc: 0.19009671048822696;\n",
      "RMSE for u10: 1.1504644019042691; MAE for u10: 0.8446400376818288;\n",
      "RMSE for v10: 1.149271711882675; MAE for v10: 0.8345872735968527;\n",
      "RMSE for tp: 0.30030378085793447; MAE for tp: 0.08431691925520401;\n"
     ]
    }
   ],
   "source": [
    "trainer.evaluate(\"val\")"
   ]
  },
  {
   "cell_type": "code",
   "execution_count": 5,
   "id": "07b0f57d-cef3-44e0-b44c-39c5e124e99b",
   "metadata": {
    "tags": []
   },
   "outputs": [
    {
     "name": "stdout",
     "output_type": "stream",
     "text": [
      "RMSE for t2m: 1.5446063609725251; MAE for t2m: 1.164306732960036;\n",
      "RMSE for sp: 1.3082115291212322; MAE for sp: 0.9630686472414728;\n",
      "RMSE for tcc: 0.2903101751066262; MAE for tcc: 0.1950518688025081;\n",
      "RMSE for u10: 1.1676357195393514; MAE for u10: 0.8522543416804462;\n",
      "RMSE for v10: 1.1513557331349709; MAE for v10: 0.833717433663296;\n",
      "RMSE for tp: 0.29056722638875115; MAE for tp: 0.07897451767723282;\n"
     ]
    }
   ],
   "source": [
    "trainer.evaluate(\"test\")"
   ]
  }
 ],
 "metadata": {
  "kernelspec": {
   "display_name": "Python 3 (ipykernel)",
   "language": "python",
   "name": "python3"
  },
  "language_info": {
   "codemirror_mode": {
    "name": "ipython",
    "version": 3
   },
   "file_extension": ".py",
   "mimetype": "text/x-python",
   "name": "python",
   "nbconvert_exporter": "python",
   "pygments_lexer": "ipython3",
   "version": "3.11.4"
  }
 },
 "nbformat": 4,
 "nbformat_minor": 5
}
