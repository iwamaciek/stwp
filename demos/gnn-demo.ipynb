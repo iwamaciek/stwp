{
 "cells": [
  {
   "cell_type": "code",
   "execution_count": 1,
   "id": "3a8222fd-8e11-49eb-8772-859ae12314bc",
   "metadata": {
    "tags": []
   },
   "outputs": [
    {
     "name": "stderr",
     "output_type": "stream",
     "text": [
      "/home/kamil/Desktop/git/meteoapp-data/venv/lib/python3.11/site-packages/gribapi/__init__.py:23: UserWarning: ecCodes 2.31.0 or higher is recommended. You are running version 2.30.0\n",
      "  warnings.warn(\n"
     ]
    }
   ],
   "source": [
    "import sys\n",
    "import time\n",
    "sys.path.append('..')\n",
    "\n",
    "from models.gnn.trainer import Trainer"
   ]
  },
  {
   "cell_type": "code",
   "execution_count": null,
   "id": "b3e96222-4498-45e5-ab0b-dab20c2fcf2c",
   "metadata": {
    "tags": []
   },
   "outputs": [],
   "source": [
    "start = time.time()\n",
    "trainer = Trainer(architecture='trans', hidden_dim=32, lr=1e-3)\n",
    "trainer.load_model(\"l1_600e_res.pt\")\n",
    "stop = time.time()\n",
    "print(f'Elapsed time: {stop-start} [s]') "
   ]
  },
  {
   "cell_type": "code",
   "execution_count": 3,
   "id": "2d6de798-a0fb-420a-b971-74729cc18100",
   "metadata": {
    "tags": []
   },
   "outputs": [],
   "source": [
    "# trainer.train(num_epochs=500)"
   ]
  },
  {
   "cell_type": "code",
   "execution_count": 4,
   "id": "07b0f57d-cef3-44e0-b44c-39c5e124e99b",
   "metadata": {
    "tags": []
   },
   "outputs": [
    {
     "name": "stdout",
     "output_type": "stream",
     "text": [
      "RMSE for t2m: 1.5664789828124308; MAE for t2m: 1.1748658535395688;\n",
      "RMSE for sp: 1.2286256743504924; MAE for sp: 0.8987901433732485;\n",
      "RMSE for tcc: 0.290916313404349; MAE for tcc: 0.19480444896208457;\n",
      "RMSE for u10: 1.1454495013005574; MAE for u10: 0.8296560492364563;\n",
      "RMSE for v10: 1.1355826692097049; MAE for v10: 0.8198327056509561;\n",
      "RMSE for tp: 0.2945708606513442; MAE for tp: 0.07817083259451174;\n"
     ]
    }
   ],
   "source": [
    "_, y_hat = trainer.evaluate(\"test\")"
   ]
  },
  {
   "cell_type": "code",
   "execution_count": null,
   "id": "0079ac63-782d-42cf-8f88-3c679d185e4e",
   "metadata": {
    "tags": []
   },
   "outputs": [],
   "source": [
    "# trainer.plot_predictions(\"test\", pretty=True)"
   ]
  },
  {
   "cell_type": "code",
   "execution_count": 8,
   "id": "29a8dbd3-bfc8-48f4-a4d6-803ddc4a3281",
   "metadata": {
    "tags": []
   },
   "outputs": [],
   "source": [
    "trainer.save_prediction_tensor(y_hat)"
   ]
  }
 ],
 "metadata": {
  "kernelspec": {
   "display_name": "Python 3 (ipykernel)",
   "language": "python",
   "name": "python3"
  },
  "language_info": {
   "codemirror_mode": {
    "name": "ipython",
    "version": 3
   },
   "file_extension": ".py",
   "mimetype": "text/x-python",
   "name": "python",
   "nbconvert_exporter": "python",
   "pygments_lexer": "ipython3",
   "version": "3.11.4"
  }
 },
 "nbformat": 4,
 "nbformat_minor": 5
}
