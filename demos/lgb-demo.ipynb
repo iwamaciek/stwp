{
 "cells": [
  {
   "cell_type": "code",
   "execution_count": 1,
   "id": "aee760cf-6afa-48de-9bb9-16c015668644",
   "metadata": {
    "tags": []
   },
   "outputs": [
    {
     "name": "stderr",
     "output_type": "stream",
     "text": [
      "/home/kamil/Desktop/git/meteoapp-data/venv/lib/python3.11/site-packages/gribapi/__init__.py:23: UserWarning: ecCodes 2.31.0 or higher is recommended. You are running version 2.30.0\n",
      "  warnings.warn(\n"
     ]
    }
   ],
   "source": [
    "import cfgrib\n",
    "import numpy as np\n",
    "import matplotlib.pyplot as plt\n",
    "import sys\n",
    "sys.path.append(\"..\")\n",
    "\n",
    "from baselines.data_processor import DataProcessor\n",
    "from baselines.lgb.lgb_regressor import LightGBMRegressor"
   ]
  },
  {
   "cell_type": "code",
   "execution_count": null,
   "id": "e2e202e2-cd71-4dc3-b3ff-04850eba35b7",
   "metadata": {
    "tags": []
   },
   "outputs": [],
   "source": [
    "data, feature_list = DataProcessor.load_data()\n",
    "s = 5\n",
    "fh = 1\n",
    "\n",
    "processor = DataProcessor(data)\n",
    "X, y = processor.preprocess(s, fh, use_neighbours=False)\n",
    "X_train, X_test, y_train, y_test = processor.train_test_split(X, y)"
   ]
  },
  {
   "cell_type": "code",
   "execution_count": null,
   "id": "c116dbe0-b919-49cc-b0cd-029837c5bbff",
   "metadata": {
    "tags": []
   },
   "outputs": [],
   "source": [
    "from time import time \n",
    "start = time()\n",
    "\n",
    "regressor = LightGBMRegressor(X.shape, fh, feature_list)\n",
    "regressor.train(X_train, y_train, normalize=True)\n",
    "_ = regressor.predict_and_evaluate(X_test, y_test, max_samples=1)\n",
    "print()\n",
    "    \n",
    "stop = time()\n",
    "print('\\n', stop-start, '[S]')"
   ]
  },
  {
   "cell_type": "markdown",
   "id": "5a359bb5-b9d6-4aab-a953-975dc7404f4b",
   "metadata": {},
   "source": [
    "Best score s=5; fh=1\n",
    "\n",
    "Evaluation metrics for entire test set:\n",
    "\n",
    "t2m => RMSE: 1.746;  MAE: 1.329; SE: 0.006537278974024278\n",
    "\n",
    "tcc => RMSE: 1.664;  MAE: 1.159; SE: 0.016475133023174895\n",
    "\n",
    "u10 => RMSE: 0.286;  MAE: 0.228; SE: 0.00028511130329099296\n",
    "\n",
    "v10 => RMSE: 1.475;  MAE: 1.093; SE: 0.0024523385946696313\n",
    "\n",
    "tp => RMSE: 1.48;  MAE: 1.09; SE: 0.0020262920120716933\n",
    "\n",
    "sp => RMSE: 0.0;  MAE: 0.0; SE: 2.2500528758443794e-077"
   ]
  }
 ],
 "metadata": {
  "kernelspec": {
   "display_name": "Python 3 (ipykernel)",
   "language": "python",
   "name": "python3"
  },
  "language_info": {
   "codemirror_mode": {
    "name": "ipython",
    "version": 3
   },
   "file_extension": ".py",
   "mimetype": "text/x-python",
   "name": "python",
   "nbconvert_exporter": "python",
   "pygments_lexer": "ipython3",
   "version": "3.11.4"
  }
 },
 "nbformat": 4,
 "nbformat_minor": 5
}
