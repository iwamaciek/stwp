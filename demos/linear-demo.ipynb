{
 "cells": [
  {
   "cell_type": "code",
   "execution_count": 1,
   "id": "93506f48-d252-4848-a80f-2b12f0de6893",
   "metadata": {
    "tags": []
   },
   "outputs": [
    {
     "name": "stderr",
     "output_type": "stream",
     "text": [
      "/home/kamil/Desktop/git/meteoapp-data/venv/lib/python3.11/site-packages/gribapi/__init__.py:23: UserWarning: ecCodes 2.31.0 or higher is recommended. You are running version 2.30.0\n",
      "  warnings.warn(\n"
     ]
    }
   ],
   "source": [
    "import cfgrib\n",
    "import numpy as np\n",
    "import matplotlib.pyplot as plt\n",
    "import sys\n",
    "sys.path.append(\"..\")\n",
    "\n",
    "from baselines.data_processor import DataProcessor\n",
    "from baselines.linear_reg.linear_regressor import LinearRegressor"
   ]
  },
  {
   "cell_type": "code",
   "execution_count": 2,
   "id": "89de6c9d-e235-4c5b-a340-78dc278bdff7",
   "metadata": {},
   "outputs": [],
   "source": [
    "data, feature_list = DataProcessor.load_data()\n",
    "s = 3\n",
    "fh = 2\n",
    "\n",
    "processor = DataProcessor(data)\n",
    "X, y = processor.preprocess(s, fh, use_neighbours=True)\n",
    "X_train, X_test, y_train, y_test = processor.train_test_split(X, y)"
   ]
  },
  {
   "cell_type": "code",
   "execution_count": 3,
   "id": "574de59d-69af-4335-a362-9a97098c117a",
   "metadata": {},
   "outputs": [
    {
     "data": {
      "text/plain": [
       "((2916, 25, 45, 5, 3, 6), (2916, 25, 45, 2, 6))"
      ]
     },
     "execution_count": 3,
     "metadata": {},
     "output_type": "execute_result"
    }
   ],
   "source": [
    "X.shape, y.shape"
   ]
  },
  {
   "cell_type": "code",
   "execution_count": null,
   "id": "454b49ab-5bbb-41aa-866d-6c7d96da8c28",
   "metadata": {
    "tags": []
   },
   "outputs": [],
   "source": [
    "from time import time \n",
    "start = time()\n",
    "\n",
    "available_reg = ['linear']\n",
    "for reg in available_reg:\n",
    "    print(f'<{reg.upper()}>')\n",
    "    linearreg = LinearRegressor(X.shape, fh, feature_list, regressor_type=reg)\n",
    "    linearreg.train(X_train, y_train)\n",
    "    _ = linearreg.predict_and_evaluate(X_test, y_test, max_samples=1)\n",
    "    print()\n",
    "    \n",
    "stop = time()\n",
    "print('\\n', stop-start, '[S]')"
   ]
  },
  {
   "cell_type": "code",
   "execution_count": null,
   "id": "edd2f71d-0190-417f-961d-5a3b070eb03e",
   "metadata": {},
   "outputs": [],
   "source": [
    "# WITHOUT NEIGHBOURS\n",
    "# =======================================\n",
    "# Evaluation metrics for entire test set:\n",
    "# =======================================\n",
    "# t2m => RMSE: 2.895; SE: 0.004622528557599638\n",
    "# tcc => RMSE: 2.419; SE: 0.011650039652808765\n",
    "# u10 => RMSE: 0.311; SE: 0.00020160681976281122\n",
    "# v10 => RMSE: 1.799; SE: 0.00173407108057958\n",
    "# tp => RMSE: 1.788; SE: 0.0014322600082531719\n",
    "# sp => RMSE: 0.0; SE: 1.5908941072379268e-07\n",
    "\n",
    "#  25.273911237716675 [S]\n",
    "\n",
    "# WITH NEIGHBOURS\n",
    "# =======================================\n",
    "# Evaluation metrics for entire test set:\n",
    "# =======================================\n",
    "# t2m => RMSE: 2.856; SE: 0.004622528557599641\n",
    "# tcc => RMSE: 2.348; SE: 0.011650039652808775\n",
    "# u10 => RMSE: 0.307; SE: 0.0002016068197628113\n",
    "# v10 => RMSE: 1.762; SE: 0.001734071080579581\n",
    "# tp => RMSE: 1.803; SE: 0.0014322600082531708\n",
    "# sp => RMSE: 0.0; SE: 1.5908941072379268e-07\n",
    "\n",
    "# 150.2998344898224 [S]"
   ]
  }
 ],
 "metadata": {
  "kernelspec": {
   "display_name": "Python 3 (ipykernel)",
   "language": "python",
   "name": "python3"
  },
  "language_info": {
   "codemirror_mode": {
    "name": "ipython",
    "version": 3
   },
   "file_extension": ".py",
   "mimetype": "text/x-python",
   "name": "python",
   "nbconvert_exporter": "python",
   "pygments_lexer": "ipython3",
   "version": "3.11.4"
  }
 },
 "nbformat": 4,
 "nbformat_minor": 5
}
