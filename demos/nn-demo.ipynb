{
 "cells": [
  {
   "cell_type": "code",
   "execution_count": null,
   "id": "cd33a867-6021-49a5-bc32-d0ed2cf8968c",
   "metadata": {
    "tags": []
   },
   "outputs": [],
   "source": [
    "import sys\n",
    "sys.path.append('..')"
   ]
  },
  {
   "cell_type": "markdown",
   "id": "9f24bc02-c18c-4d68-8334-d6e5681a6e76",
   "metadata": {},
   "source": [
    "### U-Net (CNN)"
   ]
  },
  {
   "cell_type": "code",
   "execution_count": null,
   "id": "3804329a-a3a6-4572-a28c-8dd4a13e2bc9",
   "metadata": {},
   "outputs": [],
   "source": [
    "from models.cnn.trainer import Trainer\n",
    "trainer = Trainer()\n",
    "# trainer.load_model('model_state_cnn_fh_1.pt')\n",
    "trainer.train(num_epochs=1000)"
   ]
  },
  {
   "cell_type": "code",
   "execution_count": null,
   "id": "3b81f682-41ef-43a6-b23d-d6b89c17aaac",
   "metadata": {},
   "outputs": [],
   "source": [
    "_, y_hat = trainer.evaluate(\"test\")\n",
    "_, y_hat = trainer.evaluate(\"val\")\n",
    "_, y_hat = trainer.evaluate(\"train\")"
   ]
  },
  {
   "cell_type": "code",
   "execution_count": null,
   "id": "286fa27b-2fa9-4345-9f16-06e91adda392",
   "metadata": {},
   "outputs": [],
   "source": [
    "trainer.plot_predictions(data_type='test', pretty=False)\n",
    "trainer.save_prediction_tensor(y_hat, path='sample_cnn.npy')"
   ]
  },
  {
   "cell_type": "markdown",
   "id": "06d55d4d-bbff-4eb0-8f54-885d718c7f0e",
   "metadata": {},
   "source": [
    "### GNN"
   ]
  },
  {
   "cell_type": "code",
   "execution_count": null,
   "id": "dc1801e0-52c8-4681-a06c-bdbb4255004f",
   "metadata": {},
   "outputs": [],
   "source": [
    "from models.gnn.trainer import Trainer\n",
    "trainer = Trainer(architecture='trans', hidden_dim=32, lr=1e-3)\n",
    "# trainer.load_model(\"model_state_gnn_cell_5.pt\")\n",
    "trainer.train(num_epochs=1000)"
   ]
  },
  {
   "cell_type": "code",
   "execution_count": null,
   "id": "822f6c0f-113e-40a1-b4d2-5da5f6739858",
   "metadata": {},
   "outputs": [],
   "source": [
    "_, y_hat = trainer.evaluate(\"test\")\n",
    "_, y_hat = trainer.evaluate(\"val\")\n",
    "_, y_hat = trainer.evaluate(\"train\")"
   ]
  },
  {
   "cell_type": "code",
   "execution_count": null,
   "id": "614f3a71-eca4-47d0-9fa0-6642af5e2e02",
   "metadata": {},
   "outputs": [],
   "source": [
    "trainer.plot_predictions(data_type='test', pretty=False)\n",
    "trainer.save_prediction_tensor(y_hat, path='sample_gnn.npy')"
   ]
  }
 ],
 "metadata": {
  "kernelspec": {
   "display_name": "Python 3 (ipykernel)",
   "language": "python",
   "name": "python3"
  },
  "language_info": {
   "codemirror_mode": {
    "name": "ipython",
    "version": 3
   },
   "file_extension": ".py",
   "mimetype": "text/x-python",
   "name": "python",
   "nbconvert_exporter": "python",
   "pygments_lexer": "ipython3",
   "version": "3.11.4"
  }
 },
 "nbformat": 4,
 "nbformat_minor": 5
}
