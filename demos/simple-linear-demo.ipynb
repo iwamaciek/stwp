{
 "cells": [
  {
   "cell_type": "code",
   "execution_count": 15,
   "id": "93506f48-d252-4848-a80f-2b12f0de6893",
   "metadata": {
    "tags": []
   },
   "outputs": [],
   "source": [
    "import cfgrib\n",
    "import numpy as np\n",
    "import matplotlib.pyplot as plt\n",
    "import sys\n",
    "sys.path.append(\"..\")\n",
    "\n",
    "from baselines.data_processor import DataProcessor\n",
    "from baselines.linear_reg.simple_linear_regressor import SimpleLinearRegressor"
   ]
  },
  {
   "cell_type": "code",
   "execution_count": 16,
   "id": "89de6c9d-e235-4c5b-a340-78dc278bdff7",
   "metadata": {},
   "outputs": [],
   "source": [
    "data, feature_list = DataProcessor.load_data('../../data2022_full.grib')\n",
    "s = 2\n",
    "fh = 5\n",
    "\n",
    "processor = DataProcessor(data)\n",
    "X, y = processor.preprocess(s, fh, use_neighbours=True)\n",
    "X_train, X_test, y_train, y_test = processor.train_test_split(X, y)"
   ]
  },
  {
   "cell_type": "code",
   "execution_count": 17,
   "id": "574de59d-69af-4335-a362-9a97098c117a",
   "metadata": {},
   "outputs": [
    {
     "data": {
      "text/plain": [
       "((1454, 25, 45, 5, 2, 6), (1454, 25, 45, 5, 6))"
      ]
     },
     "execution_count": 17,
     "metadata": {},
     "output_type": "execute_result"
    }
   ],
   "source": [
    "X.shape, y.shape"
   ]
  },
  {
   "cell_type": "code",
   "execution_count": 18,
   "id": "454b49ab-5bbb-41aa-866d-6c7d96da8c28",
   "metadata": {
    "tags": []
   },
   "outputs": [
    {
     "name": "stdout",
     "output_type": "stream",
     "text": [
      "<RIDGE>\n"
     ]
    },
    {
     "ename": "ValueError",
     "evalue": "cannot reshape array of size 16875 into shape (10)",
     "output_type": "error",
     "traceback": [
      "\u001b[0;31m---------------------------------------------------------------------------\u001b[0m",
      "\u001b[0;31mValueError\u001b[0m                                Traceback (most recent call last)",
      "\u001b[1;32m/Users/piotr/Documents/inzynierka/november/meteoapp-data/demos/simple-linear-demo.ipynb Cell 4\u001b[0m line \u001b[0;36m1\n\u001b[1;32m      <a href='vscode-notebook-cell:/Users/piotr/Documents/inzynierka/november/meteoapp-data/demos/simple-linear-demo.ipynb#W3sZmlsZQ%3D%3D?line=8'>9</a>\u001b[0m     linearreg \u001b[39m=\u001b[39m SimpleLinearRegressor(X\u001b[39m.\u001b[39mshape, fh, feature_list, regressor_type\u001b[39m=\u001b[39mreg, alpha\u001b[39m=\u001b[39malpha)\n\u001b[1;32m     <a href='vscode-notebook-cell:/Users/piotr/Documents/inzynierka/november/meteoapp-data/demos/simple-linear-demo.ipynb#W3sZmlsZQ%3D%3D?line=9'>10</a>\u001b[0m     linearreg\u001b[39m.\u001b[39mtrain(X_train, y_train)\n\u001b[0;32m---> <a href='vscode-notebook-cell:/Users/piotr/Documents/inzynierka/november/meteoapp-data/demos/simple-linear-demo.ipynb#W3sZmlsZQ%3D%3D?line=10'>11</a>\u001b[0m     _ \u001b[39m=\u001b[39m linearreg\u001b[39m.\u001b[39;49mpredict_and_evaluate(X_test, y_test, max_samples\u001b[39m=\u001b[39;49m\u001b[39m1\u001b[39;49m)\n\u001b[1;32m     <a href='vscode-notebook-cell:/Users/piotr/Documents/inzynierka/november/meteoapp-data/demos/simple-linear-demo.ipynb#W3sZmlsZQ%3D%3D?line=11'>12</a>\u001b[0m     \u001b[39mprint\u001b[39m()\n\u001b[1;32m     <a href='vscode-notebook-cell:/Users/piotr/Documents/inzynierka/november/meteoapp-data/demos/simple-linear-demo.ipynb#W3sZmlsZQ%3D%3D?line=13'>14</a>\u001b[0m stop \u001b[39m=\u001b[39m time()\n",
      "File \u001b[0;32m~/Documents/inzynierka/november/meteoapp-data/demos/../baselines/baseline_regressor.py:155\u001b[0m, in \u001b[0;36mBaselineRegressor.predict_and_evaluate\u001b[0;34m(self, X_test, y_test, max_samples)\u001b[0m\n\u001b[1;32m    154\u001b[0m \u001b[39mdef\u001b[39;00m \u001b[39mpredict_and_evaluate\u001b[39m(\u001b[39mself\u001b[39m, X_test, y_test, max_samples\u001b[39m=\u001b[39m\u001b[39m5\u001b[39m):\n\u001b[0;32m--> 155\u001b[0m     y_hat \u001b[39m=\u001b[39m \u001b[39mself\u001b[39;49m\u001b[39m.\u001b[39;49mpredict_(X_test, y_test)\n\u001b[1;32m    156\u001b[0m     \u001b[39mself\u001b[39m\u001b[39m.\u001b[39mplot_predictions(y_hat, y_test, max_samples\u001b[39m=\u001b[39mmax_samples)\n\u001b[1;32m    157\u001b[0m     eval_scores \u001b[39m=\u001b[39m \u001b[39mself\u001b[39m\u001b[39m.\u001b[39mevaluate(y_hat, y_test)\n",
      "File \u001b[0;32m~/Documents/inzynierka/november/meteoapp-data/demos/../baselines/linear_reg/simple_linear_regressor.py:59\u001b[0m, in \u001b[0;36mSimpleLinearRegressor.predict_\u001b[0;34m(self, X_test, y_test)\u001b[0m\n\u001b[1;32m     57\u001b[0m     y_hat \u001b[39m=\u001b[39m np\u001b[39m.\u001b[39marray(y_hat)\u001b[39m.\u001b[39mtranspose((\u001b[39m1\u001b[39m, \u001b[39m2\u001b[39m, \u001b[39m3\u001b[39m, \u001b[39m4\u001b[39m, \u001b[39m0\u001b[39m))\n\u001b[1;32m     58\u001b[0m \u001b[39melse\u001b[39;00m:\n\u001b[0;32m---> 59\u001b[0m     y_hat \u001b[39m=\u001b[39m \u001b[39mself\u001b[39;49m\u001b[39m.\u001b[39;49mpredict_autoreg(X_test, y_test)\n\u001b[1;32m     60\u001b[0m \u001b[39mreturn\u001b[39;00m y_hat\n",
      "File \u001b[0;32m~/Documents/inzynierka/november/meteoapp-data/demos/../baselines/linear_reg/simple_linear_regressor.py:87\u001b[0m, in \u001b[0;36mSimpleLinearRegressor.predict_autoreg\u001b[0;34m(self, X_test, y_test)\u001b[0m\n\u001b[1;32m     83\u001b[0m     \u001b[39melse\u001b[39;00m:\n\u001b[1;32m     84\u001b[0m         Xij \u001b[39m=\u001b[39m np\u001b[39m.\u001b[39mconcatenate(\n\u001b[1;32m     85\u001b[0m             (X_test[i, \u001b[39m.\u001b[39m\u001b[39m.\u001b[39m\u001b[39m.\u001b[39m, k \u001b[39m+\u001b[39m \u001b[39m1\u001b[39m :, j], y_hat_ij[\u001b[39m.\u001b[39m\u001b[39m.\u001b[39m\u001b[39m.\u001b[39m, : k \u001b[39m+\u001b[39m \u001b[39m1\u001b[39m]), axis\u001b[39m=\u001b[39m\u001b[39m2\u001b[39m\n\u001b[1;32m     86\u001b[0m         )\n\u001b[0;32m---> 87\u001b[0m     Xij \u001b[39m=\u001b[39m Xij\u001b[39m.\u001b[39;49mreshape(\u001b[39m-\u001b[39;49m\u001b[39m1\u001b[39;49m, \u001b[39mself\u001b[39;49m\u001b[39m.\u001b[39;49mneighbours \u001b[39m*\u001b[39;49m \u001b[39mself\u001b[39;49m\u001b[39m.\u001b[39;49minput_state)\n\u001b[1;32m     88\u001b[0m     y_hat_ij[\u001b[39m.\u001b[39m\u001b[39m.\u001b[39m\u001b[39m.\u001b[39m, k \u001b[39m+\u001b[39m \u001b[39m1\u001b[39m] \u001b[39m=\u001b[39m (\n\u001b[1;32m     89\u001b[0m         \u001b[39mself\u001b[39m\u001b[39m.\u001b[39mmodels[j]\n\u001b[1;32m     90\u001b[0m         \u001b[39m.\u001b[39mpredict(Xij)\n\u001b[1;32m     91\u001b[0m         \u001b[39m.\u001b[39mreshape(\u001b[39m1\u001b[39m, \u001b[39mself\u001b[39m\u001b[39m.\u001b[39mlatitude, \u001b[39mself\u001b[39m\u001b[39m.\u001b[39mlongitude)\n\u001b[1;32m     92\u001b[0m     )\n\u001b[1;32m     93\u001b[0m y_hat[i, \u001b[39m.\u001b[39m\u001b[39m.\u001b[39m\u001b[39m.\u001b[39m, j] \u001b[39m=\u001b[39m y_hat_ij\n",
      "\u001b[0;31mValueError\u001b[0m: cannot reshape array of size 16875 into shape (10)"
     ]
    }
   ],
   "source": [
    "from time import time \n",
    "start = time()\n",
    "\n",
    "available_reg = ['ridge']\n",
    "alpha = 0.10077909184047343\n",
    "\n",
    "for reg in available_reg:\n",
    "    print(f'<{reg.upper()}>')\n",
    "    linearreg = SimpleLinearRegressor(X.shape, fh, feature_list, regressor_type=reg, alpha=alpha)\n",
    "    linearreg.train(X_train, y_train)\n",
    "    _ = linearreg.predict_and_evaluate(X_test, y_test, max_samples=1)\n",
    "    print()\n",
    "    \n",
    "stop = time()\n",
    "print('\\n', stop-start, '[S]')"
   ]
  },
  {
   "cell_type": "code",
   "execution_count": null,
   "id": "1e922065-5c16-4e2a-8286-e394c3955430",
   "metadata": {
    "tags": []
   },
   "outputs": [],
   "source": [
    "# WITHOUT NEIGHBOURS\n",
    "\n",
    "# =======================================\n",
    "# Evaluation metrics for entire test set:\n",
    "# =======================================\n",
    "# t2m => RMSE: 3.03; SE: 0.004622528557599638\n",
    "# tcc => RMSE: 2.557; SE: 0.011650039652808765\n",
    "# u10 => RMSE: 0.315; SE: 0.00020160681976281122\n",
    "# v10 => RMSE: 1.901; SE: 0.00173407108057958\n",
    "# tp => RMSE: 1.867; SE: 0.0014322600082531719\n",
    "# sp => RMSE: 0.0; SE: 1.5908941072379268e-07\n",
    "\n",
    "\n",
    "#  21.97545576095581 [S]\n",
    "\n",
    "\n",
    "# WITH NEIGHBOURS\n",
    "# =======================================\n",
    "# Evaluation metrics for entire test set:\n",
    "# =======================================\n",
    "# t2m => RMSE: 3.001; SE: 0.004622528557599641\n",
    "# tcc => RMSE: 2.518; SE: 0.011650039652808775\n",
    "# u10 => RMSE: 0.311; SE: 0.0002016068197628113\n",
    "# v10 => RMSE: 1.866; SE: 0.001734071080579581\n",
    "# tp => RMSE: 1.83; SE: 0.0014322600082531708\n",
    "# sp => RMSE: 0.0; SE: 1.5908941072379268e-07\n",
    "\n",
    "\n",
    "#  160.1185700893402 [S]"
   ]
  }
 ],
 "metadata": {
  "kernelspec": {
   "display_name": "Python 3 (ipykernel)",
   "language": "python",
   "name": "python3"
  },
  "language_info": {
   "codemirror_mode": {
    "name": "ipython",
    "version": 3
   },
   "file_extension": ".py",
   "mimetype": "text/x-python",
   "name": "python",
   "nbconvert_exporter": "python",
   "pygments_lexer": "ipython3",
   "version": "3.10.13"
  }
 },
 "nbformat": 4,
 "nbformat_minor": 5
}
