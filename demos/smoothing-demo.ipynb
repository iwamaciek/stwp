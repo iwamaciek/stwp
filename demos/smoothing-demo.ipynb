{
 "cells": [
  {
   "cell_type": "code",
   "execution_count": 1,
   "metadata": {
    "tags": []
   },
   "outputs": [
    {
     "name": "stderr",
     "output_type": "stream",
     "text": [
      "/home/kamil/Desktop/git/meteoapp-data/venv/lib/python3.11/site-packages/gribapi/__init__.py:23: UserWarning: ecCodes 2.31.0 or higher is recommended. You are running version 2.30.0\n",
      "  warnings.warn(\n"
     ]
    }
   ],
   "source": [
    "import cfgrib\n",
    "import numpy as np\n",
    "import matplotlib.pyplot as plt\n",
    "import sys\n",
    "import warnings\n",
    "warnings.simplefilter(\"ignore\")  # check those\n",
    "sys.path.append(\"..\")\n",
    "\n",
    "from baselines.data_processor import DataProcessor\n",
    "from baselines.exp_smoothing.smoothing import SmoothingPredictor"
   ]
  },
  {
   "cell_type": "code",
   "execution_count": 2,
   "metadata": {},
   "outputs": [],
   "source": [
    "data, feature_list = DataProcessor.load_data()\n",
    "s = 3\n",
    "fh = 2\n",
    "\n",
    "processor = DataProcessor(data)\n",
    "X, y = processor.preprocess(s, fh, use_neighbours=False)\n",
    "X_train, X_test, y_train, y_test = processor.train_test_split(X, y)"
   ]
  },
  {
   "cell_type": "code",
   "execution_count": 3,
   "metadata": {},
   "outputs": [],
   "source": [
    "X_train, y_train = X_train[-100:], y_train[-100:]\n",
    "X_test, y_test = X_test[:30], y_test[:30]"
   ]
  },
  {
   "cell_type": "code",
   "execution_count": null,
   "metadata": {},
   "outputs": [],
   "source": [
    "from time import time \n",
    "start = time()\n",
    "\n",
    "available_types = ['simple'] # 'simple'\n",
    "for smoothing in available_types:\n",
    "    print(smoothing.upper())\n",
    "    predictor = SmoothingPredictor(X.shape, fh, feature_list, smoothing)\n",
    "    predictor.train(X_train, y_train)\n",
    "    _ = predictor.predict_and_evaluate(X_test[:5], y_test[:5], max_samples=1)\n",
    "    print()\n",
    "\n",
    "stop = time()\n",
    "print('\\n', stop-start, '[S]')"
   ]
  },
  {
   "cell_type": "code",
   "execution_count": null,
   "metadata": {
    "tags": []
   },
   "outputs": [],
   "source": [
    "\"\"\"\n",
    "HOLT:\n",
    "=======================================\n",
    "Evaluation metrics for entire test set:\n",
    "=======================================\n",
    "RMSE t2m: 316.18\n",
    "RMSE sp: 923.667\n",
    "RMSE tcc: 316.594\n",
    "RMSE u10: 317.978\n",
    "RMSE v10: 317.487\n",
    "RMSE tp: 317.888\n",
    "\n",
    "SIMPLE:\n",
    "=======================================\n",
    "Evaluation metrics for entire test set:\n",
    "=======================================\n",
    "RMSE t2m: 398.852\n",
    "RMSE sp: 904.216\n",
    "RMSE tcc: 399.738\n",
    "RMSE u10: 401.017\n",
    "RMSE v10: 400.634\n",
    "RMSE tp: 401.159\n",
    "\n",
    "ALL AROUND - TERRIBLE RESULTS\n",
    "\n",
    "For łopatologiczne 4 for loops\n",
    "HOLT:\n",
    "=======================================\n",
    "Evaluation metrics for entire test set:\n",
    "=======================================\n",
    "RMSE t2m: 3.724\n",
    "RMSE sp: 9.183\n",
    "RMSE tcc: 0.48\n",
    "RMSE u10: 3.243\n",
    "RMSE v10: 3.007\n",
    "RMSE tp: 0.0\n",
    "\n",
    "SIMPLE:\n",
    "=======================================\n",
    "Evaluation metrics for entire test set:\n",
    "=======================================\n",
    "RMSE t2m: 3.706\n",
    "RMSE sp: 2.855\n",
    "RMSE tcc: 0.48\n",
    "RMSE u10: 3.494\n",
    "RMSE v10: 2.75\n",
    "RMSE tp: 0.0\n",
    "\"\"\""
   ]
  }
 ],
 "metadata": {
  "kernelspec": {
   "display_name": "Python 3 (ipykernel)",
   "language": "python",
   "name": "python3"
  },
  "language_info": {
   "codemirror_mode": {
    "name": "ipython",
    "version": 3
   },
   "file_extension": ".py",
   "mimetype": "text/x-python",
   "name": "python",
   "nbconvert_exporter": "python",
   "pygments_lexer": "ipython3",
   "version": "3.11.4"
  }
 },
 "nbformat": 4,
 "nbformat_minor": 4
}
