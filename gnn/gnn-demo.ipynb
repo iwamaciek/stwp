{
 "cells": [
  {
   "cell_type": "code",
   "execution_count": 1,
   "id": "8bfa0395-f703-4f0e-9b8f-ce877aa10fe9",
   "metadata": {},
   "outputs": [
    {
     "name": "stderr",
     "output_type": "stream",
     "text": [
      "/home/kamil/Desktop/git/meteoapp-data/venv/lib/python3.11/site-packages/gribapi/__init__.py:23: UserWarning: ecCodes 2.31.0 or higher is recommended. You are running version 2.30.0\n",
      "  warnings.warn(\n"
     ]
    }
   ],
   "source": [
    "import cfgrib\n",
    "import numpy as np\n",
    "import torch\n",
    "import torch.nn as nn\n",
    "import torch.nn.functional as F\n",
    "import sys\n",
    "from torch_geometric.nn import GCNConv\n",
    "from torch_geometric.utils import to_undirected\n",
    "import torch_geometric.data as data\n",
    "from torch.utils.data import DataLoader\n",
    "\n",
    "sys.path.append('..')\n",
    "from baselines.data_processor import DataProcessor\n",
    "\n",
    "device = torch.device(\"cuda\" if torch.cuda.is_available() else \"cpu\")"
   ]
  },
  {
   "cell_type": "code",
   "execution_count": 2,
   "id": "8005a931-9e18-4c58-8295-b6a2f84c9e3e",
   "metadata": {
    "tags": []
   },
   "outputs": [],
   "source": [
    "grib_data = cfgrib.open_datasets('../data2022.grib')\n",
    "surface = grib_data[0] \n",
    "hybrid = grib_data[1] "
   ]
  },
  {
   "cell_type": "code",
   "execution_count": 3,
   "id": "4c271e13-c5a4-417a-945a-b481fe869cfa",
   "metadata": {
    "tags": []
   },
   "outputs": [],
   "source": [
    "INPUT_SIZE = 4\n",
    "BATCH_SIZE = 4\n",
    "FH = 1"
   ]
  },
  {
   "cell_type": "code",
   "execution_count": 4,
   "id": "69801206-5333-4526-9d3b-7fb112856972",
   "metadata": {},
   "outputs": [
    {
     "name": "stdout",
     "output_type": "stream",
     "text": [
      "(1432, 25, 45, 2)\n"
     ]
    }
   ],
   "source": [
    "t2m_numpy = surface.t2m.to_numpy()\n",
    "sp_numpy = surface.sp.to_numpy()\n",
    "dataset = np.stack((t2m_numpy, sp_numpy), axis=-1)\n",
    "_, num_latitudes, num_longitudes, num_features = dataset.shape\n",
    "print(dataset.shape)"
   ]
  },
  {
   "cell_type": "code",
   "execution_count": 5,
   "id": "49340d96-b329-4182-97b5-b70e535db80b",
   "metadata": {
    "tags": []
   },
   "outputs": [
    {
     "data": {
      "text/plain": [
       "(1428, 25, 45, 4, 2)"
      ]
     },
     "execution_count": 5,
     "metadata": {},
     "output_type": "execute_result"
    }
   ],
   "source": [
    "processor = DataProcessor(dataset)\n",
    "X, y = processor.preprocess(INPUT_SIZE)\n",
    "X.shape"
   ]
  },
  {
   "cell_type": "code",
   "execution_count": 6,
   "id": "c5ddd3f3-aa32-4031-bae3-8f0c3fba8996",
   "metadata": {
    "tags": []
   },
   "outputs": [
    {
     "data": {
      "text/plain": [
       "((1428, 1125, 4, 2), (1428, 1125, 1, 2))"
      ]
     },
     "execution_count": 6,
     "metadata": {},
     "output_type": "execute_result"
    }
   ],
   "source": [
    "# X = X.transpose((0,1,2,4,3))\n",
    "# y = y.transpose((0,1,2,4,3))\n",
    "# X = X.reshape(-1, num_latitudes*num_longitudes, num_features, INPUT_SIZE)\n",
    "# y = y.reshape(-1, num_latitudes*num_longitudes, num_features, FH)\n",
    "X = X.reshape(-1, num_latitudes*num_longitudes, INPUT_SIZE, num_features)\n",
    "y = y.reshape(-1, num_latitudes*num_longitudes, FH, num_features)\n",
    "\n",
    "X.shape, y.shape"
   ]
  },
  {
   "cell_type": "code",
   "execution_count": 8,
   "id": "e2000f11-64c4-4af9-ad22-c982b7b7d8ad",
   "metadata": {
    "tags": []
   },
   "outputs": [
    {
     "name": "stdout",
     "output_type": "stream",
     "text": [
      "torch.Size([2, 2180])\n",
      "torch.Size([2, 4360])\n"
     ]
    }
   ],
   "source": [
    "def node_index(i, j, num_cols):\n",
    "    return i * num_cols + j\n",
    "\n",
    "edge_index = []\n",
    "for i in range(num_latitudes):\n",
    "    for j in range(num_longitudes):\n",
    "        if i > 0:\n",
    "            edge_index.append([node_index(i, j, num_longitudes), node_index(i - 1, j, num_longitudes)])\n",
    "        if j > 0:\n",
    "            edge_index.append([node_index(i, j, num_longitudes), node_index(i, j - 1, num_longitudes)])\n",
    "            \n",
    "edge_index = torch.tensor(edge_index, dtype=torch.long).t()\n",
    "print(edge_index.size())\n",
    "edge_index = to_undirected(edge_index)\n",
    "print(edge_index.size())"
   ]
  },
  {
   "cell_type": "code",
   "execution_count": 9,
   "id": "5e94136b-43e4-4ff3-93df-9ed09b5d0f21",
   "metadata": {
    "tags": []
   },
   "outputs": [
    {
     "data": {
      "text/plain": [
       "Data(x=[1125, 4, 2], edge_index=[2, 4360], y=[1125, 1, 2])"
      ]
     },
     "execution_count": 9,
     "metadata": {},
     "output_type": "execute_result"
    }
   ],
   "source": [
    "dataset = []\n",
    "for i in range(X.shape[0]):\n",
    "    Xi=torch.from_numpy(X[i].astype('float32')).to(device)\n",
    "    yi=torch.from_numpy(y[i].astype('float32')).to(device)\n",
    "    g = data.Data(x=Xi, edge_index=edge_index, y=yi)\n",
    "    g = g.to(device)\n",
    "    dataset.append(g)\n",
    "\n",
    "dataset[100]"
   ]
  },
  {
   "cell_type": "code",
   "execution_count": null,
   "id": "bc12c8b9-72fb-40de-8dbf-55d3ac6cf27b",
   "metadata": {},
   "outputs": [],
   "source": []
  },
  {
   "cell_type": "code",
   "execution_count": 10,
   "id": "fee97d39-fcf3-48ae-8faa-50752c394bfc",
   "metadata": {},
   "outputs": [
    {
     "data": {
      "text/plain": [
       "TemporalGNN(\n",
       "  (tgnn): A3TGCN(\n",
       "    (_base_tgcn): TGCN(\n",
       "      (conv_z): GCNConv(4, 2048)\n",
       "      (linear_z): Linear(in_features=4096, out_features=2048, bias=True)\n",
       "      (conv_r): GCNConv(4, 2048)\n",
       "      (linear_r): Linear(in_features=4096, out_features=2048, bias=True)\n",
       "      (conv_h): GCNConv(4, 2048)\n",
       "      (linear_h): Linear(in_features=4096, out_features=2048, bias=True)\n",
       "    )\n",
       "  )\n",
       "  (linear): Linear(in_features=2048, out_features=2, bias=True)\n",
       ")"
      ]
     },
     "execution_count": 10,
     "metadata": {},
     "output_type": "execute_result"
    }
   ],
   "source": [
    "import torch\n",
    "import torch.nn.functional as F\n",
    "from torch_geometric_temporal.nn.recurrent import A3TGCN\n",
    "\n",
    "class TemporalGNN(torch.nn.Module):\n",
    "    def __init__(self, node_features, hidden_dim, periods):\n",
    "        super(TemporalGNN, self).__init__()\n",
    "        # Attention Temporal Graph Convolutional Cell\n",
    "        self.tgnn = A3TGCN(in_channels=node_features,\n",
    "                           out_channels=hidden_dim,\n",
    "                           periods=periods)\n",
    "        # Equals single-shot prediction\n",
    "        self.linear = torch.nn.Linear(hidden_dim, periods)\n",
    "\n",
    "    def forward(self, x, edge_index):\n",
    "        \"\"\"\n",
    "        x = Node features for T time steps\n",
    "        edge_index = Graph edge indices\n",
    "        \"\"\"\n",
    "        h = self.tgnn(x, edge_index)\n",
    "        h = F.relu(h)\n",
    "        h = self.linear(h)\n",
    "        return h\n",
    "\n",
    "hidden_dim = 2048\n",
    "TemporalGNN(node_features=INPUT_SIZE, hidden_dim=hidden_dim, periods=FH*num_features)"
   ]
  },
  {
   "cell_type": "code",
   "execution_count": 11,
   "id": "fa95532a-fdde-4b3c-ad26-eb9b150977ae",
   "metadata": {
    "tags": []
   },
   "outputs": [
    {
     "name": "stdout",
     "output_type": "stream",
     "text": [
      "Number of train buckets:  999\n",
      "Number of test buckets:  429\n"
     ]
    }
   ],
   "source": [
    "model = TemporalGNN(node_features=INPUT_SIZE, hidden_dim=hidden_dim, periods=FH*num_features)\n",
    "model = model.to(device)\n",
    "optimizer = torch.optim.Adam(model.parameters(), lr=0.01)\n",
    "criterion = nn.MSELoss()\n",
    "criterion = criterion.to(device)\n",
    "edge_index = edge_index.to(device)\n",
    "\n",
    "train_ratio = 0.7\n",
    "num_samples = len(dataset)\n",
    "train_size = int(train_ratio * num_samples)\n",
    "val_size = num_samples - train_size\n",
    "train_data, val_data = dataset[:train_size], dataset[train_size:]\n",
    "print(\"Number of train buckets: \", train_size)\n",
    "print(\"Number of test buckets: \", val_size)"
   ]
  },
  {
   "cell_type": "code",
   "execution_count": 13,
   "id": "908fe1de-80dc-4792-99ec-1c5134b29ac2",
   "metadata": {
    "tags": []
   },
   "outputs": [],
   "source": [
    "# y_hat.shape, batch.y.shape, batch.x.shape"
   ]
  },
  {
   "cell_type": "code",
   "execution_count": null,
   "id": "347b873a-b065-434a-b066-d0fdf32184e9",
   "metadata": {
    "scrolled": true
   },
   "outputs": [],
   "source": [
    "num_epochs = 200\n",
    "# val_loss_list = []\n",
    "# train_loss_list = []\n",
    "subset = 10\n",
    "\n",
    "for epoch in range(num_epochs):\n",
    "    model.train()\n",
    "    total_loss = 0\n",
    "    step = 0\n",
    "    for batch in train_data:\n",
    "        optimizer.zero_grad()\n",
    "        y_hat = model(batch.x, batch.edge_index)\n",
    "        y_hat = y_hat.view(-1, 1, 2)\n",
    "        loss = criterion(y_hat, batch.y)\n",
    "        loss.backward()\n",
    "        optimizer.step()\n",
    "        total_loss += loss.item()\n",
    "        step+=1\n",
    "        if step > subset:\n",
    "            break\n",
    "            \n",
    "    avg_loss = total_loss / train_size\n",
    "    print(f\"Epoch {epoch + 1}/{num_epochs}\\nTrain Loss: {avg_loss:.4f}\")\n",
    "    train_loss_list.append(avg_loss)\n",
    "    \n",
    "    model.eval()\n",
    "    step = 0\n",
    "    with torch.no_grad():\n",
    "        val_loss = 0\n",
    "        for batch in val_data:\n",
    "            y_hat = model(batch.x, batch.edge_index)\n",
    "            y_hat = y_hat.view(-1, 1, 2)\n",
    "            loss = criterion(y_hat, batch.y)\n",
    "            val_loss += loss.item()\n",
    "            step+=1\n",
    "            if step > subset:\n",
    "                break\n",
    "       \n",
    "    avg_val_loss = val_loss / val_size\n",
    "    print(f\"Val Loss: {avg_val_loss:.4f}\\n---------\")\n",
    "    val_loss_list.append(avg_val_loss)\n"
   ]
  },
  {
   "cell_type": "code",
   "execution_count": null,
   "id": "b3386cd8-6e1d-49a0-8e65-1b5851ad2c73",
   "metadata": {},
   "outputs": [],
   "source": [
    "# 58mln -> 19k in ~ 1500 epochs ~ 40min"
   ]
  },
  {
   "cell_type": "code",
   "execution_count": 24,
   "id": "67473d25-fe56-4865-b871-e1a5205e09b2",
   "metadata": {
    "tags": []
   },
   "outputs": [
    {
     "data": {
      "image/png": "[encoded data removed]",
      "text/plain": [
       "<Figure size 2000x700 with 1 Axes>"
      ]
     },
     "metadata": {},
     "output_type": "display_data"
    }
   ],
   "source": [
    "import matplotlib.pyplot as plt\n",
    "plt.style.use('ggplot')\n",
    "\n",
    "x = np.arange(1, len(train_loss_list)+1)\n",
    "plt.figure(figsize=(20,7))\n",
    "plt.plot(x, train_loss_list, label = 'train loss')\n",
    "plt.plot(x, val_loss_list, label = 'val loss')\n",
    "plt.title('Loss plot')\n",
    "plt.legend()\n",
    "plt.show()"
   ]
  },
  {
   "cell_type": "code",
   "execution_count": null,
   "id": "72572219-5497-407f-a99a-b75b72b1b65b",
   "metadata": {},
   "outputs": [],
   "source": [
    "# for batch in val_loader:\n",
    "#     break\n",
    "# batch = batch.to(device)\n",
    "# predicted = model(batch, edge_index)\n",
    "# predicted.shape\n",
    "# predicted_grid = predicted.reshape(num_latitudes, num_longitudes, -1)\n",
    "# temp_grid = predicted_grid[:,:,0] -  273.15\n",
    "# plt.imshow(temp_grid.cpu().detach().numpy())\n",
    "# plt.show()"
   ]
  },
  {
   "cell_type": "code",
   "execution_count": null,
   "id": "78e91c04-7cef-49f5-9ec7-ef8ce5b64f22",
   "metadata": {
    "tags": []
   },
   "outputs": [],
   "source": [
    "sample = val_data[0]\n",
    "X = sample.x\n",
    "y = sample.y\n",
    "y_hat = model(X, edge_index)\n",
    "\n",
    "loss = criterion(y, y_hat)\n",
    "loss = loss.cpu()\n",
    "loss"
   ]
  }
 ],
 "metadata": {
  "kernelspec": {
   "display_name": "Python 3 (ipykernel)",
   "language": "python",
   "name": "python3"
  },
  "language_info": {
   "codemirror_mode": {
    "name": "ipython",
    "version": 3
   },
   "file_extension": ".py",
   "mimetype": "text/x-python",
   "name": "python",
   "nbconvert_exporter": "python",
   "pygments_lexer": "ipython3",
   "version": "3.11.4"
  }
 },
 "nbformat": 4,
 "nbformat_minor": 5
}
