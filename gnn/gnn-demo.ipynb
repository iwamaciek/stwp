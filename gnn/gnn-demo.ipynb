{
 "cells": [
  {
   "cell_type": "code",
   "execution_count": 1,
   "id": "8bfa0395-f703-4f0e-9b8f-ce877aa10fe9",
   "metadata": {},
   "outputs": [],
   "source": [
    "import xarray as xr\n",
    "import numpy as np\n",
    "import torch\n",
    "import torch.nn as nn\n",
    "import torch.nn.functional as F\n",
    "from torch_geometric.nn import GCNConv\n",
    "from torch.utils.data import DataLoader"
   ]
  },
  {
   "cell_type": "code",
   "execution_count": 4,
   "id": "69801206-5333-4526-9d3b-7fb112856972",
   "metadata": {},
   "outputs": [
    {
     "name": "stderr",
     "output_type": "stream",
     "text": [
      "Ignoring index file '../data.grib.923a8.idx' incompatible with GRIB file\n"
     ]
    },
    {
     "data": {
      "text/plain": [
       "(12, 25, 45, 2)"
      ]
     },
     "execution_count": 4,
     "metadata": {},
     "output_type": "execute_result"
    }
   ],
   "source": [
    "ds = xr.open_dataset(\"../data.grib\")\n",
    "t2m_numpy = ds.t2m.to_numpy()\n",
    "sp_numpy = ds.sp.to_numpy()\n",
    "data = np.stack((t2m_numpy, sp_numpy), axis=-1)\n",
    "data.shape"
   ]
  },
  {
   "cell_type": "code",
   "execution_count": 3,
   "id": "b5d7a281-bff9-402a-b194-4760d192cd77",
   "metadata": {},
   "outputs": [
    {
     "data": {
      "text/plain": [
       "(12, 1125, 2)"
      ]
     },
     "execution_count": 3,
     "metadata": {},
     "output_type": "execute_result"
    }
   ],
   "source": [
    "num_timestamps, num_latitudes, num_longitudes, num_features = data.shape\n",
    "data = data.reshape(num_timestamps, -1, num_features)\n",
    "data.shape"
   ]
  },
  {
   "cell_type": "code",
   "execution_count": 4,
   "id": "bc12c8b9-72fb-40de-8dbf-55d3ac6cf27b",
   "metadata": {},
   "outputs": [
    {
     "data": {
      "text/plain": [
       "torch.Size([2, 2180])"
      ]
     },
     "execution_count": 4,
     "metadata": {},
     "output_type": "execute_result"
    }
   ],
   "source": [
    "def node_index(i, j, num_cols):\n",
    "    return i * num_cols + j\n",
    "\n",
    "edge_index = []\n",
    "for i in range(num_latitudes):\n",
    "    for j in range(num_longitudes):\n",
    "        if i > 0:\n",
    "            edge_index.append([node_index(i, j, num_longitudes), node_index(i - 1, j, num_longitudes)])\n",
    "        if j > 0:\n",
    "            edge_index.append([node_index(i, j, num_longitudes), node_index(i, j - 1, num_longitudes)])\n",
    "\n",
    "grid_size = data.shape[1]\n",
    "edge_index = torch.tensor(edge_index, dtype=torch.long).t()\n",
    "edge_index.size()"
   ]
  },
  {
   "cell_type": "code",
   "execution_count": 5,
   "id": "fee97d39-fcf3-48ae-8faa-50752c394bfc",
   "metadata": {},
   "outputs": [],
   "source": [
    "class WeatherGNN(nn.Module):\n",
    "    def __init__(self, input_dim, hidden_dim, output_dim):\n",
    "        super(WeatherGNN, self).__init__()\n",
    "        self.conv1 = GCNConv(input_dim, hidden_dim)\n",
    "        self.conv2 = GCNConv(hidden_dim, hidden_dim)\n",
    "        self.fc = nn.Linear(hidden_dim, output_dim)\n",
    "        \n",
    "    def forward(self, x, edge_index):\n",
    "        x = self.conv1(x, edge_index)\n",
    "        x = F.relu(x)\n",
    "        x = self.conv2(x, edge_index)\n",
    "        x = F.relu(x)\n",
    "        x = self.fc(x)\n",
    "        x = x.view(x.shape[0], grid_size, num_features)\n",
    "        return x\n",
    "\n",
    "input_dim = num_features\n",
    "hidden_dim = 4096\n",
    "output_dim = num_features # * grid_size\n",
    "model = WeatherGNN(input_dim, hidden_dim, output_dim)\n",
    "\n",
    "criterion = nn.MSELoss()\n",
    "optimizer = torch.optim.Adam(model.parameters(), lr=0.01)"
   ]
  },
  {
   "cell_type": "code",
   "execution_count": 6,
   "id": "a452194a-cec5-4588-a4b0-3261a3b9252a",
   "metadata": {},
   "outputs": [],
   "source": [
    "train_ratio = 0.8\n",
    "num_samples = data.shape[0]\n",
    "train_size = int(train_ratio * num_samples)\n",
    "train_data, val_data = data[:train_size], data[train_size:]\n",
    "\n",
    "train_loader = DataLoader(train_data, batch_size=2, shuffle=True)\n",
    "val_loader = DataLoader(val_data, batch_size=2, shuffle=False)\n",
    "\n",
    "num_epochs = 100"
   ]
  },
  {
   "cell_type": "code",
   "execution_count": 7,
   "id": "3a2cd507-5d86-47b8-97bb-3cdcae5b50a4",
   "metadata": {},
   "outputs": [],
   "source": [
    "device = torch.device(\"cuda\" if torch.cuda.is_available() else \"cpu\")\n",
    "model = model.to(device)\n",
    "criterion = criterion.to(device)\n",
    "edge_index = edge_index.to(device)"
   ]
  },
  {
   "cell_type": "code",
   "execution_count": 8,
   "id": "347b873a-b065-434a-b066-d0fdf32184e9",
   "metadata": {
    "scrolled": true
   },
   "outputs": [
    {
     "name": "stdout",
     "output_type": "stream",
     "text": [
      "Epoch 10/100\n",
      "Train Loss: 15571295.5000\n",
      "Val Loss: 20061834.0000\n",
      "---------\n",
      "Epoch 20/100\n",
      "Train Loss: 5770589.0556\n",
      "Val Loss: 5776851.1667\n",
      "---------\n",
      "Epoch 30/100\n",
      "Train Loss: 5986333.7778\n",
      "Val Loss: 5770451.3333\n",
      "---------\n",
      "Epoch 40/100\n",
      "Train Loss: 7275906.7778\n",
      "Val Loss: 7364385.8333\n",
      "---------\n",
      "Epoch 50/100\n",
      "Train Loss: 5736275.6111\n",
      "Val Loss: 5771170.5000\n",
      "---------\n",
      "Epoch 60/100\n",
      "Train Loss: 5729458.6111\n",
      "Val Loss: 5761696.5000\n",
      "---------\n",
      "Epoch 70/100\n",
      "Train Loss: 5737716.5556\n",
      "Val Loss: 5774022.5000\n",
      "---------\n",
      "Epoch 80/100\n",
      "Train Loss: 5737507.1667\n",
      "Val Loss: 5793409.8333\n",
      "---------\n",
      "Epoch 90/100\n",
      "Train Loss: 5732635.4444\n",
      "Val Loss: 5770974.3333\n",
      "---------\n",
      "Epoch 100/100\n",
      "Train Loss: 5835633.1111\n",
      "Val Loss: 5803538.1667\n",
      "---------\n"
     ]
    }
   ],
   "source": [
    "for epoch in range(num_epochs):\n",
    "    model.train()\n",
    "    total_loss = 0\n",
    "    for batch in train_loader:\n",
    "        optimizer.zero_grad()\n",
    "        x = batch.to(device)\n",
    "        output = model(x, edge_index)\n",
    "        loss = criterion(output, x) \n",
    "        loss.backward()\n",
    "        optimizer.step()\n",
    "        total_loss += loss.item() * batch.shape[0] # batch.num_graphs\n",
    "    \n",
    "    if (epoch+1) % 10 == 0:\n",
    "        avg_loss = total_loss / len(train_loader.dataset)\n",
    "        print(f\"Epoch {epoch + 1}/{num_epochs}\\nTrain Loss: {avg_loss:.4f}\")\n",
    "    \n",
    "    model.eval()\n",
    "    with torch.no_grad():\n",
    "        val_loss = 0\n",
    "        for batch in val_loader:\n",
    "            x = batch.to(device)\n",
    "            output = model(x, edge_index)\n",
    "            loss = criterion(output, x)\n",
    "            val_loss += loss.item() * batch.shape[0] # batch.num_graphs\n",
    "        \n",
    "        if (epoch+1) % 10 == 0:\n",
    "            avg_val_loss = val_loss / len(val_loader.dataset)\n",
    "            print(f\"Val Loss: {avg_val_loss:.4f}\\n---------\")"
   ]
  }
 ],
 "metadata": {
  "kernelspec": {
   "display_name": "Python 3 (ipykernel)",
   "language": "python",
   "name": "python3"
  },
  "language_info": {
   "codemirror_mode": {
    "name": "ipython",
    "version": 3
   },
   "file_extension": ".py",
   "mimetype": "text/x-python",
   "name": "python",
   "nbconvert_exporter": "python",
   "pygments_lexer": "ipython3",
   "version": "3.11.4"
  }
 },
 "nbformat": 4,
 "nbformat_minor": 5
}
