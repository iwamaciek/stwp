{
 "cells": [
  {
   "cell_type": "code",
   "execution_count": 1,
   "id": "8bfa0395-f703-4f0e-9b8f-ce877aa10fe9",
   "metadata": {},
   "outputs": [
    {
     "name": "stderr",
     "output_type": "stream",
     "text": [
      "/home/kamil/Desktop/git/meteoapp-data/venv/lib/python3.11/site-packages/gribapi/__init__.py:23: UserWarning: ecCodes 2.31.0 or higher is recommended. You are running version 2.30.0\n",
      "  warnings.warn(\n"
     ]
    }
   ],
   "source": [
    "import cfgrib\n",
    "import numpy as np\n",
    "import torch\n",
    "import torch.nn as nn\n",
    "import torch.nn.functional as F\n",
    "import torch_geometric.data as data\n",
    "import matplotlib.pyplot as plt\n",
    "import copy\n",
    "import sys\n",
    "import time\n",
    "\n",
    "from torch_geometric.nn import GCNConv\n",
    "from torch_geometric.utils import to_undirected\n",
    "from torch_geometric_temporal.nn.recurrent import A3TGCN\n",
    "from torch.utils.data import DataLoader\n",
    "from sklearn.preprocessing import MinMaxScaler\n",
    "\n",
    "sys.path.append('..')\n",
    "from baselines.data_processor import DataProcessor\n",
    "\n",
    "plt.style.use('ggplot')\n",
    "device = torch.device(\"cuda\" if torch.cuda.is_available() else \"cpu\")"
   ]
  },
  {
   "cell_type": "code",
   "execution_count": 2,
   "id": "8005a931-9e18-4c58-8295-b6a2f84c9e3e",
   "metadata": {
    "tags": []
   },
   "outputs": [],
   "source": [
    "grib_data = cfgrib.open_datasets('../data2022.grib')\n",
    "surface = grib_data[0] \n",
    "hybrid = grib_data[1] "
   ]
  },
  {
   "cell_type": "code",
   "execution_count": 3,
   "id": "4c271e13-c5a4-417a-945a-b481fe869cfa",
   "metadata": {
    "tags": []
   },
   "outputs": [],
   "source": [
    "INPUT_SIZE = 4\n",
    "BATCH_SIZE = 4\n",
    "FH = 1\n",
    "TRAIN_RATIO = 0.7"
   ]
  },
  {
   "cell_type": "code",
   "execution_count": 4,
   "id": "69801206-5333-4526-9d3b-7fb112856972",
   "metadata": {},
   "outputs": [
    {
     "name": "stdout",
     "output_type": "stream",
     "text": [
      "(1432, 25, 45, 2)\n"
     ]
    }
   ],
   "source": [
    "t2m_numpy = surface.t2m.to_numpy()\n",
    "sp_numpy = surface.sp.to_numpy()\n",
    "dataset = np.stack((t2m_numpy, sp_numpy), axis=-1)\n",
    "_, num_latitudes, num_longitudes, num_features = dataset.shape\n",
    "print(dataset.shape)"
   ]
  },
  {
   "cell_type": "code",
   "execution_count": 5,
   "id": "49340d96-b329-4182-97b5-b70e535db80b",
   "metadata": {
    "tags": []
   },
   "outputs": [
    {
     "data": {
      "text/plain": [
       "(1428, 25, 45, 4, 2)"
      ]
     },
     "execution_count": 5,
     "metadata": {},
     "output_type": "execute_result"
    }
   ],
   "source": [
    "processor = DataProcessor(dataset)\n",
    "X, y = processor.preprocess(INPUT_SIZE)\n",
    "X.shape"
   ]
  },
  {
   "cell_type": "code",
   "execution_count": 6,
   "id": "a32d25ba-2024-458d-9211-73cce7e86698",
   "metadata": {
    "tags": []
   },
   "outputs": [],
   "source": [
    "num_samples = X.shape[0]\n",
    "train_size = int(num_samples * TRAIN_RATIO)\n",
    "val_size = num_samples - train_size\n",
    "X = X.reshape(-1, num_latitudes*num_longitudes*INPUT_SIZE,num_features)\n",
    "y = y.reshape(-1, num_latitudes*num_longitudes*FH,num_features)\n",
    "\n",
    "X_train, X_test = X[:train_size], X[-val_size:]\n",
    "y_train, y_test = y[:train_size], y[-val_size:]"
   ]
  },
  {
   "cell_type": "code",
   "execution_count": 7,
   "id": "db026502-56b8-431a-bf3a-ecc89d3d1644",
   "metadata": {
    "tags": []
   },
   "outputs": [
    {
     "data": {
      "text/plain": [
       "(999, 4500, 2)"
      ]
     },
     "execution_count": 7,
     "metadata": {},
     "output_type": "execute_result"
    }
   ],
   "source": [
    "X_train.shape"
   ]
  },
  {
   "cell_type": "code",
   "execution_count": 8,
   "id": "7715afc2-2d1f-464f-8f6e-4f79bff44dea",
   "metadata": {
    "tags": []
   },
   "outputs": [],
   "source": [
    "scaler = MinMaxScaler()\n",
    "scalers = [copy.deepcopy(scaler) for _ in range(num_features)]\n",
    "\n",
    "Xi_shape = (num_latitudes * num_longitudes * INPUT_SIZE)\n",
    "yi_shape = (num_latitudes * num_longitudes * FH)\n",
    "\n",
    "for i in range(num_features):\n",
    "    X_train_i = X_train[..., i].reshape(-1,1)\n",
    "    X_test_i = X_test[..., i].reshape(-1,1)\n",
    "    y_train_i = y_train[...,i].reshape(-1,1)\n",
    "    y_test_i = y_test[...,i].reshape(-1,1)\n",
    "    \n",
    "    scalers[i].fit(X_train_i)\n",
    "    X_train[..., i] = scalers[i].transform(X_train_i).reshape((train_size, Xi_shape))\n",
    "    X_test[..., i] = scalers[i].transform(X_test_i).reshape((val_size, Xi_shape))\n",
    "    y_train[...,i] = scalers[i].transform(y_train_i).reshape((train_size, yi_shape)) \n",
    "    y_test[...,i] = scalers[i].transform(y_test_i).reshape((val_size, yi_shape)) \n",
    "    \n",
    "X = np.concatenate((X_train, X_test), axis=0)\n",
    "y = np.concatenate((y_train, y_test), axis=0)"
   ]
  },
  {
   "cell_type": "code",
   "execution_count": 9,
   "id": "258f3be2-6f4e-4b58-8891-0d2ab44feddf",
   "metadata": {
    "tags": []
   },
   "outputs": [
    {
     "data": {
      "text/plain": [
       "((1428, 4500, 2), (1428, 1125, 2))"
      ]
     },
     "execution_count": 9,
     "metadata": {},
     "output_type": "execute_result"
    }
   ],
   "source": [
    "X.shape, y.shape"
   ]
  },
  {
   "cell_type": "code",
   "execution_count": 10,
   "id": "c5ddd3f3-aa32-4031-bae3-8f0c3fba8996",
   "metadata": {
    "tags": []
   },
   "outputs": [
    {
     "data": {
      "text/plain": [
       "((1428, 1125, 2, 4), (1428, 1125, 2, 1))"
      ]
     },
     "execution_count": 10,
     "metadata": {},
     "output_type": "execute_result"
    }
   ],
   "source": [
    "X = X.reshape(-1, num_latitudes*num_longitudes, INPUT_SIZE, num_features)\n",
    "y = y.reshape(-1, num_latitudes*num_longitudes, FH, num_features)\n",
    "X = X.transpose((0, 1, 3, 2))\n",
    "y = y.transpose((0, 1, 3, 2))\n",
    "X.shape, y.shape"
   ]
  },
  {
   "cell_type": "code",
   "execution_count": 11,
   "id": "9d37040b-6517-49ab-9da1-fa7af5ade4a6",
   "metadata": {
    "tags": []
   },
   "outputs": [
    {
     "data": {
      "text/plain": [
       "(1428, 1125, 2, 1)"
      ]
     },
     "execution_count": 11,
     "metadata": {},
     "output_type": "execute_result"
    }
   ],
   "source": [
    "y.shape"
   ]
  },
  {
   "cell_type": "code",
   "execution_count": 12,
   "id": "e5e936e4-6b4d-42ba-a465-a3bd4a6aaba1",
   "metadata": {
    "tags": []
   },
   "outputs": [
    {
     "data": {
      "text/plain": [
       "311.67626953125"
      ]
     },
     "execution_count": 12,
     "metadata": {},
     "output_type": "execute_result"
    }
   ],
   "source": [
    "yi = y[...,0,:].copy().reshape(-1,1)\n",
    "yi = scalers[0].inverse_transform(yi).reshape((1428, 1125))\n",
    "yi.max()"
   ]
  },
  {
   "cell_type": "code",
   "execution_count": 13,
   "id": "5a1103d3-0573-47f6-a64c-fd6b2e70f049",
   "metadata": {
    "tags": []
   },
   "outputs": [
    {
     "data": {
      "image/png": "[encoded data removed]",
      "text/plain": [
       "<Figure size 640x480 with 1 Axes>"
      ]
     },
     "metadata": {},
     "output_type": "display_data"
    }
   ],
   "source": [
    "sample = X[0].reshape(num_latitudes, num_longitudes, num_features, INPUT_SIZE)\n",
    "sample = sample[:,:,1,0]\n",
    "plt.imshow(sample)\n",
    "plt.show()"
   ]
  },
  {
   "cell_type": "code",
   "execution_count": 14,
   "id": "e2000f11-64c4-4af9-ad22-c982b7b7d8ad",
   "metadata": {
    "tags": []
   },
   "outputs": [
    {
     "name": "stdout",
     "output_type": "stream",
     "text": [
      "torch.Size([2, 2180])\n",
      "torch.Size([2, 4360])\n"
     ]
    }
   ],
   "source": [
    "def node_index(i, j, num_cols):\n",
    "    return i * num_cols + j\n",
    "\n",
    "edge_index = []\n",
    "for i in range(num_latitudes):\n",
    "    for j in range(num_longitudes):\n",
    "        if i > 0:\n",
    "            edge_index.append([node_index(i, j, num_longitudes), node_index(i - 1, j, num_longitudes)])\n",
    "        if j > 0:\n",
    "            edge_index.append([node_index(i, j, num_longitudes), node_index(i, j - 1, num_longitudes)])\n",
    "            \n",
    "edge_index = torch.tensor(edge_index, dtype=torch.long).t()\n",
    "print(edge_index.size())\n",
    "edge_index = to_undirected(edge_index)\n",
    "print(edge_index.size())"
   ]
  },
  {
   "cell_type": "code",
   "execution_count": 15,
   "id": "5e94136b-43e4-4ff3-93df-9ed09b5d0f21",
   "metadata": {
    "tags": []
   },
   "outputs": [
    {
     "data": {
      "text/plain": [
       "Data(x=[1125, 2, 4], edge_index=[2, 4360], y=[1125, 2, 1])"
      ]
     },
     "execution_count": 15,
     "metadata": {},
     "output_type": "execute_result"
    }
   ],
   "source": [
    "dataset = []\n",
    "for i in range(X.shape[0]):\n",
    "    Xi=torch.from_numpy(X[i].astype('float32')).to(device)\n",
    "    yi=torch.from_numpy(y[i].astype('float32')).to(device)\n",
    "    g = data.Data(x=Xi, edge_index=edge_index, y=yi)\n",
    "    g = g.to(device)\n",
    "    dataset.append(g)\n",
    "\n",
    "dataset[100]"
   ]
  },
  {
   "cell_type": "code",
   "execution_count": 16,
   "id": "fee97d39-fcf3-48ae-8faa-50752c394bfc",
   "metadata": {},
   "outputs": [
    {
     "data": {
      "text/plain": [
       "TemporalGNN(\n",
       "  (tgnn): A3TGCN(\n",
       "    (_base_tgcn): TGCN(\n",
       "      (conv_z): GCNConv(2, 2048)\n",
       "      (linear_z): Linear(in_features=4096, out_features=2048, bias=True)\n",
       "      (conv_r): GCNConv(2, 2048)\n",
       "      (linear_r): Linear(in_features=4096, out_features=2048, bias=True)\n",
       "      (conv_h): GCNConv(2, 2048)\n",
       "      (linear_h): Linear(in_features=4096, out_features=2048, bias=True)\n",
       "    )\n",
       "  )\n",
       "  (linear): Linear(in_features=2048, out_features=2, bias=True)\n",
       ")"
      ]
     },
     "execution_count": 16,
     "metadata": {},
     "output_type": "execute_result"
    }
   ],
   "source": [
    "class TemporalGNN(torch.nn.Module):\n",
    "    def __init__(self, input_dim, hidden_dim, output_dim):\n",
    "        super(TemporalGNN, self).__init__()\n",
    "        # Attention Temporal Graph Convolutional Cell\n",
    "        self.output_dim = output_dim\n",
    "        \n",
    "        self.tgnn = A3TGCN(in_channels=input_dim,\n",
    "                           out_channels=hidden_dim,\n",
    "                           periods=output_dim)\n",
    "        # Equals single-shot prediction\n",
    "        self.linear = torch.nn.Linear(hidden_dim, output_dim * input_dim)\n",
    "\n",
    "    def forward(self, x, edge_index):\n",
    "        \"\"\"\n",
    "        x = Node features for T time steps\n",
    "        edge_index = Graph edge indices\n",
    "        \"\"\"\n",
    "        h = self.tgnn(x, edge_index)\n",
    "        h = F.relu(h)\n",
    "        h = self.linear(h)\n",
    "        return h.view(-1, x.size(1), self.output_dim)\n",
    "\n",
    "hidden_dim = 2048\n",
    "TemporalGNN(input_dim=num_features, hidden_dim=hidden_dim, output_dim=FH)"
   ]
  },
  {
   "cell_type": "code",
   "execution_count": 17,
   "id": "fa95532a-fdde-4b3c-ad26-eb9b150977ae",
   "metadata": {
    "tags": []
   },
   "outputs": [
    {
     "name": "stdout",
     "output_type": "stream",
     "text": [
      "Number of train buckets:  999\n",
      "Number of test buckets:  429\n"
     ]
    }
   ],
   "source": [
    "model = TemporalGNN(input_dim=num_features, hidden_dim=hidden_dim, output_dim=FH)\n",
    "model = model.to(device)\n",
    "optimizer = torch.optim.Adam(model.parameters(), lr=0.01)\n",
    "criterion = nn.MSELoss()\n",
    "criterion = criterion.to(device)\n",
    "edge_index = edge_index.to(device)\n",
    "\n",
    "train_data, val_data = dataset[:train_size], dataset[train_size:]\n",
    "print(\"Number of train buckets: \", train_size)\n",
    "print(\"Number of test buckets: \", val_size)"
   ]
  },
  {
   "cell_type": "code",
   "execution_count": 18,
   "id": "908fe1de-80dc-4792-99ec-1c5134b29ac2",
   "metadata": {
    "tags": []
   },
   "outputs": [],
   "source": [
    "# y_hat.shape, batch.y.shape, batch.x.shape"
   ]
  },
  {
   "cell_type": "code",
   "execution_count": 19,
   "id": "347b873a-b065-434a-b066-d0fdf32184e9",
   "metadata": {
    "scrolled": true
   },
   "outputs": [
    {
     "name": "stdout",
     "output_type": "stream",
     "text": [
      "Epoch 1/100\n",
      "Train Loss: 18.1850\n",
      "Val Loss: 1.1768\n",
      "---------\n",
      "Epoch 2/100\n",
      "Train Loss: 0.4023\n",
      "Val Loss: 1.6683\n",
      "---------\n",
      "Epoch 3/100\n",
      "Train Loss: 0.1514\n",
      "Val Loss: 1.3332\n",
      "---------\n",
      "Epoch 4/100\n",
      "Train Loss: 0.1767\n",
      "Val Loss: 1.3701\n",
      "---------\n",
      "Epoch 5/100\n",
      "Train Loss: 0.1181\n",
      "Val Loss: 0.4849\n",
      "---------\n",
      "Epoch 6/100\n",
      "Train Loss: 0.1819\n",
      "Val Loss: 0.1534\n",
      "---------\n",
      "Epoch 7/100\n",
      "Train Loss: 0.1585\n",
      "Val Loss: 0.3582\n",
      "---------\n",
      "Epoch 8/100\n",
      "Train Loss: 0.1033\n",
      "Val Loss: 0.7009\n",
      "---------\n",
      "Epoch 9/100\n",
      "Train Loss: 0.1038\n",
      "Val Loss: 0.4062\n",
      "---------\n",
      "Epoch 10/100\n",
      "Train Loss: 0.1639\n",
      "Val Loss: 0.5701\n",
      "---------\n",
      "Epoch 11/100\n",
      "Train Loss: 0.1748\n",
      "Val Loss: 0.9865\n",
      "---------\n",
      "Epoch 12/100\n",
      "Train Loss: 0.1758\n",
      "Val Loss: 0.6003\n",
      "---------\n",
      "Epoch 13/100\n",
      "Train Loss: 0.1755\n",
      "Val Loss: 0.4072\n",
      "---------\n",
      "Epoch 14/100\n",
      "Train Loss: 0.1658\n",
      "Val Loss: 0.8836\n",
      "---------\n",
      "Epoch 15/100\n",
      "Train Loss: 0.1353\n",
      "Val Loss: 0.6368\n",
      "---------\n",
      "Epoch 16/100\n",
      "Train Loss: 0.1049\n",
      "Val Loss: 0.3324\n",
      "---------\n",
      "Epoch 17/100\n",
      "Train Loss: 0.1272\n",
      "Val Loss: 0.5902\n",
      "---------\n",
      "Epoch 18/100\n",
      "Train Loss: 0.1337\n",
      "Val Loss: 0.8376\n",
      "---------\n",
      "Epoch 19/100\n",
      "Train Loss: 0.1250\n",
      "Val Loss: 0.4831\n",
      "---------\n",
      "Epoch 20/100\n",
      "Train Loss: 0.1271\n",
      "Val Loss: 0.3906\n",
      "---------\n",
      "Epoch 21/100\n",
      "Train Loss: 0.1298\n",
      "Val Loss: 0.7464\n",
      "---------\n",
      "Epoch 22/100\n",
      "Train Loss: 0.1121\n",
      "Val Loss: 0.6386\n",
      "---------\n",
      "Epoch 23/100\n",
      "Train Loss: 0.0975\n",
      "Val Loss: 0.4092\n",
      "---------\n",
      "Epoch 24/100\n",
      "Train Loss: 0.1147\n",
      "Val Loss: 0.5953\n",
      "---------\n",
      "Epoch 25/100\n",
      "Train Loss: 0.1150\n",
      "Val Loss: 0.7444\n",
      "---------\n",
      "Epoch 26/100\n",
      "Train Loss: 0.0924\n",
      "Val Loss: 0.5575\n",
      "---------\n",
      "Epoch 27/100\n",
      "Train Loss: 0.1103\n",
      "Val Loss: 0.5377\n",
      "---------\n",
      "Epoch 28/100\n",
      "Train Loss: 0.1153\n",
      "Val Loss: 0.6035\n",
      "---------\n",
      "Epoch 29/100\n",
      "Train Loss: 0.0844\n",
      "Val Loss: 0.4465\n",
      "---------\n",
      "Epoch 30/100\n",
      "Train Loss: 0.1209\n",
      "Val Loss: 0.4314\n",
      "---------\n",
      "Epoch 31/100\n",
      "Train Loss: 0.1402\n",
      "Val Loss: 0.6635\n",
      "---------\n",
      "Epoch 32/100\n",
      "Train Loss: 0.1232\n",
      "Val Loss: 0.8025\n",
      "---------\n",
      "Epoch 33/100\n",
      "Train Loss: 0.0817\n",
      "Val Loss: 0.3518\n",
      "---------\n",
      "Epoch 34/100\n",
      "Train Loss: 0.1047\n",
      "Val Loss: 0.3095\n",
      "---------\n",
      "Epoch 35/100\n",
      "Train Loss: 0.1231\n",
      "Val Loss: 0.5510\n",
      "---------\n",
      "Epoch 36/100\n",
      "Train Loss: 0.1002\n",
      "Val Loss: 0.7222\n",
      "---------\n",
      "Epoch 37/100\n",
      "Train Loss: 0.0884\n",
      "Val Loss: 0.5183\n",
      "---------\n",
      "Epoch 38/100\n",
      "Train Loss: 0.1089\n",
      "Val Loss: 0.5910\n",
      "---------\n",
      "Epoch 39/100\n",
      "Train Loss: 0.0943\n",
      "Val Loss: 0.5731\n",
      "---------\n",
      "Epoch 40/100\n",
      "Train Loss: 0.0829\n",
      "Val Loss: 0.3834\n",
      "---------\n",
      "Epoch 41/100\n",
      "Train Loss: 0.0977\n",
      "Val Loss: 0.5256\n",
      "---------\n",
      "Epoch 42/100\n",
      "Train Loss: 0.0931\n",
      "Val Loss: 0.6342\n",
      "---------\n",
      "Epoch 43/100\n",
      "Train Loss: 0.0822\n",
      "Val Loss: 0.4723\n",
      "---------\n",
      "Epoch 44/100\n",
      "Train Loss: 0.0992\n",
      "Val Loss: 0.5503\n",
      "---------\n",
      "Epoch 45/100\n",
      "Train Loss: 0.0932\n",
      "Val Loss: 0.6165\n",
      "---------\n",
      "Epoch 46/100\n",
      "Train Loss: 0.0789\n",
      "Val Loss: 0.4150\n",
      "---------\n",
      "Epoch 47/100\n",
      "Train Loss: 0.0963\n",
      "Val Loss: 0.4911\n",
      "---------\n",
      "Epoch 48/100\n",
      "Train Loss: 0.0872\n",
      "Val Loss: 0.6128\n",
      "---------\n",
      "Epoch 49/100\n",
      "Train Loss: 0.0784\n",
      "Val Loss: 0.4154\n",
      "---------\n",
      "Epoch 50/100\n",
      "Train Loss: 0.0987\n",
      "Val Loss: 0.5349\n",
      "---------\n",
      "Epoch 51/100\n",
      "Train Loss: 0.0909\n",
      "Val Loss: 0.6933\n",
      "---------\n",
      "Epoch 52/100\n",
      "Train Loss: 0.0866\n",
      "Val Loss: 0.4517\n",
      "---------\n",
      "Epoch 53/100\n",
      "Train Loss: 0.1387\n",
      "Val Loss: 0.7633\n",
      "---------\n",
      "Epoch 54/100\n",
      "Train Loss: 0.1784\n",
      "Val Loss: 0.6099\n",
      "---------\n",
      "Epoch 55/100\n",
      "Train Loss: 0.1082\n",
      "Val Loss: 0.2780\n",
      "---------\n",
      "Epoch 56/100\n",
      "Train Loss: 0.1003\n",
      "Val Loss: 0.3300\n",
      "---------\n",
      "Epoch 57/100\n",
      "Train Loss: 0.0913\n",
      "Val Loss: 0.6337\n",
      "---------\n",
      "Epoch 58/100\n",
      "Train Loss: 0.1169\n",
      "Val Loss: 0.4974\n",
      "---------\n",
      "Epoch 59/100\n",
      "Train Loss: 0.0830\n",
      "Val Loss: 0.4048\n",
      "---------\n",
      "Epoch 60/100\n",
      "Train Loss: 0.0749\n",
      "Val Loss: 0.3307\n",
      "---------\n",
      "Epoch 61/100\n",
      "Train Loss: 0.0817\n",
      "Val Loss: 0.4445\n",
      "---------\n",
      "Epoch 62/100\n",
      "Train Loss: 0.0902\n",
      "Val Loss: 0.5523\n",
      "---------\n",
      "Epoch 63/100\n",
      "Train Loss: 0.0685\n",
      "Val Loss: 0.4555\n",
      "---------\n",
      "Epoch 64/100\n",
      "Train Loss: 0.0769\n",
      "Val Loss: 0.4018\n",
      "---------\n",
      "Epoch 65/100\n",
      "Train Loss: 0.0780\n",
      "Val Loss: 0.4519\n",
      "---------\n",
      "Epoch 66/100\n",
      "Train Loss: 0.0650\n",
      "Val Loss: 0.3905\n",
      "---------\n",
      "Epoch 67/100\n",
      "Train Loss: 0.0748\n",
      "Val Loss: 0.3533\n",
      "---------\n",
      "Epoch 68/100\n",
      "Train Loss: 0.0742\n",
      "Val Loss: 0.4367\n",
      "---------\n",
      "Epoch 69/100\n",
      "Train Loss: 0.0672\n",
      "Val Loss: 0.3485\n",
      "---------\n",
      "Epoch 70/100\n",
      "Train Loss: 0.1102\n",
      "Val Loss: 0.4191\n",
      "---------\n",
      "Epoch 71/100\n",
      "Train Loss: 0.1268\n",
      "Val Loss: 0.4634\n",
      "---------\n",
      "Epoch 72/100\n",
      "Train Loss: 0.0879\n",
      "Val Loss: 0.5191\n",
      "---------\n",
      "Epoch 73/100\n",
      "Train Loss: 0.0780\n",
      "Val Loss: 0.2915\n",
      "---------\n",
      "Epoch 74/100\n",
      "Train Loss: 0.0970\n",
      "Val Loss: 0.4642\n",
      "---------\n",
      "Epoch 75/100\n",
      "Train Loss: 0.0851\n",
      "Val Loss: 0.6092\n",
      "---------\n",
      "Epoch 76/100\n",
      "Train Loss: 0.0656\n",
      "Val Loss: 0.2677\n",
      "---------\n",
      "Epoch 77/100\n",
      "Train Loss: 0.0945\n",
      "Val Loss: 0.2477\n",
      "---------\n",
      "Epoch 78/100\n",
      "Train Loss: 0.0953\n",
      "Val Loss: 0.3801\n",
      "---------\n",
      "Epoch 79/100\n",
      "Train Loss: 0.0649\n",
      "Val Loss: 0.3833\n",
      "---------\n",
      "Epoch 80/100\n",
      "Train Loss: 0.0698\n",
      "Val Loss: 0.2805\n",
      "---------\n",
      "Epoch 81/100\n",
      "Train Loss: 0.0767\n",
      "Val Loss: 0.3677\n",
      "---------\n",
      "Epoch 82/100\n",
      "Train Loss: 0.0684\n",
      "Val Loss: 0.4011\n",
      "---------\n",
      "Epoch 83/100\n",
      "Train Loss: 0.0744\n",
      "Val Loss: 0.4223\n",
      "---------\n",
      "Epoch 84/100\n",
      "Train Loss: 0.0800\n",
      "Val Loss: 0.5281\n",
      "---------\n",
      "Epoch 85/100\n",
      "Train Loss: 0.0740\n",
      "Val Loss: 0.4936\n",
      "---------\n",
      "Epoch 86/100\n",
      "Train Loss: 0.0786\n",
      "Val Loss: 0.4471\n",
      "---------\n",
      "Epoch 87/100\n",
      "Train Loss: 0.0796\n",
      "Val Loss: 0.4687\n",
      "---------\n",
      "Epoch 88/100\n",
      "Train Loss: 0.0714\n",
      "Val Loss: 0.3900\n",
      "---------\n",
      "Epoch 89/100\n",
      "Train Loss: 0.0754\n",
      "Val Loss: 0.3727\n",
      "---------\n",
      "Epoch 90/100\n",
      "Train Loss: 0.0706\n",
      "Val Loss: 0.3795\n",
      "---------\n",
      "Epoch 91/100\n",
      "Train Loss: 0.0653\n",
      "Val Loss: 0.3097\n",
      "---------\n",
      "Epoch 92/100\n",
      "Train Loss: 0.0716\n",
      "Val Loss: 0.3148\n",
      "---------\n",
      "Epoch 93/100\n",
      "Train Loss: 0.0656\n",
      "Val Loss: 0.3165\n",
      "---------\n",
      "Epoch 94/100\n",
      "Train Loss: 0.0678\n",
      "Val Loss: 0.2758\n",
      "---------\n",
      "Epoch 95/100\n",
      "Train Loss: 0.0727\n",
      "Val Loss: 0.3331\n",
      "---------\n",
      "Epoch 96/100\n",
      "Train Loss: 0.0690\n",
      "Val Loss: 0.3580\n",
      "---------\n",
      "Epoch 97/100\n",
      "Train Loss: 0.0997\n",
      "Val Loss: 0.3166\n",
      "---------\n",
      "Epoch 98/100\n",
      "Train Loss: 0.1161\n",
      "Val Loss: 0.3423\n",
      "---------\n",
      "Epoch 99/100\n",
      "Train Loss: 0.0864\n",
      "Val Loss: 0.4320\n",
      "---------\n",
      "Epoch 100/100\n",
      "Train Loss: 0.0698\n",
      "Val Loss: 0.2932\n",
      "---------\n",
      "92.01233983039856 [s]\n"
     ]
    }
   ],
   "source": [
    "start = time.time()\n",
    "num_epochs = 100\n",
    "subset = 10\n",
    "val_loss_list = []\n",
    "train_loss_list = []\n",
    "\n",
    "for epoch in range(num_epochs):\n",
    "    model.train()\n",
    "    total_loss = 0\n",
    "    for batch in train_data[:subset]:\n",
    "        optimizer.zero_grad()\n",
    "        y_hat = model(batch.x, batch.edge_index)\n",
    "        # loss = criterion(y_hat, batch.y)\n",
    "        loss = torch.sum((y_hat - batch.y)**2)\n",
    "        loss.backward()\n",
    "        optimizer.step()\n",
    "        total_loss += loss.item()\n",
    "            \n",
    "    avg_loss = total_loss / train_size\n",
    "    print(f\"Epoch {epoch + 1}/{num_epochs}\\nTrain Loss: {avg_loss:.4f}\")\n",
    "    train_loss_list.append(avg_loss)\n",
    "    \n",
    "    model.eval()\n",
    "    with torch.no_grad():\n",
    "        val_loss = 0\n",
    "        for batch in val_data[:subset]:\n",
    "            y_hat = model(batch.x, batch.edge_index)\n",
    "            # loss = criterion(y_hat, batch.y)\n",
    "            loss = torch.sum((y_hat - batch.y)**2)\n",
    "            val_loss += loss.item()\n",
    "       \n",
    "    avg_val_loss = val_loss / val_size\n",
    "    print(f\"Val Loss: {avg_val_loss:.4f}\\n---------\")\n",
    "    val_loss_list.append(avg_val_loss)\n",
    "    \n",
    "end = time.time()\n",
    "print(f'{end-start} [s]')"
   ]
  },
  {
   "cell_type": "code",
   "execution_count": 20,
   "id": "67473d25-fe56-4865-b871-e1a5205e09b2",
   "metadata": {
    "tags": []
   },
   "outputs": [
    {
     "data": {
      "image/png": "[encoded data removed]",
      "text/plain": [
       "<Figure size 2000x700 with 1 Axes>"
      ]
     },
     "metadata": {},
     "output_type": "display_data"
    }
   ],
   "source": [
    "x = np.arange(1, len(train_loss_list)+1)\n",
    "plt.figure(figsize=(20,7))\n",
    "plt.plot(x, train_loss_list, label = 'train loss')\n",
    "plt.plot(x, val_loss_list, label = 'val loss')\n",
    "plt.title('Loss plot')\n",
    "plt.legend()\n",
    "plt.show()"
   ]
  },
  {
   "cell_type": "code",
   "execution_count": 22,
   "id": "78e91c04-7cef-49f5-9ec7-ef8ce5b64f22",
   "metadata": {
    "tags": []
   },
   "outputs": [
    {
     "name": "stdout",
     "output_type": "stream",
     "text": [
      "MAE for 1 feature: 4.196816921234131\n",
      "MAE for 2 feature: 1284.7816162109375\n"
     ]
    },
    {
     "data": {
      "image/png": "[encoded data removed]",
      "text/plain": [
       "<Figure size 1000x600 with 8 Axes>"
      ]
     },
     "metadata": {},
     "output_type": "display_data"
    }
   ],
   "source": [
    "sample = train_data[0]\n",
    "X = sample.x\n",
    "y = sample.y\n",
    "y = y.reshape((num_latitudes, num_longitudes, num_features, FH))\n",
    "y = y.cpu().detach().numpy()\n",
    "\n",
    "y_hat = model(X, edge_index)\n",
    "y_hat = y_hat.reshape((num_latitudes, num_longitudes, num_features, FH))\n",
    "y_hat = y_hat.cpu().detach().numpy()\n",
    "\n",
    "yshape = (num_latitudes, num_longitudes, FH)\n",
    "\n",
    "for i in range(num_features):\n",
    "    yi = y[...,i,:].copy().reshape(-1,1)\n",
    "    yhat_i = y_hat[...,i,:].copy().reshape(-1,1)\n",
    "    \n",
    "    y[...,i,:] = scalers[i].inverse_transform(yi).reshape(yshape)\n",
    "    y_hat[...,i,:] = scalers[i].inverse_transform(yhat_i).reshape(yshape)\n",
    "\n",
    "    \n",
    "for i in range(num_features):\n",
    "    loss = np.mean(np.abs(y_hat[...,i,:].reshape(-1,1) - y[...,i,:].reshape(-1,1)))\n",
    "    print(f'MAE for {i+1} feature: {loss}')\n",
    "\n",
    "    \n",
    "fig, ax = plt.subplots(num_features, 2*FH, figsize=(10*FH, 3*num_features))\n",
    "\n",
    "for j in range(num_features):\n",
    "    cur_feature = f'f{j}'\n",
    "    ts = 0\n",
    "    for k in range(2*FH):\n",
    "        if k % 3 == 0:\n",
    "            title = rf\"$X_{{{cur_feature},t+{ts+1}}}$\"\n",
    "            value = y[..., j,:]\n",
    "            cmap = plt.cm.coolwarm\n",
    "        elif k % 3 == 1:\n",
    "            title = rf\"$\\hat{{X}}_{{{cur_feature},t+{ts+1}}}$\"\n",
    "            value = y_hat[..., j,:]\n",
    "            cmap = plt.cm.coolwarm\n",
    "       \n",
    "        pl = ax[j, k].imshow(value.reshape(num_latitudes, num_longitudes), cmap=cmap)\n",
    "        ax[j, k].set_title(title)\n",
    "        ax[j, k].axis(\"off\")\n",
    "        _ = fig.colorbar(pl, ax=ax[j, k], fraction=0.15)\n"
   ]
  },
  {
   "cell_type": "code",
   "execution_count": null,
   "id": "3b32cb7d-662c-4481-b637-317183ea77a4",
   "metadata": {},
   "outputs": [],
   "source": [
    "# It has some potential I guess"
   ]
  }
 ],
 "metadata": {
  "kernelspec": {
   "display_name": "Python 3 (ipykernel)",
   "language": "python",
   "name": "python3"
  },
  "language_info": {
   "codemirror_mode": {
    "name": "ipython",
    "version": 3
   },
   "file_extension": ".py",
   "mimetype": "text/x-python",
   "name": "python",
   "nbconvert_exporter": "python",
   "pygments_lexer": "ipython3",
   "version": "3.11.4"
  }
 },
 "nbformat": 4,
 "nbformat_minor": 5
}
