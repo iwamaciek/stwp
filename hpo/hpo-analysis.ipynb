{
 "cells": [
  {
   "cell_type": "code",
   "execution_count": null,
   "id": "d9eaacdd-b4e7-4775-bc9f-4b5cfc44d648",
   "metadata": {},
   "outputs": [],
   "source": [
    "import sys\n",
    "sys.path.append(\"..\")\n",
    "from hpo import HPO"
   ]
  },
  {
   "cell_type": "code",
   "execution_count": null,
   "id": "bc53c589-c8c2-4077-86cf-ea2f74a3d5f2",
   "metadata": {},
   "outputs": [],
   "source": [
    "baselines = ['simple-linear', 'linear', 'lgbm']\n",
    "networks = ['cnn', 'gnn']"
   ]
  },
  {
   "cell_type": "markdown",
   "id": "b27ce1e5-4c4e-401d-b0a7-a876a0f36e7f",
   "metadata": {},
   "source": [
    "### Baselines HPO & analysis"
   ]
  },
  {
   "cell_type": "code",
   "execution_count": null,
   "id": "32e59e88-eaa3-40db-8f1a-c305e1299bbf",
   "metadata": {},
   "outputs": [],
   "source": [
    "params = {\n",
    "    'baseline_type' : '',\n",
    "    'n_trials' : 10,\n",
    "    'sequence_n_trials' : 60,\n",
    "    'fh_n_trials' : 10,\n",
    "    'sequence_length' : 5,\n",
    "    'forcasting_horizon' : 1,\n",
    "}\n",
    "\n",
    "# example for simple-linear:\n",
    "\n",
    "model = baselines[0]\n",
    "params['baseline_type'] = model\n",
    "hpo = HPO(**params)\n",
    "hpo.run_full_study()\n",
    "hpo.write_plots_to_json()"
   ]
  },
  {
   "cell_type": "markdown",
   "id": "842ead2f-cfdc-4454-b81e-2b60cc06f8ff",
   "metadata": {},
   "source": [
    "### Neural networks analysis"
   ]
  },
  {
   "cell_type": "code",
   "execution_count": null,
   "id": "85934f89-53d1-4196-a5f2-3e16904f7318",
   "metadata": {},
   "outputs": [],
   "source": [
    "params = {\n",
    "    'baseline_type' : '',\n",
    "    'n_trials' : 10,\n",
    "    'sequence_n_trials' : 10,\n",
    "    'fh_n_trials' : 10,\n",
    "    'num_epochs' : 1000,\n",
    "    'sequence_length' : 5,\n",
    "    'forcasting_horizon' : 1,\n",
    "}\n",
    "\n",
    "# example for cnn:\n",
    "model = networks[0]\n",
    "params['baseline_type'] = model\n",
    "hpo = HPO(**params)\n",
    "# hpo.gnn_layer()\n",
    "# hpo.determine_best_s()\n",
    "# hpo.determine_best_fh()\n",
    "# hpo.monthly_error()\n",
    "# hpo.collect_metrics()\n",
    "# hpo.write_plots_to_json()\n",
    "# ..."
   ]
  }
 ],
 "metadata": {
  "kernelspec": {
   "display_name": "Python 3 (ipykernel)",
   "language": "python",
   "name": "python3"
  },
  "language_info": {
   "codemirror_mode": {
    "name": "ipython",
    "version": 3
   },
   "file_extension": ".py",
   "mimetype": "text/x-python",
   "name": "python",
   "nbconvert_exporter": "python",
   "pygments_lexer": "ipython3",
   "version": "3.11.4"
  }
 },
 "nbformat": 4,
 "nbformat_minor": 5
}
