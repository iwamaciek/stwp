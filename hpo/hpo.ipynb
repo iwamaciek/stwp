{
 "cells": [
  {
   "cell_type": "code",
   "execution_count": 1,
   "metadata": {},
   "outputs": [
    {
     "name": "stderr",
     "output_type": "stream",
     "text": [
      "/Users/piotr/Documents/inzynierka/projekt/meteoapp-data/venv/lib/python3.11/site-packages/tqdm/auto.py:21: TqdmWarning: IProgress not found. Please update jupyter and ipywidgets. See https://ipywidgets.readthedocs.io/en/stable/user_install.html\n",
      "  from .autonotebook import tqdm as notebook_tqdm\n"
     ]
    }
   ],
   "source": [
    "import xarray as xr\n",
    "import cfgrib\n",
    "import numpy as np\n",
    "import optuna\n",
    "\n",
    "from functools import partial\n",
    "from sklearn.metrics import mean_squared_error\n",
    "import sys\n",
    "sys.path.append(\"..\")\n",
    "\n",
    "from baselines.data_processor import DataProcessor\n",
    "from baselines.linear_reg.linear_regressor import LinearRegressor"
   ]
  },
  {
   "cell_type": "code",
   "execution_count": 2,
   "metadata": {},
   "outputs": [],
   "source": [
    "grib_data = cfgrib.open_datasets('../data2022.grib')\n",
    "surface = grib_data[0] \n",
    "hybrid = grib_data[1] "
   ]
  },
  {
   "cell_type": "code",
   "execution_count": 3,
   "metadata": {},
   "outputs": [],
   "source": [
    "feature_list = ['t2m', 'tp', 'sp', 'tcc', 'u10', 'v10']\n",
    "t2m = surface.t2m.to_numpy() - 273.15  # -> C\n",
    "sp = surface.sp.to_numpy() / 100       # -> hPa\n",
    "tcc = surface.tcc.to_numpy()\n",
    "u10 = surface.u10.to_numpy()\n",
    "v10 = surface.v10.to_numpy()\n",
    "tp = hybrid.tp.to_numpy().reshape((-1,) + hybrid.tp.shape[2:])\n",
    "data = np.stack((t2m, tp, sp, tcc, u10, v10), axis=-1)"
   ]
  },
  {
   "cell_type": "code",
   "execution_count": 4,
   "metadata": {},
   "outputs": [],
   "source": [
    "def objective(trial, data, feature_list):\n",
    "    #Parameters for optimization\n",
    "    s = trial.suggest_int('s', 3, 8)  \n",
    "    # fh = trial.suggest_int('fh', 1, 3)\n",
    "    use_neighbours = trial.suggest_categorical('use_neighbours', [False, True]) \n",
    "    fh = 1\n",
    "    alpha = trial.suggest_float('alpha', 0.1, 2.1, step=0.2)\n",
    "    regressor_type = trial.suggest_categorical('regressor_type', ['lasso', 'ridge', 'elastic_net'])\n",
    "\n",
    "    processor = DataProcessor(data)\n",
    "    X, y = processor.preprocess(s, fh, use_neighbours=use_neighbours)\n",
    "    X_train, X_test, y_train, y_test = processor.train_test_split(X, y)\n",
    "    \n",
    "    \n",
    "    linearreg = LinearRegressor(X.shape, fh, feature_list, regressor_type=regressor_type, alpha=alpha)\n",
    "    linearreg.train(X_train, y_train, normalize=True)\n",
    "    y_hat = linearreg.predict_(X_test, y_test)\n",
    "    \n",
    "    rmse_values = linearreg.get_rmse(y_hat, y_test, normalize=True)\n",
    "    mean_rmse = np.mean(rmse_values)\n",
    "\n",
    "    return mean_rmse"
   ]
  },
  {
   "cell_type": "code",
   "execution_count": 5,
   "metadata": {},
   "outputs": [
    {
     "name": "stderr",
     "output_type": "stream",
     "text": [
      "[I 2023-11-14 13:37:27,899] A new study created in memory with name: no-name-b23b261e-2c3a-471c-a8a2-021fd1eaac89\n"
     ]
    }
   ],
   "source": [
    "#create an optuna study and objective function\n",
    "study = optuna.create_study(direction='minimize')\n",
    "objective_func = partial(objective, data=data, feature_list=feature_list)"
   ]
  },
  {
   "cell_type": "code",
   "execution_count": 6,
   "metadata": {},
   "outputs": [
    {
     "name": "stderr",
     "output_type": "stream",
     "text": [
      "[I 2023-11-14 13:38:16,544] Trial 0 finished with value: 0.06249999999999999 and parameters: {'s': 8, 'use_neighbours': True, 'alpha': 1.3000000000000003, 'regressor_type': 'ridge'}. Best is trial 0 with value: 0.06249999999999999.\n",
      "/Users/piotr/Documents/inzynierka/projekt/meteoapp-data/venv/lib/python3.11/site-packages/sklearn/linear_model/_coordinate_descent.py:628: ConvergenceWarning: Objective did not converge. You might want to increase the number of iterations, check the scale of the features or consider increasing regularisation. Duality gap: 9.229e+03, tolerance: 8.884e+03\n",
      "  model = cd_fast.enet_coordinate_descent(\n",
      "[I 2023-11-14 13:42:47,845] Trial 1 finished with value: 0.08316666666666665 and parameters: {'s': 4, 'use_neighbours': True, 'alpha': 1.5000000000000002, 'regressor_type': 'elastic_net'}. Best is trial 0 with value: 0.06249999999999999.\n",
      "[I 2023-11-14 13:43:18,919] Trial 2 finished with value: 0.06299999999999999 and parameters: {'s': 7, 'use_neighbours': True, 'alpha': 0.1, 'regressor_type': 'ridge'}. Best is trial 0 with value: 0.06249999999999999.\n",
      "[I 2023-11-14 13:43:34,155] Trial 3 finished with value: 0.06533333333333333 and parameters: {'s': 3, 'use_neighbours': True, 'alpha': 0.9, 'regressor_type': 'ridge'}. Best is trial 0 with value: 0.06249999999999999.\n",
      "[I 2023-11-14 13:43:51,634] Trial 4 finished with value: 0.08383333333333332 and parameters: {'s': 5, 'use_neighbours': False, 'alpha': 1.7000000000000002, 'regressor_type': 'elastic_net'}. Best is trial 0 with value: 0.06249999999999999.\n",
      "/Users/piotr/Documents/inzynierka/projekt/meteoapp-data/venv/lib/python3.11/site-packages/sklearn/linear_model/_coordinate_descent.py:628: ConvergenceWarning: Objective did not converge. You might want to increase the number of iterations, check the scale of the features or consider increasing regularisation. Duality gap: 1.281e+05, tolerance: 8.887e+03\n",
      "  model = cd_fast.enet_coordinate_descent(\n",
      "[I 2023-11-14 13:47:30,483] Trial 5 finished with value: 0.08399999999999998 and parameters: {'s': 3, 'use_neighbours': True, 'alpha': 0.7000000000000001, 'regressor_type': 'lasso'}. Best is trial 0 with value: 0.06249999999999999.\n",
      "[I 2023-11-14 13:47:34,300] Trial 6 finished with value: 0.06449999999999999 and parameters: {'s': 6, 'use_neighbours': False, 'alpha': 2.1, 'regressor_type': 'ridge'}. Best is trial 0 with value: 0.06249999999999999.\n",
      "[I 2023-11-14 13:47:38,694] Trial 7 finished with value: 0.06433333333333333 and parameters: {'s': 7, 'use_neighbours': False, 'alpha': 0.7000000000000001, 'regressor_type': 'ridge'}. Best is trial 0 with value: 0.06249999999999999.\n",
      "[I 2023-11-14 13:48:34,794] Trial 8 finished with value: 0.08299999999999999 and parameters: {'s': 8, 'use_neighbours': False, 'alpha': 1.1, 'regressor_type': 'elastic_net'}. Best is trial 0 with value: 0.06249999999999999.\n",
      "/Users/piotr/Documents/inzynierka/projekt/meteoapp-data/venv/lib/python3.11/site-packages/sklearn/linear_model/_coordinate_descent.py:628: ConvergenceWarning: Objective did not converge. You might want to increase the number of iterations, check the scale of the features or consider increasing regularisation. Duality gap: 1.151e+05, tolerance: 8.878e+03\n",
      "  model = cd_fast.enet_coordinate_descent(\n",
      "[I 2023-11-14 13:54:08,874] Trial 9 finished with value: 0.08249999999999999 and parameters: {'s': 5, 'use_neighbours': True, 'alpha': 0.9, 'regressor_type': 'lasso'}. Best is trial 0 with value: 0.06249999999999999.\n",
      "[I 2023-11-14 13:54:45,306] Trial 10 finished with value: 0.06266666666666666 and parameters: {'s': 8, 'use_neighbours': True, 'alpha': 1.5000000000000002, 'regressor_type': 'ridge'}. Best is trial 0 with value: 0.06249999999999999.\n",
      "[I 2023-11-14 13:55:16,912] Trial 11 finished with value: 0.06266666666666666 and parameters: {'s': 8, 'use_neighbours': True, 'alpha': 1.5000000000000002, 'regressor_type': 'ridge'}. Best is trial 0 with value: 0.06249999999999999.\n",
      "[I 2023-11-14 13:55:45,672] Trial 12 finished with value: 0.06299999999999999 and parameters: {'s': 7, 'use_neighbours': True, 'alpha': 1.9000000000000001, 'regressor_type': 'ridge'}. Best is trial 0 with value: 0.06249999999999999.\n",
      "[I 2023-11-14 13:56:18,224] Trial 13 finished with value: 0.06249999999999999 and parameters: {'s': 8, 'use_neighbours': True, 'alpha': 1.3000000000000003, 'regressor_type': 'ridge'}. Best is trial 0 with value: 0.06249999999999999.\n",
      "[I 2023-11-14 13:56:45,706] Trial 14 finished with value: 0.06333333333333332 and parameters: {'s': 6, 'use_neighbours': True, 'alpha': 1.3000000000000003, 'regressor_type': 'ridge'}. Best is trial 0 with value: 0.06249999999999999.\n",
      "/Users/piotr/Documents/inzynierka/projekt/meteoapp-data/venv/lib/python3.11/site-packages/sklearn/linear_model/_coordinate_descent.py:628: ConvergenceWarning: Objective did not converge. You might want to increase the number of iterations, check the scale of the features or consider increasing regularisation. Duality gap: 1.699e+05, tolerance: 8.867e+03\n",
      "  model = cd_fast.enet_coordinate_descent(\n",
      "[I 2023-11-14 14:07:54,056] Trial 15 finished with value: 0.08166666666666665 and parameters: {'s': 8, 'use_neighbours': True, 'alpha': 0.5, 'regressor_type': 'lasso'}. Best is trial 0 with value: 0.06249999999999999.\n",
      "[I 2023-11-14 14:08:24,847] Trial 16 finished with value: 0.06299999999999999 and parameters: {'s': 7, 'use_neighbours': True, 'alpha': 1.1, 'regressor_type': 'ridge'}. Best is trial 0 with value: 0.06249999999999999.\n",
      "[I 2023-11-14 14:08:49,616] Trial 17 finished with value: 0.06333333333333332 and parameters: {'s': 6, 'use_neighbours': True, 'alpha': 1.3000000000000003, 'regressor_type': 'ridge'}. Best is trial 0 with value: 0.06249999999999999.\n",
      "[I 2023-11-14 14:09:14,041] Trial 18 finished with value: 0.08566666666666667 and parameters: {'s': 8, 'use_neighbours': False, 'alpha': 1.9000000000000001, 'regressor_type': 'lasso'}. Best is trial 0 with value: 0.06249999999999999.\n",
      "/Users/piotr/Documents/inzynierka/projekt/meteoapp-data/venv/lib/python3.11/site-packages/sklearn/linear_model/_coordinate_descent.py:628: ConvergenceWarning: Objective did not converge. You might want to increase the number of iterations, check the scale of the features or consider increasing regularisation. Duality gap: 3.481e+05, tolerance: 8.869e+03\n",
      "  model = cd_fast.enet_coordinate_descent(\n",
      "/Users/piotr/Documents/inzynierka/projekt/meteoapp-data/venv/lib/python3.11/site-packages/sklearn/linear_model/_coordinate_descent.py:628: ConvergenceWarning: Objective did not converge. You might want to increase the number of iterations, check the scale of the features or consider increasing regularisation. Duality gap: 1.588e+05, tolerance: 5.730e+04\n",
      "  model = cd_fast.enet_coordinate_descent(\n",
      "[I 2023-11-14 14:24:38,126] Trial 19 finished with value: 0.08166666666666665 and parameters: {'s': 7, 'use_neighbours': True, 'alpha': 0.30000000000000004, 'regressor_type': 'elastic_net'}. Best is trial 0 with value: 0.06249999999999999.\n",
      "[I 2023-11-14 14:24:56,330] Trial 20 finished with value: 0.06433333333333333 and parameters: {'s': 4, 'use_neighbours': True, 'alpha': 1.3000000000000003, 'regressor_type': 'ridge'}. Best is trial 0 with value: 0.06249999999999999.\n",
      "[I 2023-11-14 14:25:30,498] Trial 21 finished with value: 0.06266666666666666 and parameters: {'s': 8, 'use_neighbours': True, 'alpha': 1.5000000000000002, 'regressor_type': 'ridge'}. Best is trial 0 with value: 0.06249999999999999.\n",
      "[I 2023-11-14 14:26:02,592] Trial 22 finished with value: 0.06266666666666666 and parameters: {'s': 8, 'use_neighbours': True, 'alpha': 1.7000000000000002, 'regressor_type': 'ridge'}. Best is trial 0 with value: 0.06249999999999999.\n",
      "[I 2023-11-14 14:26:31,238] Trial 23 finished with value: 0.06299999999999999 and parameters: {'s': 7, 'use_neighbours': True, 'alpha': 1.7000000000000002, 'regressor_type': 'ridge'}. Best is trial 0 with value: 0.06249999999999999.\n",
      "[I 2023-11-14 14:27:08,353] Trial 24 finished with value: 0.06249999999999999 and parameters: {'s': 8, 'use_neighbours': True, 'alpha': 1.3000000000000003, 'regressor_type': 'ridge'}. Best is trial 0 with value: 0.06249999999999999.\n",
      "[I 2023-11-14 14:27:40,304] Trial 25 finished with value: 0.06249999999999999 and parameters: {'s': 8, 'use_neighbours': True, 'alpha': 0.9, 'regressor_type': 'ridge'}. Best is trial 0 with value: 0.06249999999999999.\n",
      "[I 2023-11-14 14:27:44,512] Trial 26 finished with value: 0.06433333333333333 and parameters: {'s': 7, 'use_neighbours': False, 'alpha': 1.3000000000000003, 'regressor_type': 'ridge'}. Best is trial 0 with value: 0.06249999999999999.\n",
      "[I 2023-11-14 14:28:09,544] Trial 27 finished with value: 0.06333333333333332 and parameters: {'s': 6, 'use_neighbours': True, 'alpha': 1.1, 'regressor_type': 'ridge'}. Best is trial 0 with value: 0.06249999999999999.\n",
      "/Users/piotr/Documents/inzynierka/projekt/meteoapp-data/venv/lib/python3.11/site-packages/sklearn/linear_model/_coordinate_descent.py:628: ConvergenceWarning: Objective did not converge. You might want to increase the number of iterations, check the scale of the features or consider increasing regularisation. Duality gap: 8.095e+04, tolerance: 8.867e+03\n",
      "  model = cd_fast.enet_coordinate_descent(\n",
      "[I 2023-11-14 14:36:16,127] Trial 28 finished with value: 0.08349999999999998 and parameters: {'s': 8, 'use_neighbours': True, 'alpha': 1.3000000000000003, 'regressor_type': 'lasso'}. Best is trial 0 with value: 0.06249999999999999.\n",
      "/Users/piotr/Documents/inzynierka/projekt/meteoapp-data/venv/lib/python3.11/site-packages/sklearn/linear_model/_coordinate_descent.py:628: ConvergenceWarning: Objective did not converge. You might want to increase the number of iterations, check the scale of the features or consider increasing regularisation. Duality gap: 1.156e+05, tolerance: 8.878e+03\n",
      "  model = cd_fast.enet_coordinate_descent(\n",
      "[I 2023-11-14 14:43:03,624] Trial 29 finished with value: 0.08233333333333333 and parameters: {'s': 5, 'use_neighbours': True, 'alpha': 1.1, 'regressor_type': 'elastic_net'}. Best is trial 0 with value: 0.06249999999999999.\n",
      "/Users/piotr/Documents/inzynierka/projekt/meteoapp-data/venv/lib/python3.11/site-packages/sklearn/linear_model/_coordinate_descent.py:628: ConvergenceWarning: Objective did not converge. You might want to increase the number of iterations, check the scale of the features or consider increasing regularisation. Duality gap: 4.854e+04, tolerance: 8.884e+03\n",
      "  model = cd_fast.enet_coordinate_descent(\n",
      "/Users/piotr/Documents/inzynierka/projekt/meteoapp-data/venv/lib/python3.11/site-packages/sklearn/linear_model/_coordinate_descent.py:628: ConvergenceWarning: Objective did not converge. You might want to increase the number of iterations, check the scale of the features or consider increasing regularisation. Duality gap: 5.955e+04, tolerance: 5.737e+04\n",
      "  model = cd_fast.enet_coordinate_descent(\n",
      "[I 2023-11-14 14:49:25,688] Trial 30 finished with value: 0.08283333333333333 and parameters: {'s': 4, 'use_neighbours': True, 'alpha': 0.7000000000000001, 'regressor_type': 'elastic_net'}. Best is trial 0 with value: 0.06249999999999999.\n",
      "[I 2023-11-14 14:50:07,172] Trial 31 finished with value: 0.06249999999999999 and parameters: {'s': 8, 'use_neighbours': True, 'alpha': 0.9, 'regressor_type': 'ridge'}. Best is trial 0 with value: 0.06249999999999999.\n",
      "[I 2023-11-14 14:50:35,526] Trial 32 finished with value: 0.06299999999999999 and parameters: {'s': 7, 'use_neighbours': True, 'alpha': 0.9, 'regressor_type': 'ridge'}. Best is trial 0 with value: 0.06249999999999999.\n",
      "[I 2023-11-14 14:51:07,507] Trial 33 finished with value: 0.06249999999999999 and parameters: {'s': 8, 'use_neighbours': True, 'alpha': 1.1, 'regressor_type': 'ridge'}. Best is trial 0 with value: 0.06249999999999999.\n",
      "[I 2023-11-14 14:51:35,862] Trial 34 finished with value: 0.06299999999999999 and parameters: {'s': 7, 'use_neighbours': True, 'alpha': 1.5000000000000002, 'regressor_type': 'ridge'}. Best is trial 0 with value: 0.06249999999999999.\n",
      "[I 2023-11-14 14:52:08,661] Trial 35 finished with value: 0.06266666666666666 and parameters: {'s': 8, 'use_neighbours': True, 'alpha': 0.5, 'regressor_type': 'ridge'}. Best is trial 0 with value: 0.06249999999999999.\n",
      "[I 2023-11-14 14:52:42,073] Trial 36 finished with value: 0.06266666666666666 and parameters: {'s': 8, 'use_neighbours': True, 'alpha': 0.1, 'regressor_type': 'ridge'}. Best is trial 0 with value: 0.06249999999999999.\n",
      "[I 2023-11-14 14:52:46,241] Trial 37 finished with value: 0.06433333333333333 and parameters: {'s': 7, 'use_neighbours': False, 'alpha': 0.9, 'regressor_type': 'ridge'}. Best is trial 0 with value: 0.06249999999999999.\n",
      "[I 2023-11-14 14:53:01,223] Trial 38 finished with value: 0.06533333333333333 and parameters: {'s': 3, 'use_neighbours': True, 'alpha': 1.7000000000000002, 'regressor_type': 'ridge'}. Best is trial 0 with value: 0.06249999999999999.\n",
      "[I 2023-11-14 14:54:04,353] Trial 39 finished with value: 0.08249999999999999 and parameters: {'s': 8, 'use_neighbours': False, 'alpha': 0.7000000000000001, 'regressor_type': 'elastic_net'}. Best is trial 0 with value: 0.06249999999999999.\n",
      "/Users/piotr/Documents/inzynierka/projekt/meteoapp-data/venv/lib/python3.11/site-packages/sklearn/linear_model/_coordinate_descent.py:628: ConvergenceWarning: Objective did not converge. You might want to increase the number of iterations, check the scale of the features or consider increasing regularisation. Duality gap: 8.095e+04, tolerance: 8.867e+03\n",
      "  model = cd_fast.enet_coordinate_descent(\n",
      "[I 2023-11-14 15:02:01,838] Trial 40 finished with value: 0.08349999999999998 and parameters: {'s': 8, 'use_neighbours': True, 'alpha': 1.3000000000000003, 'regressor_type': 'lasso'}. Best is trial 0 with value: 0.06249999999999999.\n",
      "[I 2023-11-14 15:02:35,042] Trial 41 finished with value: 0.06249999999999999 and parameters: {'s': 8, 'use_neighbours': True, 'alpha': 0.9, 'regressor_type': 'ridge'}. Best is trial 0 with value: 0.06249999999999999.\n",
      "[I 2023-11-14 15:03:08,724] Trial 42 finished with value: 0.06249999999999999 and parameters: {'s': 8, 'use_neighbours': True, 'alpha': 1.1, 'regressor_type': 'ridge'}. Best is trial 0 with value: 0.06249999999999999.\n",
      "[I 2023-11-14 15:03:42,719] Trial 43 finished with value: 0.06249999999999999 and parameters: {'s': 8, 'use_neighbours': True, 'alpha': 0.9, 'regressor_type': 'ridge'}. Best is trial 0 with value: 0.06249999999999999.\n",
      "[I 2023-11-14 15:04:11,397] Trial 44 finished with value: 0.06299999999999999 and parameters: {'s': 7, 'use_neighbours': True, 'alpha': 0.7000000000000001, 'regressor_type': 'ridge'}. Best is trial 0 with value: 0.06249999999999999.\n",
      "[I 2023-11-14 15:04:45,680] Trial 45 finished with value: 0.06249999999999999 and parameters: {'s': 8, 'use_neighbours': True, 'alpha': 1.1, 'regressor_type': 'ridge'}. Best is trial 0 with value: 0.06249999999999999.\n",
      "[I 2023-11-14 15:05:10,710] Trial 46 finished with value: 0.06333333333333332 and parameters: {'s': 6, 'use_neighbours': True, 'alpha': 0.5, 'regressor_type': 'ridge'}. Best is trial 0 with value: 0.06249999999999999.\n",
      "[I 2023-11-14 15:05:14,864] Trial 47 finished with value: 0.06433333333333333 and parameters: {'s': 7, 'use_neighbours': False, 'alpha': 1.5000000000000002, 'regressor_type': 'ridge'}. Best is trial 0 with value: 0.06249999999999999.\n",
      "[I 2023-11-14 15:05:47,989] Trial 48 finished with value: 0.06249999999999999 and parameters: {'s': 8, 'use_neighbours': True, 'alpha': 1.3000000000000003, 'regressor_type': 'ridge'}. Best is trial 0 with value: 0.06249999999999999.\n",
      "/Users/piotr/Documents/inzynierka/projekt/meteoapp-data/venv/lib/python3.11/site-packages/sklearn/linear_model/_coordinate_descent.py:628: ConvergenceWarning: Objective did not converge. You might want to increase the number of iterations, check the scale of the features or consider increasing regularisation. Duality gap: 1.298e+05, tolerance: 8.869e+03\n",
      "  model = cd_fast.enet_coordinate_descent(\n",
      "[I 2023-11-14 15:13:15,336] Trial 49 finished with value: 0.08249999999999999 and parameters: {'s': 7, 'use_neighbours': True, 'alpha': 0.9, 'regressor_type': 'lasso'}. Best is trial 0 with value: 0.06249999999999999.\n",
      "/Users/piotr/Documents/inzynierka/projekt/meteoapp-data/venv/lib/python3.11/site-packages/sklearn/linear_model/_coordinate_descent.py:628: ConvergenceWarning: Objective did not converge. You might want to increase the number of iterations, check the scale of the features or consider increasing regularisation. Duality gap: 9.557e+04, tolerance: 8.867e+03\n",
      "  model = cd_fast.enet_coordinate_descent(\n",
      "[I 2023-11-14 15:22:07,152] Trial 50 finished with value: 0.08299999999999999 and parameters: {'s': 8, 'use_neighbours': True, 'alpha': 1.9000000000000001, 'regressor_type': 'elastic_net'}. Best is trial 0 with value: 0.06249999999999999.\n",
      "[I 2023-11-14 15:22:48,189] Trial 51 finished with value: 0.06249999999999999 and parameters: {'s': 8, 'use_neighbours': True, 'alpha': 1.1, 'regressor_type': 'ridge'}. Best is trial 0 with value: 0.06249999999999999.\n",
      "[I 2023-11-14 15:23:32,330] Trial 52 finished with value: 0.06249999999999999 and parameters: {'s': 8, 'use_neighbours': True, 'alpha': 1.1, 'regressor_type': 'ridge'}. Best is trial 0 with value: 0.06249999999999999.\n",
      "[I 2023-11-14 15:24:15,064] Trial 53 finished with value: 0.06249999999999999 and parameters: {'s': 8, 'use_neighbours': True, 'alpha': 1.3000000000000003, 'regressor_type': 'ridge'}. Best is trial 0 with value: 0.06249999999999999.\n",
      "[I 2023-11-14 15:24:57,336] Trial 54 finished with value: 0.06249999999999999 and parameters: {'s': 8, 'use_neighbours': True, 'alpha': 0.9, 'regressor_type': 'ridge'}. Best is trial 0 with value: 0.06249999999999999.\n",
      "[I 2023-11-14 15:25:35,456] Trial 55 finished with value: 0.06266666666666666 and parameters: {'s': 8, 'use_neighbours': True, 'alpha': 1.5000000000000002, 'regressor_type': 'ridge'}. Best is trial 0 with value: 0.06249999999999999.\n",
      "[I 2023-11-14 15:26:06,410] Trial 56 finished with value: 0.06299999999999999 and parameters: {'s': 7, 'use_neighbours': True, 'alpha': 1.1, 'regressor_type': 'ridge'}. Best is trial 0 with value: 0.06249999999999999.\n",
      "[I 2023-11-14 15:26:12,246] Trial 57 finished with value: 0.06399999999999999 and parameters: {'s': 8, 'use_neighbours': False, 'alpha': 1.3000000000000003, 'regressor_type': 'ridge'}. Best is trial 0 with value: 0.06249999999999999.\n",
      "[I 2023-11-14 15:26:46,346] Trial 58 finished with value: 0.06299999999999999 and parameters: {'s': 7, 'use_neighbours': True, 'alpha': 0.7000000000000001, 'regressor_type': 'ridge'}. Best is trial 0 with value: 0.06249999999999999.\n",
      "/Users/piotr/Documents/inzynierka/projekt/meteoapp-data/venv/lib/python3.11/site-packages/sklearn/linear_model/_coordinate_descent.py:628: ConvergenceWarning: Objective did not converge. You might want to increase the number of iterations, check the scale of the features or consider increasing regularisation. Duality gap: 1.051e+05, tolerance: 8.878e+03\n",
      "  model = cd_fast.enet_coordinate_descent(\n",
      "[I 2023-11-14 15:31:31,098] Trial 59 finished with value: 0.08283333333333333 and parameters: {'s': 5, 'use_neighbours': True, 'alpha': 1.1, 'regressor_type': 'lasso'}. Best is trial 0 with value: 0.06249999999999999.\n",
      "[I 2023-11-14 15:32:16,990] Trial 60 finished with value: 0.06266666666666666 and parameters: {'s': 8, 'use_neighbours': True, 'alpha': 1.5000000000000002, 'regressor_type': 'ridge'}. Best is trial 0 with value: 0.06249999999999999.\n",
      "[I 2023-11-14 15:32:51,654] Trial 61 finished with value: 0.06249999999999999 and parameters: {'s': 8, 'use_neighbours': True, 'alpha': 0.9, 'regressor_type': 'ridge'}. Best is trial 0 with value: 0.06249999999999999.\n",
      "[I 2023-11-14 15:33:38,608] Trial 62 finished with value: 0.06249999999999999 and parameters: {'s': 8, 'use_neighbours': True, 'alpha': 0.9, 'regressor_type': 'ridge'}. Best is trial 0 with value: 0.06249999999999999.\n",
      "[I 2023-11-14 15:34:24,467] Trial 63 finished with value: 0.06266666666666666 and parameters: {'s': 8, 'use_neighbours': True, 'alpha': 0.7000000000000001, 'regressor_type': 'ridge'}. Best is trial 0 with value: 0.06249999999999999.\n",
      "[I 2023-11-14 15:35:32,576] Trial 64 finished with value: 0.06249999999999999 and parameters: {'s': 8, 'use_neighbours': True, 'alpha': 1.3000000000000003, 'regressor_type': 'ridge'}. Best is trial 0 with value: 0.06249999999999999.\n",
      "[I 2023-11-14 15:36:10,572] Trial 65 finished with value: 0.06249999999999999 and parameters: {'s': 8, 'use_neighbours': True, 'alpha': 1.1, 'regressor_type': 'ridge'}. Best is trial 0 with value: 0.06249999999999999.\n",
      "[I 2023-11-14 15:36:43,229] Trial 66 finished with value: 0.06299999999999999 and parameters: {'s': 7, 'use_neighbours': True, 'alpha': 0.9, 'regressor_type': 'ridge'}. Best is trial 0 with value: 0.06249999999999999.\n",
      "/Users/piotr/Documents/inzynierka/projekt/meteoapp-data/venv/lib/python3.11/site-packages/sklearn/linear_model/_coordinate_descent.py:628: ConvergenceWarning: Objective did not converge. You might want to increase the number of iterations, check the scale of the features or consider increasing regularisation. Duality gap: 6.881e+04, tolerance: 8.867e+03\n",
      "  model = cd_fast.enet_coordinate_descent(\n",
      "[I 2023-11-14 15:44:56,898] Trial 67 finished with value: 0.08333333333333333 and parameters: {'s': 8, 'use_neighbours': True, 'alpha': 2.1, 'regressor_type': 'elastic_net'}. Best is trial 0 with value: 0.06249999999999999.\n",
      "[I 2023-11-14 15:45:01,634] Trial 68 finished with value: 0.06399999999999999 and parameters: {'s': 8, 'use_neighbours': False, 'alpha': 0.5, 'regressor_type': 'ridge'}. Best is trial 0 with value: 0.06249999999999999.\n",
      "[I 2023-11-14 15:45:30,270] Trial 69 finished with value: 0.06299999999999999 and parameters: {'s': 7, 'use_neighbours': True, 'alpha': 1.3000000000000003, 'regressor_type': 'ridge'}. Best is trial 0 with value: 0.06249999999999999.\n",
      "[I 2023-11-14 15:46:08,402] Trial 70 finished with value: 0.06266666666666666 and parameters: {'s': 8, 'use_neighbours': True, 'alpha': 0.30000000000000004, 'regressor_type': 'ridge'}. Best is trial 0 with value: 0.06249999999999999.\n",
      "[I 2023-11-14 15:46:53,178] Trial 71 finished with value: 0.06249999999999999 and parameters: {'s': 8, 'use_neighbours': True, 'alpha': 1.1, 'regressor_type': 'ridge'}. Best is trial 0 with value: 0.06249999999999999.\n",
      "[I 2023-11-14 15:47:45,261] Trial 72 finished with value: 0.06249999999999999 and parameters: {'s': 8, 'use_neighbours': True, 'alpha': 0.9, 'regressor_type': 'ridge'}. Best is trial 0 with value: 0.06249999999999999.\n",
      "[I 2023-11-14 15:48:27,863] Trial 73 finished with value: 0.06249999999999999 and parameters: {'s': 8, 'use_neighbours': True, 'alpha': 1.1, 'regressor_type': 'ridge'}. Best is trial 0 with value: 0.06249999999999999.\n",
      "[I 2023-11-14 15:48:44,354] Trial 74 finished with value: 0.06533333333333333 and parameters: {'s': 3, 'use_neighbours': True, 'alpha': 1.1, 'regressor_type': 'ridge'}. Best is trial 0 with value: 0.06249999999999999.\n",
      "[I 2023-11-14 15:49:25,292] Trial 75 finished with value: 0.06299999999999999 and parameters: {'s': 7, 'use_neighbours': True, 'alpha': 1.3000000000000003, 'regressor_type': 'ridge'}. Best is trial 0 with value: 0.06249999999999999.\n",
      "/Users/piotr/Documents/inzynierka/projekt/meteoapp-data/venv/lib/python3.11/site-packages/sklearn/linear_model/_coordinate_descent.py:628: ConvergenceWarning: Objective did not converge. You might want to increase the number of iterations, check the scale of the features or consider increasing regularisation. Duality gap: 1.212e+05, tolerance: 8.867e+03\n",
      "  model = cd_fast.enet_coordinate_descent(\n",
      "[I 2023-11-14 15:58:17,077] Trial 76 finished with value: 0.08283333333333333 and parameters: {'s': 8, 'use_neighbours': True, 'alpha': 1.1, 'regressor_type': 'lasso'}. Best is trial 0 with value: 0.06249999999999999.\n",
      "[I 2023-11-14 15:58:56,082] Trial 77 finished with value: 0.06249999999999999 and parameters: {'s': 8, 'use_neighbours': True, 'alpha': 0.9, 'regressor_type': 'ridge'}. Best is trial 0 with value: 0.06249999999999999.\n",
      "/Users/piotr/Documents/inzynierka/projekt/meteoapp-data/venv/lib/python3.11/site-packages/sklearn/linear_model/_coordinate_descent.py:628: ConvergenceWarning: Objective did not converge. You might want to increase the number of iterations, check the scale of the features or consider increasing regularisation. Duality gap: 2.166e+05, tolerance: 8.867e+03\n",
      "  model = cd_fast.enet_coordinate_descent(\n",
      "/Users/piotr/Documents/inzynierka/projekt/meteoapp-data/venv/lib/python3.11/site-packages/sklearn/linear_model/_coordinate_descent.py:628: ConvergenceWarning: Objective did not converge. You might want to increase the number of iterations, check the scale of the features or consider increasing regularisation. Duality gap: 7.411e+04, tolerance: 5.727e+04\n",
      "  model = cd_fast.enet_coordinate_descent(\n",
      "[I 2023-11-14 16:13:07,336] Trial 78 finished with value: 0.08166666666666665 and parameters: {'s': 8, 'use_neighbours': True, 'alpha': 0.7000000000000001, 'regressor_type': 'elastic_net'}. Best is trial 0 with value: 0.06249999999999999.\n",
      "[I 2023-11-14 16:13:11,338] Trial 79 finished with value: 0.06449999999999999 and parameters: {'s': 6, 'use_neighbours': False, 'alpha': 1.3000000000000003, 'regressor_type': 'ridge'}. Best is trial 0 with value: 0.06249999999999999.\n",
      "[I 2023-11-14 16:13:30,407] Trial 80 finished with value: 0.06433333333333333 and parameters: {'s': 4, 'use_neighbours': True, 'alpha': 0.9, 'regressor_type': 'ridge'}. Best is trial 0 with value: 0.06249999999999999.\n",
      "[I 2023-11-14 16:14:08,200] Trial 81 finished with value: 0.06249999999999999 and parameters: {'s': 8, 'use_neighbours': True, 'alpha': 0.9, 'regressor_type': 'ridge'}. Best is trial 0 with value: 0.06249999999999999.\n",
      "[I 2023-11-14 16:14:49,099] Trial 82 finished with value: 0.06249999999999999 and parameters: {'s': 8, 'use_neighbours': True, 'alpha': 1.1, 'regressor_type': 'ridge'}. Best is trial 0 with value: 0.06249999999999999.\n",
      "[I 2023-11-14 16:15:30,584] Trial 83 finished with value: 0.06266666666666666 and parameters: {'s': 8, 'use_neighbours': True, 'alpha': 0.7000000000000001, 'regressor_type': 'ridge'}. Best is trial 0 with value: 0.06249999999999999.\n",
      "[I 2023-11-14 16:16:13,615] Trial 84 finished with value: 0.06249999999999999 and parameters: {'s': 8, 'use_neighbours': True, 'alpha': 1.3000000000000003, 'regressor_type': 'ridge'}. Best is trial 0 with value: 0.06249999999999999.\n",
      "[I 2023-11-14 16:16:47,559] Trial 85 finished with value: 0.06249999999999999 and parameters: {'s': 8, 'use_neighbours': True, 'alpha': 1.1, 'regressor_type': 'ridge'}. Best is trial 0 with value: 0.06249999999999999.\n",
      "[I 2023-11-14 16:17:18,181] Trial 86 finished with value: 0.06299999999999999 and parameters: {'s': 7, 'use_neighbours': True, 'alpha': 0.9, 'regressor_type': 'ridge'}. Best is trial 0 with value: 0.06249999999999999.\n",
      "[I 2023-11-14 16:17:51,911] Trial 87 finished with value: 0.06266666666666666 and parameters: {'s': 8, 'use_neighbours': True, 'alpha': 1.5000000000000002, 'regressor_type': 'ridge'}. Best is trial 0 with value: 0.06249999999999999.\n",
      "/Users/piotr/Documents/inzynierka/projekt/meteoapp-data/venv/lib/python3.11/site-packages/sklearn/linear_model/_coordinate_descent.py:628: ConvergenceWarning: Objective did not converge. You might want to increase the number of iterations, check the scale of the features or consider increasing regularisation. Duality gap: 1.572e+05, tolerance: 8.867e+03\n",
      "  model = cd_fast.enet_coordinate_descent(\n",
      "[I 2023-11-14 16:27:41,881] Trial 88 finished with value: 0.08199999999999999 and parameters: {'s': 8, 'use_neighbours': True, 'alpha': 0.7000000000000001, 'regressor_type': 'lasso'}. Best is trial 0 with value: 0.06249999999999999.\n",
      "[I 2023-11-14 16:28:17,848] Trial 89 finished with value: 0.06249999999999999 and parameters: {'s': 8, 'use_neighbours': True, 'alpha': 1.3000000000000003, 'regressor_type': 'ridge'}. Best is trial 0 with value: 0.06249999999999999.\n",
      "[I 2023-11-14 16:28:50,650] Trial 90 finished with value: 0.06249999999999999 and parameters: {'s': 8, 'use_neighbours': True, 'alpha': 0.9, 'regressor_type': 'ridge'}. Best is trial 0 with value: 0.06249999999999999.\n",
      "[I 2023-11-14 16:29:23,572] Trial 91 finished with value: 0.06249999999999999 and parameters: {'s': 8, 'use_neighbours': True, 'alpha': 1.1, 'regressor_type': 'ridge'}. Best is trial 0 with value: 0.06249999999999999.\n",
      "[I 2023-11-14 16:29:54,988] Trial 92 finished with value: 0.06249999999999999 and parameters: {'s': 8, 'use_neighbours': True, 'alpha': 1.1, 'regressor_type': 'ridge'}. Best is trial 0 with value: 0.06249999999999999.\n",
      "[I 2023-11-14 16:30:26,735] Trial 93 finished with value: 0.06249999999999999 and parameters: {'s': 8, 'use_neighbours': True, 'alpha': 0.9, 'regressor_type': 'ridge'}. Best is trial 0 with value: 0.06249999999999999.\n",
      "[I 2023-11-14 16:30:57,849] Trial 94 finished with value: 0.06249999999999999 and parameters: {'s': 8, 'use_neighbours': True, 'alpha': 1.1, 'regressor_type': 'ridge'}. Best is trial 0 with value: 0.06249999999999999.\n",
      "[I 2023-11-14 16:31:29,145] Trial 95 finished with value: 0.06249999999999999 and parameters: {'s': 8, 'use_neighbours': True, 'alpha': 1.3000000000000003, 'regressor_type': 'ridge'}. Best is trial 0 with value: 0.06249999999999999.\n",
      "[I 2023-11-14 16:32:06,240] Trial 96 finished with value: 0.08366666666666665 and parameters: {'s': 8, 'use_neighbours': False, 'alpha': 1.5000000000000002, 'regressor_type': 'elastic_net'}. Best is trial 0 with value: 0.06249999999999999.\n",
      "[I 2023-11-14 16:32:39,560] Trial 97 finished with value: 0.06249999999999999 and parameters: {'s': 8, 'use_neighbours': True, 'alpha': 1.1, 'regressor_type': 'ridge'}. Best is trial 0 with value: 0.06249999999999999.\n",
      "[I 2023-11-14 16:33:07,845] Trial 98 finished with value: 0.06299999999999999 and parameters: {'s': 7, 'use_neighbours': True, 'alpha': 0.9, 'regressor_type': 'ridge'}. Best is trial 0 with value: 0.06249999999999999.\n",
      "[I 2023-11-14 16:33:36,438] Trial 99 finished with value: 0.06299999999999999 and parameters: {'s': 7, 'use_neighbours': True, 'alpha': 1.3000000000000003, 'regressor_type': 'ridge'}. Best is trial 0 with value: 0.06249999999999999.\n"
     ]
    }
   ],
   "source": [
    "n_trials = 100  # Number of trials to run\n",
    "study.optimize(objective_func, n_trials=n_trials)"
   ]
  },
  {
   "cell_type": "code",
   "execution_count": 7,
   "metadata": {},
   "outputs": [],
   "source": [
    "best_s = study.best_params['s']\n",
    "# best_fh = study.best_params['fh']\n",
    "best_regressor_type = study.best_params['regressor_type']\n",
    "best_alpha = study.best_params['alpha']\n",
    "best_neighbour = study.best_params['use_neighbours']"
   ]
  },
  {
   "cell_type": "code",
   "execution_count": 8,
   "metadata": {
    "tags": []
   },
   "outputs": [
    {
     "name": "stdout",
     "output_type": "stream",
     "text": [
      "Best hyperparameters:\n",
      "Best input window: 8\n",
      "Best regressor type: ridge\n",
      "Best regularization constant: 1.3000000000000003\n",
      "Best use_neighbours value: True\n"
     ]
    }
   ],
   "source": [
    "print('Best hyperparameters:')\n",
    "print(f\"Best input window: {best_s}\")\n",
    "print(f\"Best regressor type: {best_regressor_type}\")\n",
    "print(f\"Best regularization constant: {best_alpha}\")\n",
    "print(f\"Best use_neighbours value: {best_neighbour}\")"
   ]
  }
 ],
 "metadata": {
  "kernelspec": {
   "display_name": "venv",
   "language": "python",
   "name": "venv"
  },
  "language_info": {
   "codemirror_mode": {
    "name": "ipython",
    "version": 3
   },
   "file_extension": ".py",
   "mimetype": "text/x-python",
   "name": "python",
   "nbconvert_exporter": "python",
   "pygments_lexer": "ipython3",
   "version": "3.11.4"
  }
 },
 "nbformat": 4,
 "nbformat_minor": 4
}
