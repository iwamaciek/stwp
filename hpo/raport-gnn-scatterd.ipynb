{
 "cells": [
  {
   "cell_type": "code",
   "execution_count": 1,
   "metadata": {},
   "outputs": [
    {
     "name": "stderr",
     "output_type": "stream",
     "text": [
      "d:\\Piotr\\inzynierka\\meteoapp-data\\venv\\lib\\site-packages\\tqdm\\auto.py:21: TqdmWarning: IProgress not found. Please update jupyter and ipywidgets. See https://ipywidgets.readthedocs.io/en/stable/user_install.html\n",
      "  from .autonotebook import tqdm as notebook_tqdm\n",
      "d:\\Piotr\\inzynierka\\meteoapp-data\\venv\\lib\\site-packages\\gribapi\\__init__.py:23: UserWarning: ecCodes 2.31.0 or higher is recommended. You are running version 2.27.0\n",
      "  warnings.warn(\n"
     ]
    }
   ],
   "source": [
    "import sys\n",
    "sys.path.append(\"..\")\n",
    "from hpo import HPO\n",
    "from models.config import config as cfg"
   ]
  },
  {
   "cell_type": "code",
   "execution_count": 2,
   "metadata": {},
   "outputs": [],
   "source": [
    "params = {\n",
    "'baseline_type' : 'gnn',\n",
    "'n_trials' : 10,\n",
    "'sequence_n_trials' : 10,\n",
    "'fh_n_trials' : 10,\n",
    "'num_epochs' : 1000,\n",
    "'sequence_length' : 5,\n",
    "'forcasting_horizon' : 1,\n",
    "'subset' : None,\n",
    "}"
   ]
  },
  {
   "cell_type": "code",
   "execution_count": 3,
   "metadata": {},
   "outputs": [],
   "source": [
    "hpo = HPO(**params)"
   ]
  },
  {
   "cell_type": "code",
   "execution_count": 4,
   "metadata": {},
   "outputs": [],
   "source": [
    "# hpo.gnn_layer()"
   ]
  },
  {
   "cell_type": "code",
   "execution_count": 5,
   "metadata": {},
   "outputs": [],
   "source": [
    "# hpo.write_plots_to_json()"
   ]
  },
  {
   "cell_type": "code",
   "execution_count": 6,
   "metadata": {},
   "outputs": [],
   "source": [
    "# hpo.determine_best_s()"
   ]
  },
  {
   "cell_type": "code",
   "execution_count": 7,
   "metadata": {},
   "outputs": [],
   "source": [
    "# hpo.write_plots_to_json()"
   ]
  },
  {
   "cell_type": "code",
   "execution_count": 8,
   "metadata": {},
   "outputs": [],
   "source": [
    "# hpo.determine_best_fh()"
   ]
  },
  {
   "cell_type": "code",
   "execution_count": 9,
   "metadata": {},
   "outputs": [],
   "source": [
    "# hpo.write_plots_to_json()"
   ]
  },
  {
   "cell_type": "code",
   "execution_count": 10,
   "metadata": {},
   "outputs": [],
   "source": [
    "# hpo.collect_metrics(model=\"D:\\Piotr\\inzynierka\\meteoapp-data\\hpo\\model_state_gnn_cell_9.pt\")"
   ]
  },
  {
   "cell_type": "code",
   "execution_count": 11,
   "metadata": {},
   "outputs": [],
   "source": [
    "# hpo.write_plots_to_json()"
   ]
  },
  {
   "cell_type": "code",
   "execution_count": 12,
   "metadata": {},
   "outputs": [],
   "source": [
    "# hpo.monthly_error(model=\"D:\\Piotr\\inzynierka\\meteoapp-data\\hpo\\model_state_gnn_cell_9.pt\")"
   ]
  },
  {
   "cell_type": "code",
   "execution_count": 13,
   "metadata": {},
   "outputs": [],
   "source": [
    "models = ['D:\\Piotr\\inzynierka\\meteoapp-data\\hpo\\model_state_gnn_cell_2.pt'\n",
    "        , 'D:\\Piotr\\inzynierka\\meteoapp-data\\hpo\\model_state_gnn_cell_3.pt'\n",
    "        , 'D:\\Piotr\\inzynierka\\meteoapp-data\\hpo\\model_state_gnn_cell_4.pt'\n",
    "        , 'D:\\Piotr\\inzynierka\\meteoapp-data\\hpo\\model_state_gnn_cell_5.pt'\n",
    "        , 'D:\\Piotr\\inzynierka\\meteoapp-data\\hpo\\model_state_gnn_cell_6.pt'\n",
    "        , 'D:\\Piotr\\inzynierka\\meteoapp-data\\hpo\\model_state_gnn_cell_7.pt'\n",
    "        , 'D:\\Piotr\\inzynierka\\meteoapp-data\\hpo\\model_state_gnn_cell_8.pt'\n",
    "        , 'D:\\Piotr\\inzynierka\\meteoapp-data\\hpo\\model_state_gnn_cell_9.pt'\n",
    "        ]"
   ]
  },
  {
   "cell_type": "code",
   "execution_count": 14,
   "metadata": {},
   "outputs": [
    {
     "name": "stdout",
     "output_type": "stream",
     "text": [
      "RMSE for t2m: 0.2001433243965101; MAE for t2m: 0.15038405483624928;\n",
      "RMSE for sp: 0.052842283905512114; MAE for sp: 0.03837383947542153;\n",
      "RMSE for tcc: 0.7951122378407147; MAE for tcc: 0.5463331296803542;\n",
      "RMSE for u10: 0.37483102385952305; MAE for u10: 0.273316811173258;\n",
      "RMSE for v10: 0.44029539186230177; MAE for v10: 0.3197741504588685;\n",
      "RMSE for tp: 1.0903216026070952; MAE for tp: 0.2866442875065266;\n",
      "RMSE for t2m: 1.6460355676481133; MAE for t2m: 1.2368011949562805;\n",
      "RMSE for sp: 1.2777073403163037; MAE for sp: 0.9278655748238934;\n",
      "RMSE for tcc: 0.2934864745400193; MAE for tcc: 0.20105993387093427;\n",
      "RMSE for u10: 1.2479982211203946; MAE for u10: 0.9100071041382343;\n",
      "RMSE for v10: 1.2610203420197204; MAE for v10: 0.9158435818661916;\n",
      "RMSE for tp: 0.3022884371515878; MAE for tp: 0.07947128042397374;\n",
      "RMSE for t2m: 0.1938914442562441; MAE for t2m: 0.14631029289331235;\n",
      "RMSE for sp: 0.05229309242047294; MAE for sp: 0.03798516516027271;\n",
      "RMSE for tcc: 0.7833757306696815; MAE for tcc: 0.5355895289347349;\n",
      "RMSE for u10: 0.36011527160288737; MAE for u10: 0.2635391922312115;\n",
      "RMSE for v10: 0.4200461055133097; MAE for v10: 0.30532986375861315;\n",
      "RMSE for tp: 1.0739116182448771; MAE for tp: 0.2842891471566021;\n",
      "RMSE for t2m: 1.5946183268149927; MAE for t2m: 1.2032974178038927;\n",
      "RMSE for sp: 1.2644281236146382; MAE for sp: 0.9184676226715197;\n",
      "RMSE for tcc: 0.2891343392254576; MAE for tcc: 0.1971362615530685;\n",
      "RMSE for u10: 1.199002190739667; MAE for u10: 0.8774525660629389;\n",
      "RMSE for v10: 1.2030257267194173; MAE for v10: 0.8744746738762547;\n",
      "RMSE for tp: 0.2977388174054731; MAE for tp: 0.0788183247593345;\n",
      "RMSE for t2m: 0.1956551990046726; MAE for t2m: 0.14701843917966947;\n",
      "RMSE for sp: 0.05367106090140798; MAE for sp: 0.03968541482003154;\n",
      "RMSE for tcc: 0.7728089746107152; MAE for tcc: 0.5292039233915723;\n",
      "RMSE for u10: 0.3544110075866991; MAE for u10: 0.2593373002790224;\n",
      "RMSE for v10: 0.4086146961979816; MAE for v10: 0.2982885725876641;\n",
      "RMSE for tp: 1.0773333650728625; MAE for tp: 0.2840009998546343;\n",
      "RMSE for t2m: 1.6091239475870018; MAE for t2m: 1.2091214152715188;\n",
      "RMSE for sp: 1.2977469296685615; MAE for sp: 0.9595790526563927;\n",
      "RMSE for tcc: 0.2849782052530386; MAE for tcc: 0.1942572436035615;\n",
      "RMSE for u10: 1.180009868892233; MAE for u10: 0.8634623854624415;\n",
      "RMSE for v10: 1.1702857976604684; MAE for v10: 0.854308186332804;\n",
      "RMSE for tp: 0.2986874866059644; MAE for tp: 0.07873843684814039;\n",
      "RMSE for t2m: 0.19514417709196788; MAE for t2m: 0.14699906123471135;\n",
      "RMSE for sp: 0.05023010306093123; MAE for sp: 0.03683989639585121;\n",
      "RMSE for tcc: 0.768621446304101; MAE for tcc: 0.5222249662283713;\n",
      "RMSE for u10: 0.3515426845755028; MAE for u10: 0.25680351053825695;\n",
      "RMSE for v10: 0.39969632888080564; MAE for v10: 0.2901871194301802;\n",
      "RMSE for tp: 1.0784577503513781; MAE for tp: 0.28385883288721775;\n",
      "RMSE for t2m: 1.6049211589285095; MAE for t2m: 1.2089620451755245;\n",
      "RMSE for sp: 1.2145457418785381; MAE for sp: 0.890775388062721;\n",
      "RMSE for tcc: 0.2836978503856189; MAE for tcc: 0.19217773477407435;\n",
      "RMSE for u10: 1.1704597980128961; MAE for u10: 0.8550261423191072;\n",
      "RMSE for v10: 1.1447433039056039; MAE for v10: 0.8311053618641089;\n",
      "RMSE for tp: 0.29899921908052307; MAE for tp: 0.07869902142161175;\n",
      "RMSE for t2m: 0.19397493612855843; MAE for t2m: 0.14488482190908958;\n",
      "RMSE for sp: 0.050133713166139335; MAE for sp: 0.036842986986273106;\n",
      "RMSE for tcc: 0.7671574548286663; MAE for tcc: 0.5205351280785506;\n",
      "RMSE for u10: 0.3440989485861341; MAE for u10: 0.25123301976513207;\n",
      "RMSE for v10: 0.3994595177818283; MAE for v10: 0.2912005914462707;\n",
      "RMSE for tp: 1.0671492524758734; MAE for tp: 0.28005165203105736;\n",
      "RMSE for t2m: 1.595304987877235; MAE for t2m: 1.1915739392985507;\n",
      "RMSE for sp: 1.2122150923178303; MAE for sp: 0.8908501299261113;\n",
      "RMSE for tcc: 0.2832165453522794; MAE for tcc: 0.1915937265168226;\n",
      "RMSE for u10: 1.1456759168206347; MAE for u10: 0.8364792233390537;\n",
      "RMSE for v10: 1.1440650694583965; MAE for v10: 0.8340079761481853;\n",
      "RMSE for tp: 0.2958639715919857; MAE for tp: 0.07764349175112403;\n",
      "RMSE for t2m: 0.19564892750090254; MAE for t2m: 0.14693958505949256;\n",
      "RMSE for sp: 0.051101105615149085; MAE for sp: 0.03773948362512676;\n",
      "RMSE for tcc: 0.7636694915041593; MAE for tcc: 0.5155356344742658;\n",
      "RMSE for u10: 0.3472394550436933; MAE for u10: 0.254734710957257;\n",
      "RMSE for v10: 0.3980810513049625; MAE for v10: 0.290509431354484;\n",
      "RMSE for tp: 1.0677521451603083; MAE for tp: 0.28209581102789316;\n",
      "RMSE for t2m: 1.6090723677116545; MAE for t2m: 1.208472895842793;\n",
      "RMSE for sp: 1.2356062874326483; MAE for sp: 0.9125270977712183;\n",
      "RMSE for tcc: 0.281876787216063; MAE for tcc: 0.18964184667810738;\n",
      "RMSE for u10: 1.1561322166033512; MAE for u10: 0.8481380858540482;\n",
      "RMSE for v10: 1.140117095348258; MAE for v10: 0.8320284710670623;\n",
      "RMSE for tp: 0.2960311217853861; MAE for tp: 0.07821022883878306;\n",
      "RMSE for t2m: 0.1949007875348844; MAE for t2m: 0.14651581713721262;\n",
      "RMSE for sp: 0.052207776772685; MAE for sp: 0.038367730312863356;\n",
      "RMSE for tcc: 0.7643198000852437; MAE for tcc: 0.5165649591393575;\n",
      "RMSE for u10: 0.35178246391925405; MAE for u10: 0.25856125370771377;\n",
      "RMSE for v10: 0.4025219404026222; MAE for v10: 0.29447741135104993;\n",
      "RMSE for tp: 1.0750711487571092; MAE for tp: 0.2831880866541964;\n",
      "RMSE for t2m: 1.60291945438126; MAE for t2m: 1.2049877095531931;\n",
      "RMSE for sp: 1.2623652126101816; MAE for sp: 0.9277178837268993;\n",
      "RMSE for tcc: 0.28202355731593415; MAE for tcc: 0.18987164349013783;\n",
      "RMSE for u10: 1.1712581421677688; MAE for u10: 0.8608785408614722;\n",
      "RMSE for v10: 1.1528359469816314; MAE for v10: 0.84339289736062;\n",
      "RMSE for tp: 0.29806029382723986; MAE for tp: 0.0785130589099764;\n",
      "RMSE for t2m: 0.19299823262528168; MAE for t2m: 0.14491744547312252;\n",
      "RMSE for sp: 0.04926109194527901; MAE for sp: 0.036173368856492305;\n",
      "RMSE for tcc: 0.7616174450923762; MAE for tcc: 0.5178820413925481;\n",
      "RMSE for u10: 0.3390093045938798; MAE for u10: 0.24762251678266395;\n",
      "RMSE for v10: 0.3892524895098882; MAE for v10: 0.2827742182582211;\n",
      "RMSE for tp: 1.07347666072205; MAE for tp: 0.2827408364719125;\n",
      "RMSE for t2m: 1.5872722996097663; MAE for t2m: 1.1918422437273597;\n",
      "RMSE for sp: 1.1911154242961137; MAE for sp: 0.8746590161472593;\n",
      "RMSE for tcc: 0.28107729173247875; MAE for tcc: 0.19039283449678687;\n",
      "RMSE for u10: 1.1287299712326153; MAE for u10: 0.8244580670046268;\n",
      "RMSE for v10: 1.114831811340374; MAE for v10: 0.8098745745431607;\n",
      "RMSE for tp: 0.2976182267486866; MAE for tp: 0.07838906030161838;\n"
     ]
    }
   ],
   "source": [
    "hpo.gnn_layer(models=models)"
   ]
  },
  {
   "cell_type": "code",
   "execution_count": 15,
   "metadata": {},
   "outputs": [],
   "source": [
    "hpo.write_plots_to_json()"
   ]
  }
 ],
 "metadata": {
  "kernelspec": {
   "display_name": "Python 3 (ipykernel)",
   "language": "python",
   "name": "python3"
  },
  "language_info": {
   "codemirror_mode": {
    "name": "ipython",
    "version": 3
   },
   "file_extension": ".py",
   "mimetype": "text/x-python",
   "name": "python",
   "nbconvert_exporter": "python",
   "pygments_lexer": "ipython3",
   "version": "3.10.11"
  }
 },
 "nbformat": 4,
 "nbformat_minor": 4
}
