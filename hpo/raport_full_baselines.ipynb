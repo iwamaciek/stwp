{
 "cells": [
  {
   "cell_type": "code",
   "execution_count": null,
   "metadata": {},
   "outputs": [],
   "source": [
    "import sys\n",
    "sys.path.append(\"..\")\n",
    "from hpo import HPO"
   ]
  },
  {
   "cell_type": "code",
   "execution_count": null,
   "metadata": {},
   "outputs": [],
   "source": [
    "params = {\n",
    "'baseline_type' : 'simple-linear',\n",
    "'n_trials' : 10,\n",
    "'sequence_n_trials' : 60,\n",
    "'fh_n_trials' : 10,\n",
    "}\n",
    "\n"
   ]
  },
  {
   "cell_type": "code",
   "execution_count": null,
   "metadata": {},
   "outputs": [],
   "source": [
    "hpo = HPO(**params)"
   ]
  },
  {
   "cell_type": "code",
   "execution_count": null,
   "metadata": {},
   "outputs": [],
   "source": [
    "hpo.run_full_study()"
   ]
  },
  {
   "cell_type": "code",
   "execution_count": null,
   "metadata": {},
   "outputs": [],
   "source": [
    "params = {\n",
    "'baseline_type' : 'linear',\n",
    "'n_trials' : 10,\n",
    "'sequence_n_trials' : 60,\n",
    "'fh_n_trials' : 10,\n",
    "}\n",
    "\n"
   ]
  },
  {
   "cell_type": "code",
   "execution_count": null,
   "metadata": {},
   "outputs": [],
   "source": [
    "hpo = HPO(**params)"
   ]
  },
  {
   "cell_type": "code",
   "execution_count": null,
   "metadata": {},
   "outputs": [],
   "source": [
    "hpo.run_full_study()"
   ]
  },
  {
   "cell_type": "code",
   "execution_count": null,
   "metadata": {},
   "outputs": [],
   "source": [
    "params = {\n",
    "'baseline_type' : 'lgbm',\n",
    "'n_trials' : 10,\n",
    "'sequence_n_trials' : 60,\n",
    "'fh_n_trials' : 10,\n",
    "}\n",
    "\n"
   ]
  },
  {
   "cell_type": "code",
   "execution_count": null,
   "metadata": {},
   "outputs": [],
   "source": [
    "hpo = HPO(**params)"
   ]
  },
  {
   "cell_type": "code",
   "execution_count": null,
   "metadata": {},
   "outputs": [],
   "source": [
    "hpo.run_full_study()"
   ]
  },
  {
   "cell_type": "code",
   "execution_count": null,
   "metadata": {},
   "outputs": [],
   "source": [
    "# Some old metrics idk\n",
    "# [2.0067807718693986, 1.5669248878570465, 0.30515134849550796, 1.6527570042975699, 1.648447015731923, 0.30025966087333034]\n",
    "# Metrics collected. [0.2363375473999841, 0.06376304248455734, 0.7894700264446567, 0.4735443613510984, 0.545487190857898, 1.0908731409133754]\n",
    "# Metrics collected. [0.21930453381468082, 0.06935156870514318, 0.7763829704354179, 0.46165504640097316, 0.5243767842949706, 1.0788321577669773]"
   ]
  }
 ],
 "metadata": {
  "kernelspec": {
   "display_name": "Python 3 (ipykernel)",
   "language": "python",
   "name": "python3"
  },
  "language_info": {
   "codemirror_mode": {
    "name": "ipython",
    "version": 3
   },
   "file_extension": ".py",
   "mimetype": "text/x-python",
   "name": "python",
   "nbconvert_exporter": "python",
   "pygments_lexer": "ipython3",
   "version": "3.10.11"
  }
 },
 "nbformat": 4,
 "nbformat_minor": 4
}
