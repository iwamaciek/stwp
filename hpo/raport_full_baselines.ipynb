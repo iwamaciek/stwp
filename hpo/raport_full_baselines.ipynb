{
 "cells": [
  {
   "cell_type": "code",
   "execution_count": 1,
   "metadata": {},
   "outputs": [
    {
     "name": "stderr",
     "output_type": "stream",
     "text": [
      "d:\\Piotr\\inzynierka\\meteoapp-data\\venv\\lib\\site-packages\\tqdm\\auto.py:21: TqdmWarning: IProgress not found. Please update jupyter and ipywidgets. See https://ipywidgets.readthedocs.io/en/stable/user_install.html\n",
      "  from .autonotebook import tqdm as notebook_tqdm\n",
      "d:\\Piotr\\inzynierka\\meteoapp-data\\venv\\lib\\site-packages\\gribapi\\__init__.py:23: UserWarning: ecCodes 2.31.0 or higher is recommended. You are running version 2.27.0\n",
      "  warnings.warn(\n"
     ]
    }
   ],
   "source": [
    "import sys\n",
    "sys.path.append(\"..\")\n",
    "from hpo import HPO"
   ]
  },
  {
   "cell_type": "code",
   "execution_count": 2,
   "metadata": {},
   "outputs": [],
   "source": [
    "params = {\n",
    "'baseline_type' : 'lgbm',\n",
    "'n_trials' : 10,\n",
    "'sequence_n_trials' : 60,\n",
    "'fh_n_trials' : 10,\n",
    "'sequence_length' : 5,\n",
    "'forcasting_horizon' : 1,\n",
    "}\n",
    "\n"
   ]
  },
  {
   "cell_type": "code",
   "execution_count": 3,
   "metadata": {},
   "outputs": [],
   "source": [
    "hpo = HPO(**params)"
   ]
  },
  {
   "cell_type": "code",
   "execution_count": 4,
   "metadata": {},
   "outputs": [],
   "source": [
    "# hpo.run_full_study()\n",
    "hpo.set_params('D:\\Piotr\\inzynierka\\meteoapp-data\\hpo\\lgbm-params.json')"
   ]
  },
  {
   "cell_type": "code",
   "execution_count": 5,
   "metadata": {},
   "outputs": [],
   "source": [
    "# hpo.monthly_error(model='D:\\Piotr\\inzynierka\\meteoapp-data\\hpo\\model_state_cnn_fh_1.pt')\n",
    "hpo.monthly_error()"
   ]
  },
  {
   "cell_type": "code",
   "execution_count": 6,
   "metadata": {},
   "outputs": [
    {
     "name": "stdout",
     "output_type": "stream",
     "text": [
      "{'January': 0.44753659293877796, 'February': 0.4596909842171986, 'March': 0.4575016735098067, 'April': 0.4697193454421706, 'May': 0.5976202517485875, 'June': 0.5424403380992054, 'July': 0.6077009714612712, 'August': 0.6671114436634964, 'September': 0.47548486058625317, 'October': 0.4266932212441894, 'November': 0.4795988087278617, 'December': 0.3957468896472431}\n"
     ]
    }
   ],
   "source": [
    "print(hpo.month_error)"
   ]
  },
  {
   "cell_type": "code",
   "execution_count": 7,
   "metadata": {},
   "outputs": [],
   "source": [
    "# params = {\n",
    "# 'baseline_type' : 'linear',\n",
    "# 'n_trials' : 10,\n",
    "# 'sequence_n_trials' : 60,\n",
    "# 'fh_n_trials' : 10,\n",
    "# }\n",
    "\n"
   ]
  },
  {
   "cell_type": "code",
   "execution_count": 8,
   "metadata": {},
   "outputs": [],
   "source": [
    "# hpo = HPO(**params)"
   ]
  },
  {
   "cell_type": "code",
   "execution_count": 9,
   "metadata": {},
   "outputs": [],
   "source": [
    "# hpo.run_full_study()"
   ]
  },
  {
   "cell_type": "code",
   "execution_count": 10,
   "metadata": {},
   "outputs": [],
   "source": [
    "# params = {\n",
    "# 'baseline_type' : 'lgbm',\n",
    "# 'n_trials' : 60,\n",
    "# 'sequence_n_trials' : 10,\n",
    "# 'fh_n_trials' : 10,\n",
    "# }\n",
    "\n"
   ]
  },
  {
   "cell_type": "code",
   "execution_count": 11,
   "metadata": {},
   "outputs": [],
   "source": [
    "# hpo = HPO(**params)   "
   ]
  },
  {
   "cell_type": "code",
   "execution_count": 12,
   "metadata": {},
   "outputs": [],
   "source": [
    "# hpo.run_full_study()"
   ]
  },
  {
   "cell_type": "code",
   "execution_count": 13,
   "metadata": {},
   "outputs": [],
   "source": [
    "# hpo.monthly_error()"
   ]
  },
  {
   "cell_type": "code",
   "execution_count": 14,
   "metadata": {},
   "outputs": [],
   "source": [
    "hpo.write_plots_to_json()"
   ]
  },
  {
   "cell_type": "code",
   "execution_count": 15,
   "metadata": {},
   "outputs": [],
   "source": [
    "# Some old metrics idk\n",
    "# [2.0067807718693986, 1.5669248878570465, 0.30515134849550796, 1.6527570042975699, 1.648447015731923, 0.30025966087333034]\n",
    "# Metrics collected. [0.2363375473999841, 0.06376304248455734, 0.7894700264446567, 0.4735443613510984, 0.545487190857898, 1.0908731409133754]\n",
    "# Metrics collected. [0.21930453381468082, 0.06935156870514318, 0.7763829704354179, 0.46165504640097316, 0.5243767842949706, 1.0788321577669773]"
   ]
  }
 ],
 "metadata": {
  "kernelspec": {
   "display_name": "Python 3 (ipykernel)",
   "language": "python",
   "name": "python3"
  },
  "language_info": {
   "codemirror_mode": {
    "name": "ipython",
    "version": 3
   },
   "file_extension": ".py",
   "mimetype": "text/x-python",
   "name": "python",
   "nbconvert_exporter": "python",
   "pygments_lexer": "ipython3",
   "version": "3.10.11"
  }
 },
 "nbformat": 4,
 "nbformat_minor": 4
}
