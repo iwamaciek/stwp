{
 "cells": [
  {
   "cell_type": "code",
   "execution_count": 1,
   "metadata": {},
   "outputs": [],
   "source": [
    "import sys\n",
    "sys.path.append(\"..\")\n",
    "from hpo import HPO"
   ]
  },
  {
   "cell_type": "code",
   "execution_count": 2,
   "metadata": {},
   "outputs": [],
   "source": [
    "params = {\n",
    "'baseline_type' : 'linear',\n",
    "'n_trials' : 5,\n",
    "'dataset' : '../../data2022_full.grib',\n",
    "'sequence_n_trials' : 5,\n",
    "'fh_n_trials' : 5,\n",
    "# 'engine' : 'greed'\n",
    "}"
   ]
  },
  {
   "cell_type": "code",
   "execution_count": 3,
   "metadata": {},
   "outputs": [],
   "source": [
    "hpo = HPO(**params)"
   ]
  },
  {
   "cell_type": "code",
   "execution_count": 4,
   "metadata": {},
   "outputs": [
    {
     "name": "stderr",
     "output_type": "stream",
     "text": [
      "[I 2024-01-03 17:58:42,758] A new study created in memory with name: no-name-742fd487-0653-48fc-a2cd-7561080d5e87\n",
      "[I 2024-01-03 17:59:04,716] Trial 0 finished with value: 2.288136494366561 and parameters: {'alpha': 2.0880036951385974, 'regressor_type': 'elastic_net'}. Best is trial 0 with value: 2.288136494366561.\n",
      "[I 2024-01-03 17:59:10,409] Trial 1 finished with value: 2.1486806797559113 and parameters: {'alpha': 6.8000339610041785, 'regressor_type': 'ridge'}. Best is trial 1 with value: 2.1486806797559113.\n",
      "[I 2024-01-03 17:59:16,275] Trial 2 finished with value: 2.1493040239835457 and parameters: {'alpha': 0.42203406283705874, 'regressor_type': 'ridge'}. Best is trial 1 with value: 2.1486806797559113.\n",
      "/Users/piotr/anaconda3/envs/engeneeringEnv/lib/python3.10/site-packages/sklearn/linear_model/_coordinate_descent.py:628: ConvergenceWarning: Objective did not converge. You might want to increase the number of iterations, check the scale of the features or consider increasing regularisation. Duality gap: 5.299e+05, tolerance: 1.305e+05\n",
      "  model = cd_fast.enet_coordinate_descent(\n",
      "[I 2024-01-03 18:00:38,916] Trial 3 finished with value: 2.262085845674502 and parameters: {'alpha': 0.32000997362341355, 'regressor_type': 'elastic_net'}. Best is trial 1 with value: 2.1486806797559113.\n",
      "[I 2024-01-03 18:00:45,375] Trial 4 finished with value: 2.1503351620336293 and parameters: {'alpha': 0.18319944966472035, 'regressor_type': 'ridge'}. Best is trial 1 with value: 2.1486806797559113.\n"
     ]
    },
    {
     "name": "stdout",
     "output_type": "stream",
     "text": [
      "Parameter study finished.\n",
      "Metrics collected. [0.22964567891271545, 0.051266848040167075, 0.42886327430905224, 0.36621053702965506, 0.417146765397977, 11.562220235756444]\n"
     ]
    },
    {
     "ename": "NameError",
     "evalue": "name 'fh' is not defined",
     "output_type": "error",
     "traceback": [
      "\u001b[0;31m---------------------------------------------------------------------------\u001b[0m",
      "\u001b[0;31mNameError\u001b[0m                                 Traceback (most recent call last)",
      "Cell \u001b[0;32mIn[4], line 1\u001b[0m\n\u001b[0;32m----> 1\u001b[0m \u001b[43mhpo\u001b[49m\u001b[38;5;241;43m.\u001b[39;49m\u001b[43mrun_and_report\u001b[49m\u001b[43m(\u001b[49m\u001b[43m)\u001b[49m\n",
      "File \u001b[0;32m~/Documents/january/meteoapp-data/hpo/hpo.py:478\u001b[0m, in \u001b[0;36mHPO.run_and_report\u001b[0;34m(self)\u001b[0m\n\u001b[1;32m    477\u001b[0m \u001b[38;5;28;01mdef\u001b[39;00m \u001b[38;5;21mrun_and_report\u001b[39m(\u001b[38;5;28mself\u001b[39m):\n\u001b[0;32m--> 478\u001b[0m     \u001b[38;5;28;43mself\u001b[39;49m\u001b[38;5;241;43m.\u001b[39;49m\u001b[43mrun_full_study\u001b[49m\u001b[43m(\u001b[49m\u001b[43m)\u001b[49m\n\u001b[1;32m    479\u001b[0m     \u001b[38;5;28mself\u001b[39m\u001b[38;5;241m.\u001b[39mreport()\n",
      "File \u001b[0;32m~/Documents/january/meteoapp-data/hpo/hpo.py:467\u001b[0m, in \u001b[0;36mHPO.run_full_study\u001b[0;34m(self)\u001b[0m\n\u001b[1;32m    465\u001b[0m \u001b[38;5;28mself\u001b[39m\u001b[38;5;241m.\u001b[39mdetermine_best_fh()\n\u001b[1;32m    466\u001b[0m \u001b[38;5;28mself\u001b[39m\u001b[38;5;241m.\u001b[39mcollect_metrics()\n\u001b[0;32m--> 467\u001b[0m \u001b[38;5;28;43mself\u001b[39;49m\u001b[38;5;241;43m.\u001b[39;49m\u001b[43mtest_scalers\u001b[49m\u001b[43m(\u001b[49m\u001b[43m)\u001b[49m\n\u001b[1;32m    468\u001b[0m \u001b[38;5;28mself\u001b[39m\u001b[38;5;241m.\u001b[39mwrite_params_to_json()\n",
      "File \u001b[0;32m~/Documents/january/meteoapp-data/hpo/hpo.py:601\u001b[0m, in \u001b[0;36mHPO.test_scalers\u001b[0;34m(self)\u001b[0m\n\u001b[1;32m    599\u001b[0m \u001b[38;5;28;01mfor\u001b[39;00m scaler \u001b[38;5;129;01min\u001b[39;00m \u001b[38;5;28mself\u001b[39m\u001b[38;5;241m.\u001b[39mscalers:\n\u001b[1;32m    600\u001b[0m     \u001b[38;5;28mself\u001b[39m\u001b[38;5;241m.\u001b[39mprocessor\u001b[38;5;241m.\u001b[39mupload_data(\u001b[38;5;28mself\u001b[39m\u001b[38;5;241m.\u001b[39mdata)\n\u001b[0;32m--> 601\u001b[0m     X, y \u001b[38;5;241m=\u001b[39m \u001b[38;5;28mself\u001b[39m\u001b[38;5;241m.\u001b[39mprocessor\u001b[38;5;241m.\u001b[39mpreprocess(\u001b[38;5;28mself\u001b[39m\u001b[38;5;241m.\u001b[39mbest_s,\u001b[43mfh\u001b[49m, \u001b[38;5;28mself\u001b[39m\u001b[38;5;241m.\u001b[39muse_neighbours)\n\u001b[1;32m    602\u001b[0m     X_train, X_test, y_train, y_test \u001b[38;5;241m=\u001b[39m \u001b[38;5;28mself\u001b[39m\u001b[38;5;241m.\u001b[39mprocessor\u001b[38;5;241m.\u001b[39mtrain_val_test_split(X, y)\n\u001b[1;32m    603\u001b[0m     start_time \u001b[38;5;241m=\u001b[39m time\u001b[38;5;241m.\u001b[39mtime()\n",
      "\u001b[0;31mNameError\u001b[0m: name 'fh' is not defined"
     ]
    }
   ],
   "source": [
    "hpo.run_and_report()"
   ]
  },
  {
   "cell_type": "code",
   "execution_count": null,
   "metadata": {},
   "outputs": [],
   "source": [
    "hpo.write_plots_to_json()"
   ]
  }
 ],
 "metadata": {
  "kernelspec": {
   "display_name": "engeneeringEnv",
   "language": "python",
   "name": "python3"
  },
  "language_info": {
   "codemirror_mode": {
    "name": "ipython",
    "version": 3
   },
   "file_extension": ".py",
   "mimetype": "text/x-python",
   "name": "python",
   "nbconvert_exporter": "python",
   "pygments_lexer": "ipython3",
   "version": "3.10.13"
  }
 },
 "nbformat": 4,
 "nbformat_minor": 2
}
