{
 "cells": [
  {
   "cell_type": "code",
   "execution_count": 1,
   "metadata": {},
   "outputs": [],
   "source": [
    "import sys\n",
    "sys.path.append(\"..\")\n",
    "from hpo import HPO\n",
    "from models.config import config as cfg\n",
    "from visualisation import Visualization"
   ]
  },
  {
   "cell_type": "code",
   "execution_count": 2,
   "metadata": {},
   "outputs": [],
   "source": [
    "params = {\n",
    "'baseline_type' : 'simple-linear',\n",
    "'n_trials' : 10,\n",
    "'dataset' : \"../../data2019-2021.grib\",\n",
    "'sequence_n_trials' : 10,\n",
    "'fh_n_trials' : 10,\n",
    "# 'engine' : 'greed'\n",
    "}"
   ]
  },
  {
   "cell_type": "code",
   "execution_count": 3,
   "metadata": {},
   "outputs": [],
   "source": [
    "hpo = HPO(**params)"
   ]
  },
  {
   "cell_type": "code",
   "execution_count": 4,
   "metadata": {},
   "outputs": [
    {
     "name": "stdout",
     "output_type": "stream",
     "text": [
      "[3.7819040768347634, 2.083004128487776, 0.30934241210845753, 1.6807126643413093, 1.6720031245943783, 0.30108692537983217]\n",
      "[3.7814575479165073, 1.6526020927885614, 0.3077652352256625, 1.6809793856475415, 1.6612050335025297, 0.3006556802241452]\n",
      "[2.8381963200543874, 1.5828453673761216, 0.3070367628537221, 1.6747675724342683, 1.6572218922068582, 0.3004985428281137]\n",
      "[2.488000302277858, 1.5833131667337341, 0.3061223653247144, 1.6672465288388065, 1.6534435671215482, 0.3003231812975528]\n",
      "[2.1193398276335933, 1.5832450893466674, 0.30615394360910636, 1.6635975264201566, 1.6535477168215376, 0.3003374299823184]\n",
      "[2.113133802137016, 1.5786230592846977, 0.30596195382173724, 1.6608275906243999, 1.6520785229183022, 0.30035465245749954]\n",
      "[2.0944282446392277, 1.5808236929203214, 0.30570355491930923, 1.6606388628466962, 1.6514251803033693, 0.30029160204644983]\n",
      "[2.0468067959195015, 1.5764991325853823, 0.30538399006693834, 1.6583230321590978, 1.6507178530166693, 0.30026813921292306]\n",
      "[2.012634888117052, 1.5766119137081636, 0.30534357036504944, 1.6565340107355124, 1.65043615221271, 0.30027136874893323]\n"
     ]
    },
    {
     "name": "stderr",
     "output_type": "stream",
     "text": [
      "[I 2024-01-08 03:38:56,782] A new study created in memory with name: no-name-fc1ab884-ec47-4809-aa67-95ef56f4f86e\n"
     ]
    },
    {
     "name": "stdout",
     "output_type": "stream",
     "text": [
      "[2.0067807718694333, 1.566924887857572, 0.3051513484955053, 1.6527570042975788, 1.648447015731927, 0.3002596608733261]\n"
     ]
    },
    {
     "name": "stderr",
     "output_type": "stream",
     "text": [
      "[I 2024-01-08 03:39:15,119] Trial 0 finished with value: 0.6580583689980605 and parameters: {'alpha': 6.097915328020158, 'regressor_type': 'elastic_net'}. Best is trial 0 with value: 0.6580583689980605.\n",
      "/Users/piotr/anaconda3/envs/engeneeringEnv/lib/python3.10/site-packages/sklearn/linear_model/_coordinate_descent.py:628: ConvergenceWarning: Objective did not converge. You might want to increase the number of iterations, check the scale of the features or consider increasing regularisation. Duality gap: 5.836e+05, tolerance: 1.310e+05\n",
      "  model = cd_fast.enet_coordinate_descent(\n",
      "[I 2024-01-08 03:39:56,448] Trial 1 finished with value: 0.5889306030014764 and parameters: {'alpha': 0.2743805732763017, 'regressor_type': 'elastic_net'}. Best is trial 1 with value: 0.5889306030014764.\n",
      "/Users/piotr/anaconda3/envs/engeneeringEnv/lib/python3.10/site-packages/sklearn/linear_model/_coordinate_descent.py:628: ConvergenceWarning: Objective did not converge. You might want to increase the number of iterations, check the scale of the features or consider increasing regularisation. Duality gap: 1.067e+06, tolerance: 1.310e+05\n",
      "  model = cd_fast.enet_coordinate_descent(\n",
      "[I 2024-01-08 03:40:43,085] Trial 2 finished with value: 0.5875513167505938 and parameters: {'alpha': 0.17031578136982592, 'regressor_type': 'elastic_net'}. Best is trial 2 with value: 0.5875513167505938.\n",
      "[I 2024-01-08 03:41:08,026] Trial 3 finished with value: 0.6546620064849963 and parameters: {'alpha': 5.813282365866008, 'regressor_type': 'elastic_net'}. Best is trial 2 with value: 0.5875513167505938.\n",
      "[I 2024-01-08 03:41:30,557] Trial 4 finished with value: 0.616589814525851 and parameters: {'alpha': 1.9759529940468563, 'regressor_type': 'lasso'}. Best is trial 2 with value: 0.5875513167505938.\n",
      "[I 2024-01-08 03:41:41,420] Trial 5 finished with value: 0.5494301879096893 and parameters: {'alpha': 2.037422413229336, 'regressor_type': 'ridge'}. Best is trial 5 with value: 0.5494301879096893.\n",
      "[I 2024-01-08 03:41:54,132] Trial 6 finished with value: 0.5494301838415557 and parameters: {'alpha': 0.1613121836908831, 'regressor_type': 'ridge'}. Best is trial 6 with value: 0.5494301838415557.\n",
      "[I 2024-01-08 03:42:30,141] Trial 7 finished with value: 0.5919015941962815 and parameters: {'alpha': 0.753257916775519, 'regressor_type': 'elastic_net'}. Best is trial 6 with value: 0.5494301838415557.\n",
      "[I 2024-01-08 03:42:45,965] Trial 8 finished with value: 0.7387272404948201 and parameters: {'alpha': 7.95721901068848, 'regressor_type': 'lasso'}. Best is trial 6 with value: 0.5494301838415557.\n",
      "[I 2024-01-08 03:43:03,507] Trial 9 finished with value: 0.6823289399176945 and parameters: {'alpha': 8.089646206831267, 'regressor_type': 'elastic_net'}. Best is trial 6 with value: 0.5494301838415557.\n"
     ]
    },
    {
     "name": "stdout",
     "output_type": "stream",
     "text": [
      "Parameter study finished.\n",
      "Metrics collected. [0.2431002889493896, 0.058404201052498654, 0.8016004303314074, 0.49009926531039555, 0.5618969541138897, 1.0860234355828922]\n"
     ]
    }
   ],
   "source": [
    "hpo.run_full_study()"
   ]
  }
 ],
 "metadata": {
  "kernelspec": {
   "display_name": "engeneeringEnv",
   "language": "python",
   "name": "python3"
  },
  "language_info": {
   "codemirror_mode": {
    "name": "ipython",
    "version": 3
   },
   "file_extension": ".py",
   "mimetype": "text/x-python",
   "name": "python",
   "nbconvert_exporter": "python",
   "pygments_lexer": "ipython3",
   "version": "3.10.13"
  }
 },
 "nbformat": 4,
 "nbformat_minor": 2
}
