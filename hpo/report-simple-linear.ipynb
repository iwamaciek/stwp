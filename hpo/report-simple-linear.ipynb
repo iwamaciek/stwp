{
 "cells": [
  {
   "cell_type": "code",
   "execution_count": 1,
   "metadata": {},
   "outputs": [
    {
     "name": "stderr",
     "output_type": "stream",
     "text": [
      "/Users/piotrwojsznis/Library/Python/3.9/lib/python/site-packages/gribapi/__init__.py:23: UserWarning: ecCodes 2.31.0 or higher is recommended. You are running version 2.30.0\n",
      "  warnings.warn(\n",
      "/Users/piotrwojsznis/Library/Python/3.9/lib/python/site-packages/urllib3/__init__.py:34: NotOpenSSLWarning: urllib3 v2 only supports OpenSSL 1.1.1+, currently the 'ssl' module is compiled with 'LibreSSL 2.8.3'. See: https://github.com/urllib3/urllib3/issues/3020\n",
      "  warnings.warn(\n"
     ]
    }
   ],
   "source": [
    "import sys\n",
    "sys.path.append(\"..\")\n",
    "from hpo import HPO\n",
    "from models.config import config as cfg\n",
    "from visualisation import Visualization"
   ]
  },
  {
   "cell_type": "code",
   "execution_count": 2,
   "metadata": {},
   "outputs": [],
   "source": [
    "params = {\n",
    "'baseline_type' : 'simple-linear',\n",
    "'n_trials' : 10,\n",
    "'dataset' : \"../../data2019-2021.grib\",\n",
    "'sequence_n_trials' : 10,\n",
    "'fh_n_trials' : 10,\n",
    "# 'engine' : 'greed'\n",
    "}"
   ]
  },
  {
   "cell_type": "code",
   "execution_count": 3,
   "metadata": {},
   "outputs": [],
   "source": [
    "hpo = HPO(**params)"
   ]
  },
  {
   "cell_type": "code",
   "execution_count": 4,
   "metadata": {},
   "outputs": [
    {
     "name": "stdout",
     "output_type": "stream",
     "text": [
      "[3.7819040768347634, 2.083004128487776, 0.30934241210845753, 1.6807126643413093, 1.6720031245943783, 0.30108692537983217]\n",
      "[3.7814575479165207, 1.6526020927885816, 0.3077652352256676, 1.6809793856475297, 1.6612050335025323, 0.30065568022414735]\n",
      "[2.8381963200544003, 1.5828453673760992, 0.3070367628537206, 1.674767572434253, 1.6572218922068644, 0.30049854282811844]\n",
      "[2.4880003022778454, 1.5833131667332234, 0.30612236532471376, 1.6672465288388136, 1.6534435671215497, 0.30032318129755653]\n",
      "[2.119339827633604, 1.5832450893468881, 0.3061539436090981, 1.663597526420176, 1.6535477168215404, 0.3003374299822966]\n",
      "[2.1131338021370554, 1.5786230592824309, 0.3059619538217338, 1.660827590624382, 1.6520785229182942, 0.3003546524574981]\n",
      "[2.0944282446392606, 1.5808236929253816, 0.3057035549193119, 1.660638862846712, 1.6514251803033686, 0.30029160204645605]\n",
      "[2.0468067959195078, 1.5764991325823898, 0.3053839900669358, 1.658323032159095, 1.6507178530166657, 0.3002681392129248]\n",
      "[2.012634888117011, 1.5766119137039567, 0.3053435703650534, 1.6565340107354969, 1.6504361522127209, 0.3002713687489323]\n"
     ]
    },
    {
     "name": "stderr",
     "output_type": "stream",
     "text": [
      "[I 2024-01-12 17:04:25,027] A new study created in memory with name: no-name-b8714ca7-dc0c-402b-91f0-ba29dd349c0b\n"
     ]
    },
    {
     "name": "stdout",
     "output_type": "stream",
     "text": [
      "[2.0067807718693986, 1.5669248878570465, 0.30515134849550796, 1.6527570042975699, 1.648447015731923, 0.30025966087333034]\n"
     ]
    },
    {
     "name": "stderr",
     "output_type": "stream",
     "text": [
      "[I 2024-01-12 17:04:37,873] Trial 0 finished with value: 0.7229791327692469 and parameters: {'alpha': 6.6640195524579315, 'regressor_type': 'lasso'}. Best is trial 0 with value: 0.7229791327692469.\n",
      "[I 2024-01-12 17:04:46,389] Trial 1 finished with value: 0.5494301938769168 and parameters: {'alpha': 4.786762173019195, 'regressor_type': 'ridge'}. Best is trial 1 with value: 0.5494301938769168.\n",
      "[I 2024-01-12 17:05:01,702] Trial 2 finished with value: 0.6776405635964814 and parameters: {'alpha': 7.7003635617506125, 'regressor_type': 'elastic_net'}. Best is trial 1 with value: 0.5494301938769168.\n",
      "[I 2024-01-12 17:05:10,349] Trial 3 finished with value: 0.5494301871196502 and parameters: {'alpha': 1.6731908406894227, 'regressor_type': 'ridge'}. Best is trial 3 with value: 0.5494301871196502.\n",
      "[I 2024-01-12 17:05:45,750] Trial 4 finished with value: 0.5906242981847424 and parameters: {'alpha': 0.5898957689685371, 'regressor_type': 'elastic_net'}. Best is trial 3 with value: 0.5494301871196502.\n",
      "[I 2024-01-12 17:05:54,317] Trial 5 finished with value: 0.5494301840794522 and parameters: {'alpha': 0.271063426897279, 'regressor_type': 'ridge'}. Best is trial 5 with value: 0.5494301840794522.\n",
      "[I 2024-01-12 17:06:15,500] Trial 6 finished with value: 0.6079350080330533 and parameters: {'alpha': 2.163027509247088, 'regressor_type': 'elastic_net'}. Best is trial 5 with value: 0.5494301840794522.\n",
      "[I 2024-01-12 17:06:24,088] Trial 7 finished with value: 0.5494301844185685 and parameters: {'alpha': 0.4275020794932224, 'regressor_type': 'ridge'}. Best is trial 5 with value: 0.5494301840794522.\n",
      "[I 2024-01-12 17:06:32,637] Trial 8 finished with value: 0.5494301846321196 and parameters: {'alpha': 0.5260108547336676, 'regressor_type': 'ridge'}. Best is trial 5 with value: 0.5494301840794522.\n",
      "[I 2024-01-12 17:06:53,606] Trial 9 finished with value: 0.6084303214299486 and parameters: {'alpha': 2.1980894599172185, 'regressor_type': 'elastic_net'}. Best is trial 5 with value: 0.5494301840794522.\n"
     ]
    },
    {
     "name": "stdout",
     "output_type": "stream",
     "text": [
      "Parameter study finished.\n",
      "Metrics collected. [0.24310028895494618, 0.05840420070807855, 0.8016004288465556, 0.4900992651135682, 0.561896953972444, 1.0860234388939864]\n"
     ]
    }
   ],
   "source": [
    "hpo.run_full_study()"
   ]
  }
 ],
 "metadata": {
  "kernelspec": {
   "display_name": "engeneeringEnv",
   "language": "python",
   "name": "python3"
  },
  "language_info": {
   "codemirror_mode": {
    "name": "ipython",
    "version": 3
   },
   "file_extension": ".py",
   "mimetype": "text/x-python",
   "name": "python",
   "nbconvert_exporter": "python",
   "pygments_lexer": "ipython3",
   "version": "3.9.6"
  }
 },
 "nbformat": 4,
 "nbformat_minor": 2
}
