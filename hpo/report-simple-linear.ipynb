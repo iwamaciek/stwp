{
 "cells": [
  {
   "cell_type": "code",
   "execution_count": 1,
   "metadata": {},
   "outputs": [
    {
     "name": "stderr",
     "output_type": "stream",
     "text": [
      "d:\\Piotr\\inzynierka\\meteoapp-data\\venv\\lib\\site-packages\\gribapi\\__init__.py:23: UserWarning: ecCodes 2.31.0 or higher is recommended. You are running version 2.27.0\n",
      "  warnings.warn(\n",
      "d:\\Piotr\\inzynierka\\meteoapp-data\\venv\\lib\\site-packages\\tqdm\\auto.py:21: TqdmWarning: IProgress not found. Please update jupyter and ipywidgets. See https://ipywidgets.readthedocs.io/en/stable/user_install.html\n",
      "  from .autonotebook import tqdm as notebook_tqdm\n"
     ]
    }
   ],
   "source": [
    "import sys\n",
    "sys.path.append(\"..\")\n",
    "from hpo import HPO\n",
    "from models.config import config as cfg\n",
    "from visualisation import Visualization"
   ]
  },
  {
   "cell_type": "code",
   "execution_count": 2,
   "metadata": {},
   "outputs": [],
   "source": [
    "params = {\n",
    "'baseline_type' : 'simple-linear',\n",
    "'n_trials' : 10,\n",
    "'dataset' : \"../../data2019-2021.grib\",\n",
    "'sequence_n_trials' : 10,\n",
    "'fh_n_trials' : 10,\n",
    "# 'engine' : 'greed'\n",
    "}"
   ]
  },
  {
   "cell_type": "code",
   "execution_count": 3,
   "metadata": {},
   "outputs": [],
   "source": [
    "hpo = HPO(**params)"
   ]
  },
  {
   "cell_type": "code",
   "execution_count": 4,
   "metadata": {},
   "outputs": [
    {
     "name": "stdout",
     "output_type": "stream",
     "text": [
      "[3.830588960253597, 2.0828610090171944, 0.30886123080804373, 1.6158490580612108, 1.617271920729208, 0.3010850769218517]\n",
      "[3.830956371482148, 1.6449057443290458, 0.30745633503841924, 1.6162439256967602, 1.6064305156259757, 0.3007096191255529]\n",
      "[2.8663235229937483, 1.5726147009870033, 0.30679610921823436, 1.6099150857810693, 1.6024645158145165, 0.300538118867071]\n",
      "[2.5380790287763393, 1.5730057662873496, 0.3058987819829967, 1.6006040331729154, 1.5987822313120899, 0.30047585499546775]\n",
      "[2.157582716049412, 1.5731861123231912, 0.30593218923464693, 1.596042956078563, 1.5990368481503041, 0.3004753598722607]\n",
      "[2.1500704901897527, 1.5725244421196694, 0.30573665507422226, 1.5942664749481585, 1.5977651856857633, 0.3005021941088315]\n",
      "[2.128855745660089, 1.5753172943510914, 0.30544901053084217, 1.5941646094883426, 1.5966525172036374, 0.30042284157342364]\n",
      "[2.0817535290529365, 1.5711882574446978, 0.30509273761508215, 1.5916450653483332, 1.59595657262132, 0.3004259659484721]\n",
      "[2.0460729929534294, 1.571361706543052, 0.3050760036087455, 1.5893178308060578, 1.5956851614798928, 0.3004331727941721]\n"
     ]
    },
    {
     "name": "stderr",
     "output_type": "stream",
     "text": [
      "[I 2024-01-13 22:30:19,170] A new study created in memory with name: no-name-ebf900f9-f228-43f6-9b25-b5633fa6c5fa\n"
     ]
    },
    {
     "name": "stdout",
     "output_type": "stream",
     "text": [
      "[2.039556679444201, 1.5628298065865474, 0.3048644164397461, 1.5850044764579054, 1.5938298856870132, 0.3004209475978548]\n"
     ]
    },
    {
     "name": "stderr",
     "output_type": "stream",
     "text": [
      "[I 2024-01-13 22:30:25,752] Trial 0 finished with value: 0.5561051937868462 and parameters: {'alpha': 1.0487518446336634, 'regressor_type': 'ridge'}. Best is trial 0 with value: 0.5561051937868462.\n",
      "[I 2024-01-13 22:30:36,181] Trial 1 finished with value: 0.7623263493394624 and parameters: {'alpha': 9.121760200163424, 'regressor_type': 'lasso'}. Best is trial 0 with value: 0.5561051937868462.\n",
      "[I 2024-01-13 22:31:16,418] Trial 2 finished with value: 0.5968107579290982 and parameters: {'alpha': 0.6010774839455658, 'regressor_type': 'elastic_net'}. Best is trial 0 with value: 0.5561051937868462.\n",
      "[I 2024-01-13 22:31:29,680] Trial 3 finished with value: 0.6915007677360335 and parameters: {'alpha': 7.844334910347361, 'regressor_type': 'elastic_net'}. Best is trial 0 with value: 0.5561051937868462.\n",
      "[I 2024-01-13 22:31:43,659] Trial 4 finished with value: 0.6345157356164832 and parameters: {'alpha': 3.4484549417724852, 'regressor_type': 'elastic_net'}. Best is trial 0 with value: 0.5561051937868462.\n",
      "[I 2024-01-13 22:31:54,666] Trial 5 finished with value: 0.6732035024543626 and parameters: {'alpha': 4.225478394176388, 'regressor_type': 'lasso'}. Best is trial 0 with value: 0.5561051937868462.\n",
      "[I 2024-01-13 22:32:14,763] Trial 6 finished with value: 0.6041817921989964 and parameters: {'alpha': 1.3490200327791129, 'regressor_type': 'elastic_net'}. Best is trial 0 with value: 0.5561051937868462.\n",
      "[I 2024-01-13 22:32:21,133] Trial 7 finished with value: 0.5561052185619757 and parameters: {'alpha': 8.246231643499863, 'regressor_type': 'ridge'}. Best is trial 0 with value: 0.5561051937868462.\n",
      "[I 2024-01-13 22:32:31,740] Trial 8 finished with value: 0.6896126118253426 and parameters: {'alpha': 4.829975466207608, 'regressor_type': 'lasso'}. Best is trial 0 with value: 0.5561051937868462.\n",
      "[I 2024-01-13 22:32:38,223] Trial 9 finished with value: 0.556105214909163 and parameters: {'alpha': 7.186595351554693, 'regressor_type': 'ridge'}. Best is trial 0 with value: 0.5561051937868462.\n"
     ]
    },
    {
     "name": "stdout",
     "output_type": "stream",
     "text": [
      "Parameter study finished.\n",
      "Metrics collected. [0.2456263998105644, 0.06665908010624723, 0.7995445952928335, 0.49183486498154944, 0.5566817502339795, 1.1133459028201051]\n"
     ]
    }
   ],
   "source": [
    "hpo.run_full_study()"
   ]
  }
 ],
 "metadata": {
  "kernelspec": {
   "display_name": "engeneeringEnv",
   "language": "python",
   "name": "python3"
  },
  "language_info": {
   "codemirror_mode": {
    "name": "ipython",
    "version": 3
   },
   "file_extension": ".py",
   "mimetype": "text/x-python",
   "name": "python",
   "nbconvert_exporter": "python",
   "pygments_lexer": "ipython3",
   "version": "3.10.11"
  }
 },
 "nbformat": 4,
 "nbformat_minor": 2
}
