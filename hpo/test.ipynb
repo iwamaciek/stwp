{
 "cells": [
  {
   "cell_type": "code",
   "execution_count": 1,
   "metadata": {},
   "outputs": [
    {
     "name": "stderr",
     "output_type": "stream",
     "text": [
      "d:\\Piotr\\inzynierka\\meteoapp-data\\venv\\lib\\site-packages\\tqdm\\auto.py:21: TqdmWarning: IProgress not found. Please update jupyter and ipywidgets. See https://ipywidgets.readthedocs.io/en/stable/user_install.html\n",
      "  from .autonotebook import tqdm as notebook_tqdm\n",
      "d:\\Piotr\\inzynierka\\meteoapp-data\\venv\\lib\\site-packages\\gribapi\\__init__.py:23: UserWarning: ecCodes 2.31.0 or higher is recommended. You are running version 2.27.0\n",
      "  warnings.warn(\n"
     ]
    }
   ],
   "source": [
    "import sys\n",
    "sys.path.append(\"..\")\n",
    "from hpo import HPO\n",
    "from exp.experiments import Analyzer\n",
    "import matplotlib.pyplot as plt\n",
    "import cartopy.crs as ccrs\n",
    "from utils.draw_functions import draw_poland"
   ]
  },
  {
   "cell_type": "code",
   "execution_count": 2,
   "metadata": {},
   "outputs": [],
   "source": [
    "params = {\n",
    "'baseline_type' : 'gnn',\n",
    "'n_trials' : 10,\n",
    "'sequence_n_trials' : 10,\n",
    "'fh_n_trials' : 10,\n",
    "'sequence_length' : 5,\n",
    "'forcasting_horizon' : 1,\n",
    "} "
   ]
  },
  {
   "cell_type": "code",
   "execution_count": 3,
   "metadata": {},
   "outputs": [],
   "source": [
    "hpo = HPO(**params)"
   ]
  },
  {
   "cell_type": "code",
   "execution_count": 4,
   "metadata": {},
   "outputs": [
    {
     "ename": "SyntaxError",
     "evalue": "(unicode error) 'unicodeescape' codec can't decode bytes in position 43-44: truncated \\uXXXX escape (604110252.py, line 1)",
     "output_type": "error",
     "traceback": [
      "\u001b[1;36m  Cell \u001b[1;32mIn[4], line 1\u001b[1;36m\u001b[0m\n\u001b[1;33m    hpo.error_maps(path='D:\\Piotr\\inzynierka\\meteoapp-data\\data\\pred\\unet_2024-01-21_17_12_38.npy')\u001b[0m\n\u001b[1;37m                                                                                                  ^\u001b[0m\n\u001b[1;31mSyntaxError\u001b[0m\u001b[1;31m:\u001b[0m (unicode error) 'unicodeescape' codec can't decode bytes in position 43-44: truncated \\uXXXX escape\n"
     ]
    }
   ],
   "source": [
    "hpo.error_maps(path='D:\\Piotr\\inzynierka\\meteoapp-data\\data\\pred\\unet_2024-01-21_17_12_38.npy')"
   ]
  },
  {
   "cell_type": "code",
   "execution_count": null,
   "metadata": {},
   "outputs": [
    {
     "name": "stdout",
     "output_type": "stream",
     "text": [
      "[array([[ 70.1700799 ,  70.14951722,  69.96408626, ..., 154.14589523,\n",
      "        155.24293166, 155.85710118],\n",
      "       [ 71.88306622,  71.85854911,  71.14175485, ..., 153.81078729,\n",
      "        155.47877874, 157.12220266],\n",
      "       [ 76.118252  ,  75.37149475,  74.71158439, ..., 155.9324901 ,\n",
      "        157.306138  , 158.87615477],\n",
      "       ...,\n",
      "       [125.34187093, 126.67800508, 127.25031568, ..., 151.88575117,\n",
      "        153.64021356, 155.71911494],\n",
      "       [124.85423523, 126.39302563, 127.03037296, ..., 154.5854905 ,\n",
      "        156.22593525, 157.95631455],\n",
      "       [125.48354645, 123.82514365, 124.8437213 , ..., 156.35088879,\n",
      "        158.58114934, 159.34306893]]), array([[1007271.14138812, 1006989.12501971, 1006229.1766201 , ...,\n",
      "         988507.55317713,  984093.82894979,  979838.65893897],\n",
      "       [1006854.82583832, 1006746.96985512, 1007479.0819208 , ...,\n",
      "         980202.36770048,  978651.74195502,  976306.27099031],\n",
      "       [1006874.34760075, 1007040.51583745, 1007518.58437146, ...,\n",
      "         977606.56581031,  976644.09950542,  974280.96564931],\n",
      "       ...,\n",
      "       [ 899380.33990408,  907689.49425891,  904095.53883651, ...,\n",
      "         938220.80471791,  934948.2878828 ,  931561.62774424],\n",
      "       [ 897683.60629484,  906824.09872424,  901865.51137445, ...,\n",
      "         939972.72031672,  940286.01487379,  936947.75550892],\n",
      "       [ 862132.09960475,  887806.96290979,  904684.81520885, ...,\n",
      "         937782.45641668,  944234.71287201,  939532.89906321]]), array([[128.63099663, 128.50687034, 127.98794969, ..., 133.34543732,\n",
      "        130.6954041 , 128.7543951 ],\n",
      "       [129.6905859 , 129.58595187, 129.61541878, ..., 130.99857348,\n",
      "        130.95095772, 130.7883051 ],\n",
      "       [131.91980229, 130.55903812, 129.97932289, ..., 133.56140557,\n",
      "        134.17985457, 134.03026729],\n",
      "       ...,\n",
      "       [130.91222163, 135.83288871, 133.65146352, ..., 150.73552574,\n",
      "        149.94756643, 149.77138569],\n",
      "       [133.11642782, 138.69985352, 135.66654105, ..., 153.55031007,\n",
      "        155.45748396, 155.36475961],\n",
      "       [119.38059337, 132.00099796, 140.97424645, ..., 154.96420623,\n",
      "        159.84655322, 159.04301093]]), array([[125.45757971, 125.76672083, 125.49459019, ..., 140.55450274,\n",
      "        137.91745388, 135.59418674],\n",
      "       [126.31574409, 126.5981496 , 127.02871283, ..., 137.96592823,\n",
      "        137.65505746, 137.3448302 ],\n",
      "       [129.41325962, 127.83015153, 127.35055768, ..., 140.36735485,\n",
      "        140.82151179, 140.45134748],\n",
      "       ...,\n",
      "       [127.76622546, 134.835445  , 134.49971667, ..., 155.64791187,\n",
      "        154.47084907, 153.44138208],\n",
      "       [129.55616993, 137.44409492, 138.16432217, ..., 158.69081561,\n",
      "        163.15900677, 161.88542247],\n",
      "       [116.37910396, 129.1244056 , 141.75462227, ..., 157.66182833,\n",
      "        166.44228466, 168.07161645]]), array([[146.69194075, 147.1390683 , 147.17546229, ..., 139.83560502,\n",
      "        137.55226504, 135.87139067],\n",
      "       [148.70046643, 149.0948974 , 149.5193091 , ..., 138.29029055,\n",
      "        138.47245532, 138.30442791],\n",
      "       [149.56531669, 149.13091264, 148.66001985, ..., 141.80138021,\n",
      "        142.52676388, 142.33050552],\n",
      "       ...,\n",
      "       [143.38164494, 149.99338168, 146.7754045 , ..., 159.6687062 ,\n",
      "        159.06599447, 159.15899247],\n",
      "       [146.10487647, 153.49179232, 150.45301482, ..., 163.03941714,\n",
      "        166.02025505, 165.84608711],\n",
      "       [130.92852653, 144.60541861, 155.11451897, ..., 164.34060687,\n",
      "        170.74710736, 170.47589106]]), array([[140.5344332 , 140.35421361, 139.77303797, ..., 144.452976  ,\n",
      "        141.61658858, 139.51560607],\n",
      "       [141.52333215, 141.41969344, 141.42504306, ..., 141.89392017,\n",
      "        141.78262052, 141.56540604],\n",
      "       [143.88111887, 142.45625115, 141.83544629, ..., 144.51015658,\n",
      "        145.11109832, 144.89721659],\n",
      "       ...,\n",
      "       [141.40983384, 146.69388878, 144.37320322, ..., 161.76397498,\n",
      "        160.86634105, 160.55591323],\n",
      "       [143.59180801, 149.56902298, 146.33936217, ..., 164.62251084,\n",
      "        166.58855191, 166.41467237],\n",
      "       [128.76308456, 142.29387393, 151.89351691, ..., 165.88635296,\n",
      "        171.00174216, 170.1182991 ]])]\n"
     ]
    }
   ],
   "source": [
    "print(hpo.error_map)"
   ]
  },
  {
   "cell_type": "code",
   "execution_count": null,
   "metadata": {},
   "outputs": [
    {
     "data": {
      "text/plain": [
       "<matplotlib.image.AxesImage at 0x26a775cf580>"
      ]
     },
     "execution_count": 6,
     "metadata": {},
     "output_type": "execute_result"
    },
    {
     "data": {
      "image/png": "[encoded data removed]",
      "text/plain": [
       "<Figure size 640x480 with 1 Axes>"
      ]
     },
     "metadata": {},
     "output_type": "display_data"
    }
   ],
   "source": [
    "plt.imshow(hpo.error_map[2])"
   ]
  },
  {
   "cell_type": "code",
   "execution_count": null,
   "metadata": {},
   "outputs": [],
   "source": [
    "hpo.write_plots_to_json()"
   ]
  }
 ],
 "metadata": {
  "kernelspec": {
   "display_name": "Python 3 (ipykernel)",
   "language": "python",
   "name": "python3"
  },
  "language_info": {
   "codemirror_mode": {
    "name": "ipython",
    "version": 3
   },
   "file_extension": ".py",
   "mimetype": "text/x-python",
   "name": "python",
   "nbconvert_exporter": "python",
   "pygments_lexer": "ipython3",
   "version": "3.10.11"
  }
 },
 "nbformat": 4,
 "nbformat_minor": 4
}
