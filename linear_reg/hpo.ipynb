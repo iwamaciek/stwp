{
 "cells": [
  {
   "cell_type": "code",
   "execution_count": 28,
   "metadata": {},
   "outputs": [],
   "source": [
    "import xarray as xr\n",
    "import cfgrib\n",
    "import numpy as np\n",
    "import optuna\n",
    "\n",
    "from functools import partial\n",
    "from sklearn.metrics import mean_squared_error\n",
    "\n",
    "# import matplotlib.pyplot as plt\n",
    "\n",
    "from data_processor import DataProcessor\n",
    "from regressor import Regressor"
   ]
  },
  {
   "cell_type": "code",
   "execution_count": 29,
   "metadata": {},
   "outputs": [],
   "source": [
    "grib_data = cfgrib.open_datasets('../data2022.grib')\n",
    "surface = grib_data[0] \n",
    "hybrid = grib_data[1] "
   ]
  },
  {
   "cell_type": "code",
   "execution_count": 30,
   "metadata": {},
   "outputs": [],
   "source": [
    "feature_list = ['t2m', 'sp', 'tcc', 'u10', 'v10', 'tp']\n",
    "t2m = surface.t2m.to_numpy() - 273.15  # -> C\n",
    "sp = surface.sp.to_numpy() / 100       # -> hPa\n",
    "tcc = surface.tcc.to_numpy()\n",
    "u10 = surface.u10.to_numpy()\n",
    "v10 = surface.v10.to_numpy()\n",
    "tp = hybrid.tp.to_numpy().reshape((-1,) + hybrid.tp.shape[2:])\n",
    "data = np.stack((t2m, sp, tcc, u10, v10, tp), axis=-1)"
   ]
  },
  {
   "cell_type": "code",
   "execution_count": 31,
   "metadata": {},
   "outputs": [],
   "source": [
    "def objective(trial, data, feature_list):\n",
    "    #Parameters for optimization\n",
    "    s = trial.suggest_int('s', 3, 5)  \n",
    "    fh = trial.suggest_int('fh', 1, 3) \n",
    "    regressor_type = trial.suggest_categorical('regressor_type', ['linear', 'lasso', 'ridge', 'elastic_net'])\n",
    "\n",
    "\n",
    "    processor = DataProcessor(data)\n",
    "    X, y = processor.preprocess(s, fh, use_neighbours=False)\n",
    "    X_train, X_test, y_train, y_test = processor.train_test_split(X, y)\n",
    "    \n",
    "    \n",
    "    linearreg = Regressor(X.shape, fh, feature_list, regressor_type=regressor_type)\n",
    "    linearreg.train(X_train, y_train)\n",
    "    y_hat = linearreg.predict_and_evaluate(X_test, y_test, max_samples=0)\n",
    "    \n",
    "    #returns a MSE\n",
    "    #TODO RMSE or regressor method calculating MSE\n",
    "    return mean_squared_error(y_test.reshape(-1,1), y_hat.reshape(-1,1))"
   ]
  },
  {
   "cell_type": "code",
   "execution_count": 32,
   "metadata": {},
   "outputs": [
    {
     "name": "stderr",
     "output_type": "stream",
     "text": [
      "[I 2023-11-05 23:30:06,079] A new study created in memory with name: no-name-0c555f6e-ecd6-4dc9-9b2f-ec86bf3ee2b3\n"
     ]
    }
   ],
   "source": [
    "#create an optuna study and objective function\n",
    "study = optuna.create_study(direction='minimize')\n",
    "objective_func = partial(objective, data=data, feature_list=feature_list)"
   ]
  },
  {
   "cell_type": "code",
   "execution_count": 33,
   "metadata": {},
   "outputs": [
    {
     "name": "stderr",
     "output_type": "stream",
     "text": [
      "[I 2023-11-05 23:30:25,222] Trial 0 finished with value: 1.8219843858646139 and parameters: {'s': 5, 'fh': 1, 'regressor_type': 'lasso'}. Best is trial 0 with value: 1.8219843858646139.\n"
     ]
    },
    {
     "name": "stdout",
     "output_type": "stream",
     "text": [
      "=======================================\n",
      "Evaluation metrics for entire test set:\n",
      "=======================================\n",
      "t2m => RMSE: 2.037; SE: 0.010200797752953046\n",
      "sp => RMSE: 1.564; SE: 0.03702956939722691\n",
      "tcc => RMSE: 0.355; SE: 0.0004828579478474195\n",
      "u10 => RMSE: 1.481; SE: 0.005026088934293758\n",
      "v10 => RMSE: 1.42; SE: 0.004110117665590181\n",
      "tp => RMSE: 0.0; SE: 3.4696299529253065e-07\n"
     ]
    },
    {
     "name": "stderr",
     "output_type": "stream",
     "text": [
      "[I 2023-11-05 23:30:28,571] Trial 1 finished with value: 3.6258206090457614 and parameters: {'s': 3, 'fh': 3, 'regressor_type': 'ridge'}. Best is trial 0 with value: 1.8219843858646139.\n"
     ]
    },
    {
     "name": "stdout",
     "output_type": "stream",
     "text": [
      "=======================================\n",
      "Evaluation metrics for entire test set:\n",
      "=======================================\n",
      "t2m => RMSE: 2.621; SE: 0.005901756074861131\n",
      "sp => RMSE: 2.766; SE: 0.02138352719199003\n",
      "tcc => RMSE: 0.288; SE: 0.0002772875764415203\n",
      "u10 => RMSE: 2.054; SE: 0.002905309043208137\n",
      "v10 => RMSE: 1.712; SE: 0.0023799655932334822\n",
      "tp => RMSE: 0.0; SE: 2.0052221260247116e-07\n"
     ]
    },
    {
     "name": "stderr",
     "output_type": "stream",
     "text": [
      "[I 2023-11-05 23:30:50,741] Trial 2 finished with value: 2.916478036916376 and parameters: {'s': 4, 'fh': 2, 'regressor_type': 'elastic_net'}. Best is trial 0 with value: 1.8219843858646139.\n"
     ]
    },
    {
     "name": "stdout",
     "output_type": "stream",
     "text": [
      "=======================================\n",
      "Evaluation metrics for entire test set:\n",
      "=======================================\n",
      "t2m => RMSE: 2.432; SE: 0.00722035292861406\n",
      "sp => RMSE: 2.292; SE: 0.026186777730342913\n",
      "tcc => RMSE: 0.357; SE: 0.00034068190903559453\n",
      "u10 => RMSE: 1.846; SE: 0.003557221413840321\n",
      "v10 => RMSE: 1.673; SE: 0.002911139152650286\n",
      "tp => RMSE: 0.0; SE: 2.454296631825405e-07\n"
     ]
    },
    {
     "name": "stderr",
     "output_type": "stream",
     "text": [
      "[I 2023-11-05 23:31:03,447] Trial 3 finished with value: 2.3787906970844297 and parameters: {'s': 5, 'fh': 2, 'regressor_type': 'linear'}. Best is trial 0 with value: 1.8219843858646139.\n"
     ]
    },
    {
     "name": "stdout",
     "output_type": "stream",
     "text": [
      "=======================================\n",
      "Evaluation metrics for entire test set:\n",
      "=======================================\n",
      "t2m => RMSE: 2.174; SE: 0.00722035292861406\n",
      "sp => RMSE: 1.984; SE: 0.026186777730342913\n",
      "tcc => RMSE: 0.275; SE: 0.00034068190903559453\n",
      "u10 => RMSE: 1.81; SE: 0.003557221413840321\n",
      "v10 => RMSE: 1.503; SE: 0.002911139152650286\n",
      "tp => RMSE: 0.0; SE: 2.454296631825405e-07\n"
     ]
    },
    {
     "name": "stderr",
     "output_type": "stream",
     "text": [
      "[I 2023-11-05 23:31:12,790] Trial 4 finished with value: 1.6888009682169005 and parameters: {'s': 4, 'fh': 1, 'regressor_type': 'linear'}. Best is trial 4 with value: 1.6888009682169005.\n"
     ]
    },
    {
     "name": "stdout",
     "output_type": "stream",
     "text": [
      "=======================================\n",
      "Evaluation metrics for entire test set:\n",
      "=======================================\n",
      "t2m => RMSE: 2.263; SE: 0.010200797752953046\n",
      "sp => RMSE: 1.175; SE: 0.03702956939722691\n",
      "tcc => RMSE: 0.256; SE: 0.0004828579478474195\n",
      "u10 => RMSE: 1.444; SE: 0.005026088934293758\n",
      "v10 => RMSE: 1.216; SE: 0.004110117665590181\n",
      "tp => RMSE: 0.0; SE: 3.4696299529253065e-07\n"
     ]
    },
    {
     "name": "stderr",
     "output_type": "stream",
     "text": [
      "[I 2023-11-05 23:31:16,138] Trial 5 finished with value: 1.4504322508449965 and parameters: {'s': 5, 'fh': 1, 'regressor_type': 'ridge'}. Best is trial 5 with value: 1.4504322508449965.\n"
     ]
    },
    {
     "name": "stdout",
     "output_type": "stream",
     "text": [
      "=======================================\n",
      "Evaluation metrics for entire test set:\n",
      "=======================================\n",
      "t2m => RMSE: 1.895; SE: 0.010200797752953046\n",
      "sp => RMSE: 1.192; SE: 0.03702956939722691\n",
      "tcc => RMSE: 0.256; SE: 0.0004828579478474195\n",
      "u10 => RMSE: 1.461; SE: 0.005026088934293758\n",
      "v10 => RMSE: 1.221; SE: 0.004110117665590181\n",
      "tp => RMSE: 0.0; SE: 3.4696299529253065e-07\n"
     ]
    },
    {
     "name": "stderr",
     "output_type": "stream",
     "text": [
      "[I 2023-11-05 23:31:18,728] Trial 6 finished with value: 2.716145532931149 and parameters: {'s': 3, 'fh': 2, 'regressor_type': 'ridge'}. Best is trial 5 with value: 1.4504322508449965.\n"
     ]
    },
    {
     "name": "stdout",
     "output_type": "stream",
     "text": [
      "=======================================\n",
      "Evaluation metrics for entire test set:\n",
      "=======================================\n",
      "t2m => RMSE: 2.596; SE: 0.00722035292861406\n",
      "sp => RMSE: 1.982; SE: 0.026186777730342913\n",
      "tcc => RMSE: 0.275; SE: 0.00034068190903559453\n",
      "u10 => RMSE: 1.812; SE: 0.003557221413840321\n",
      "v10 => RMSE: 1.507; SE: 0.002911139152650286\n",
      "tp => RMSE: 0.0; SE: 2.454296631825405e-07\n"
     ]
    },
    {
     "name": "stderr",
     "output_type": "stream",
     "text": [
      "[I 2023-11-05 23:31:39,039] Trial 7 finished with value: 4.031758713330576 and parameters: {'s': 5, 'fh': 3, 'regressor_type': 'lasso'}. Best is trial 5 with value: 1.4504322508449965.\n"
     ]
    },
    {
     "name": "stdout",
     "output_type": "stream",
     "text": [
      "=======================================\n",
      "Evaluation metrics for entire test set:\n",
      "=======================================\n",
      "t2m => RMSE: 2.433; SE: 0.005905771736003721\n",
      "sp => RMSE: 3.174; SE: 0.02142538738220056\n",
      "tcc => RMSE: 0.355; SE: 0.00027777756540164547\n",
      "u10 => RMSE: 2.08; SE: 0.0029078345055463914\n",
      "v10 => RMSE: 1.934; SE: 0.0023720156785941486\n",
      "tp => RMSE: 0.0; SE: 2.008436494858926e-07\n"
     ]
    },
    {
     "name": "stderr",
     "output_type": "stream",
     "text": [
      "[I 2023-11-05 23:31:55,054] Trial 8 finished with value: 4.135738000541047 and parameters: {'s': 3, 'fh': 3, 'regressor_type': 'elastic_net'}. Best is trial 5 with value: 1.4504322508449965.\n"
     ]
    },
    {
     "name": "stdout",
     "output_type": "stream",
     "text": [
      "=======================================\n",
      "Evaluation metrics for entire test set:\n",
      "=======================================\n",
      "t2m => RMSE: 2.684; SE: 0.005901756074861131\n",
      "sp => RMSE: 3.085; SE: 0.02138352719199003\n",
      "tcc => RMSE: 0.356; SE: 0.0002772875764415203\n",
      "u10 => RMSE: 2.082; SE: 0.002905309043208137\n",
      "v10 => RMSE: 1.906; SE: 0.0023799655932334822\n",
      "tp => RMSE: 0.0; SE: 2.0052221260247116e-07\n"
     ]
    },
    {
     "name": "stderr",
     "output_type": "stream",
     "text": [
      "[I 2023-11-05 23:31:58,249] Trial 9 finished with value: 2.6356694623904207 and parameters: {'s': 4, 'fh': 2, 'regressor_type': 'ridge'}. Best is trial 5 with value: 1.4504322508449965.\n"
     ]
    },
    {
     "name": "stdout",
     "output_type": "stream",
     "text": [
      "=======================================\n",
      "Evaluation metrics for entire test set:\n",
      "=======================================\n",
      "t2m => RMSE: 2.48; SE: 0.00722035292861406\n",
      "sp => RMSE: 1.998; SE: 0.026186777730342913\n",
      "tcc => RMSE: 0.275; SE: 0.00034068190903559453\n",
      "u10 => RMSE: 1.823; SE: 0.003557221413840321\n",
      "v10 => RMSE: 1.507; SE: 0.002911139152650286\n",
      "tp => RMSE: 0.0; SE: 2.454296631825405e-07\n"
     ]
    },
    {
     "name": "stderr",
     "output_type": "stream",
     "text": [
      "[I 2023-11-05 23:32:01,638] Trial 10 finished with value: 1.4504322508449965 and parameters: {'s': 5, 'fh': 1, 'regressor_type': 'ridge'}. Best is trial 5 with value: 1.4504322508449965.\n"
     ]
    },
    {
     "name": "stdout",
     "output_type": "stream",
     "text": [
      "=======================================\n",
      "Evaluation metrics for entire test set:\n",
      "=======================================\n",
      "t2m => RMSE: 1.895; SE: 0.010200797752953046\n",
      "sp => RMSE: 1.192; SE: 0.03702956939722691\n",
      "tcc => RMSE: 0.256; SE: 0.0004828579478474195\n",
      "u10 => RMSE: 1.461; SE: 0.005026088934293758\n",
      "v10 => RMSE: 1.221; SE: 0.004110117665590181\n",
      "tp => RMSE: 0.0; SE: 3.4696299529253065e-07\n"
     ]
    },
    {
     "name": "stderr",
     "output_type": "stream",
     "text": [
      "[I 2023-11-05 23:32:04,974] Trial 11 finished with value: 1.4504322508449965 and parameters: {'s': 5, 'fh': 1, 'regressor_type': 'ridge'}. Best is trial 5 with value: 1.4504322508449965.\n"
     ]
    },
    {
     "name": "stdout",
     "output_type": "stream",
     "text": [
      "=======================================\n",
      "Evaluation metrics for entire test set:\n",
      "=======================================\n",
      "t2m => RMSE: 1.895; SE: 0.010200797752953046\n",
      "sp => RMSE: 1.192; SE: 0.03702956939722691\n",
      "tcc => RMSE: 0.256; SE: 0.0004828579478474195\n",
      "u10 => RMSE: 1.461; SE: 0.005026088934293758\n",
      "v10 => RMSE: 1.221; SE: 0.004110117665590181\n",
      "tp => RMSE: 0.0; SE: 3.4696299529253065e-07\n"
     ]
    },
    {
     "name": "stderr",
     "output_type": "stream",
     "text": [
      "[I 2023-11-05 23:32:08,322] Trial 12 finished with value: 1.4504322508449965 and parameters: {'s': 5, 'fh': 1, 'regressor_type': 'ridge'}. Best is trial 5 with value: 1.4504322508449965.\n"
     ]
    },
    {
     "name": "stdout",
     "output_type": "stream",
     "text": [
      "=======================================\n",
      "Evaluation metrics for entire test set:\n",
      "=======================================\n",
      "t2m => RMSE: 1.895; SE: 0.010200797752953046\n",
      "sp => RMSE: 1.192; SE: 0.03702956939722691\n",
      "tcc => RMSE: 0.256; SE: 0.0004828579478474195\n",
      "u10 => RMSE: 1.461; SE: 0.005026088934293758\n",
      "v10 => RMSE: 1.221; SE: 0.004110117665590181\n",
      "tp => RMSE: 0.0; SE: 3.4696299529253065e-07\n"
     ]
    },
    {
     "name": "stderr",
     "output_type": "stream",
     "text": [
      "[I 2023-11-05 23:32:11,687] Trial 13 finished with value: 1.4504322508449965 and parameters: {'s': 5, 'fh': 1, 'regressor_type': 'ridge'}. Best is trial 5 with value: 1.4504322508449965.\n"
     ]
    },
    {
     "name": "stdout",
     "output_type": "stream",
     "text": [
      "=======================================\n",
      "Evaluation metrics for entire test set:\n",
      "=======================================\n",
      "t2m => RMSE: 1.895; SE: 0.010200797752953046\n",
      "sp => RMSE: 1.192; SE: 0.03702956939722691\n",
      "tcc => RMSE: 0.256; SE: 0.0004828579478474195\n",
      "u10 => RMSE: 1.461; SE: 0.005026088934293758\n",
      "v10 => RMSE: 1.221; SE: 0.004110117665590181\n",
      "tp => RMSE: 0.0; SE: 3.4696299529253065e-07\n"
     ]
    },
    {
     "name": "stderr",
     "output_type": "stream",
     "text": [
      "[I 2023-11-05 23:32:14,409] Trial 14 finished with value: 1.6945893581211364 and parameters: {'s': 4, 'fh': 1, 'regressor_type': 'ridge'}. Best is trial 5 with value: 1.4504322508449965.\n"
     ]
    },
    {
     "name": "stdout",
     "output_type": "stream",
     "text": [
      "=======================================\n",
      "Evaluation metrics for entire test set:\n",
      "=======================================\n",
      "t2m => RMSE: 2.251; SE: 0.010200797752953046\n",
      "sp => RMSE: 1.186; SE: 0.03702956939722691\n",
      "tcc => RMSE: 0.256; SE: 0.0004828579478474195\n",
      "u10 => RMSE: 1.461; SE: 0.005026088934293758\n",
      "v10 => RMSE: 1.221; SE: 0.004110117665590181\n",
      "tp => RMSE: 0.0; SE: 3.4696299529253065e-07\n"
     ]
    },
    {
     "name": "stderr",
     "output_type": "stream",
     "text": [
      "[I 2023-11-05 23:32:17,826] Trial 15 finished with value: 1.4504322508449965 and parameters: {'s': 5, 'fh': 1, 'regressor_type': 'ridge'}. Best is trial 5 with value: 1.4504322508449965.\n"
     ]
    },
    {
     "name": "stdout",
     "output_type": "stream",
     "text": [
      "=======================================\n",
      "Evaluation metrics for entire test set:\n",
      "=======================================\n",
      "t2m => RMSE: 1.895; SE: 0.010200797752953046\n",
      "sp => RMSE: 1.192; SE: 0.03702956939722691\n",
      "tcc => RMSE: 0.256; SE: 0.0004828579478474195\n",
      "u10 => RMSE: 1.461; SE: 0.005026088934293758\n",
      "v10 => RMSE: 1.221; SE: 0.004110117665590181\n",
      "tp => RMSE: 0.0; SE: 3.4696299529253065e-07\n"
     ]
    },
    {
     "name": "stderr",
     "output_type": "stream",
     "text": [
      "[I 2023-11-05 23:32:34,573] Trial 16 finished with value: 3.0333281967880112 and parameters: {'s': 4, 'fh': 2, 'regressor_type': 'lasso'}. Best is trial 5 with value: 1.4504322508449965.\n"
     ]
    },
    {
     "name": "stdout",
     "output_type": "stream",
     "text": [
      "=======================================\n",
      "Evaluation metrics for entire test set:\n",
      "=======================================\n",
      "t2m => RMSE: 2.446; SE: 0.00722035292861406\n",
      "sp => RMSE: 2.393; SE: 0.026186777730342913\n",
      "tcc => RMSE: 0.355; SE: 0.00034068190903559453\n",
      "u10 => RMSE: 1.835; SE: 0.003557221413840321\n",
      "v10 => RMSE: 1.733; SE: 0.002911139152650286\n",
      "tp => RMSE: 0.0; SE: 2.454296631825405e-07\n"
     ]
    },
    {
     "name": "stderr",
     "output_type": "stream",
     "text": [
      "[I 2023-11-05 23:33:03,084] Trial 17 finished with value: 1.7171371915411775 and parameters: {'s': 5, 'fh': 1, 'regressor_type': 'elastic_net'}. Best is trial 5 with value: 1.4504322508449965.\n"
     ]
    },
    {
     "name": "stdout",
     "output_type": "stream",
     "text": [
      "=======================================\n",
      "Evaluation metrics for entire test set:\n",
      "=======================================\n",
      "t2m => RMSE: 1.963; SE: 0.010200797752953046\n",
      "sp => RMSE: 1.483; SE: 0.03702956939722691\n",
      "tcc => RMSE: 0.357; SE: 0.0004828579478474195\n",
      "u10 => RMSE: 1.506; SE: 0.005026088934293758\n",
      "v10 => RMSE: 1.361; SE: 0.004110117665590181\n",
      "tp => RMSE: 0.0; SE: 3.4696299529253065e-07\n"
     ]
    },
    {
     "name": "stderr",
     "output_type": "stream",
     "text": [
      "[I 2023-11-05 23:33:12,547] Trial 18 finished with value: 1.6888009682169005 and parameters: {'s': 4, 'fh': 1, 'regressor_type': 'linear'}. Best is trial 5 with value: 1.4504322508449965.\n"
     ]
    },
    {
     "name": "stdout",
     "output_type": "stream",
     "text": [
      "=======================================\n",
      "Evaluation metrics for entire test set:\n",
      "=======================================\n",
      "t2m => RMSE: 2.263; SE: 0.010200797752953046\n",
      "sp => RMSE: 1.175; SE: 0.03702956939722691\n",
      "tcc => RMSE: 0.256; SE: 0.0004828579478474195\n",
      "u10 => RMSE: 1.444; SE: 0.005026088934293758\n",
      "v10 => RMSE: 1.216; SE: 0.004110117665590181\n",
      "tp => RMSE: 0.0; SE: 3.4696299529253065e-07\n"
     ]
    },
    {
     "name": "stderr",
     "output_type": "stream",
     "text": [
      "[I 2023-11-05 23:33:16,471] Trial 19 finished with value: 2.4068881188137077 and parameters: {'s': 5, 'fh': 2, 'regressor_type': 'ridge'}. Best is trial 5 with value: 1.4504322508449965.\n"
     ]
    },
    {
     "name": "stdout",
     "output_type": "stream",
     "text": [
      "=======================================\n",
      "Evaluation metrics for entire test set:\n",
      "=======================================\n",
      "t2m => RMSE: 2.167; SE: 0.00722035292861406\n",
      "sp => RMSE: 2.013; SE: 0.026186777730342913\n",
      "tcc => RMSE: 0.275; SE: 0.00034068190903559453\n",
      "u10 => RMSE: 1.829; SE: 0.003557221413840321\n",
      "v10 => RMSE: 1.507; SE: 0.002911139152650286\n",
      "tp => RMSE: 0.0; SE: 2.454296631825405e-07\n"
     ]
    },
    {
     "name": "stderr",
     "output_type": "stream",
     "text": [
      "[I 2023-11-05 23:33:19,806] Trial 20 finished with value: 1.4504322508449965 and parameters: {'s': 5, 'fh': 1, 'regressor_type': 'ridge'}. Best is trial 5 with value: 1.4504322508449965.\n"
     ]
    },
    {
     "name": "stdout",
     "output_type": "stream",
     "text": [
      "=======================================\n",
      "Evaluation metrics for entire test set:\n",
      "=======================================\n",
      "t2m => RMSE: 1.895; SE: 0.010200797752953046\n",
      "sp => RMSE: 1.192; SE: 0.03702956939722691\n",
      "tcc => RMSE: 0.256; SE: 0.0004828579478474195\n",
      "u10 => RMSE: 1.461; SE: 0.005026088934293758\n",
      "v10 => RMSE: 1.221; SE: 0.004110117665590181\n",
      "tp => RMSE: 0.0; SE: 3.4696299529253065e-07\n"
     ]
    },
    {
     "name": "stderr",
     "output_type": "stream",
     "text": [
      "[I 2023-11-05 23:33:23,120] Trial 21 finished with value: 1.4504322508449965 and parameters: {'s': 5, 'fh': 1, 'regressor_type': 'ridge'}. Best is trial 5 with value: 1.4504322508449965.\n"
     ]
    },
    {
     "name": "stdout",
     "output_type": "stream",
     "text": [
      "=======================================\n",
      "Evaluation metrics for entire test set:\n",
      "=======================================\n",
      "t2m => RMSE: 1.895; SE: 0.010200797752953046\n",
      "sp => RMSE: 1.192; SE: 0.03702956939722691\n",
      "tcc => RMSE: 0.256; SE: 0.0004828579478474195\n",
      "u10 => RMSE: 1.461; SE: 0.005026088934293758\n",
      "v10 => RMSE: 1.221; SE: 0.004110117665590181\n",
      "tp => RMSE: 0.0; SE: 3.4696299529253065e-07\n"
     ]
    },
    {
     "name": "stderr",
     "output_type": "stream",
     "text": [
      "[I 2023-11-05 23:33:26,438] Trial 22 finished with value: 1.4504322508449965 and parameters: {'s': 5, 'fh': 1, 'regressor_type': 'ridge'}. Best is trial 5 with value: 1.4504322508449965.\n"
     ]
    },
    {
     "name": "stdout",
     "output_type": "stream",
     "text": [
      "=======================================\n",
      "Evaluation metrics for entire test set:\n",
      "=======================================\n",
      "t2m => RMSE: 1.895; SE: 0.010200797752953046\n",
      "sp => RMSE: 1.192; SE: 0.03702956939722691\n",
      "tcc => RMSE: 0.256; SE: 0.0004828579478474195\n",
      "u10 => RMSE: 1.461; SE: 0.005026088934293758\n",
      "v10 => RMSE: 1.221; SE: 0.004110117665590181\n",
      "tp => RMSE: 0.0; SE: 3.4696299529253065e-07\n"
     ]
    },
    {
     "name": "stderr",
     "output_type": "stream",
     "text": [
      "[I 2023-11-05 23:33:29,763] Trial 23 finished with value: 1.4504322508449965 and parameters: {'s': 5, 'fh': 1, 'regressor_type': 'ridge'}. Best is trial 5 with value: 1.4504322508449965.\n"
     ]
    },
    {
     "name": "stdout",
     "output_type": "stream",
     "text": [
      "=======================================\n",
      "Evaluation metrics for entire test set:\n",
      "=======================================\n",
      "t2m => RMSE: 1.895; SE: 0.010200797752953046\n",
      "sp => RMSE: 1.192; SE: 0.03702956939722691\n",
      "tcc => RMSE: 0.256; SE: 0.0004828579478474195\n",
      "u10 => RMSE: 1.461; SE: 0.005026088934293758\n",
      "v10 => RMSE: 1.221; SE: 0.004110117665590181\n",
      "tp => RMSE: 0.0; SE: 3.4696299529253065e-07\n"
     ]
    },
    {
     "name": "stderr",
     "output_type": "stream",
     "text": [
      "[I 2023-11-05 23:33:33,075] Trial 24 finished with value: 1.4504322508449965 and parameters: {'s': 5, 'fh': 1, 'regressor_type': 'ridge'}. Best is trial 5 with value: 1.4504322508449965.\n"
     ]
    },
    {
     "name": "stdout",
     "output_type": "stream",
     "text": [
      "=======================================\n",
      "Evaluation metrics for entire test set:\n",
      "=======================================\n",
      "t2m => RMSE: 1.895; SE: 0.010200797752953046\n",
      "sp => RMSE: 1.192; SE: 0.03702956939722691\n",
      "tcc => RMSE: 0.256; SE: 0.0004828579478474195\n",
      "u10 => RMSE: 1.461; SE: 0.005026088934293758\n",
      "v10 => RMSE: 1.221; SE: 0.004110117665590181\n",
      "tp => RMSE: 0.0; SE: 3.4696299529253065e-07\n"
     ]
    },
    {
     "name": "stderr",
     "output_type": "stream",
     "text": [
      "[I 2023-11-05 23:33:36,388] Trial 25 finished with value: 2.6356694623904207 and parameters: {'s': 4, 'fh': 2, 'regressor_type': 'ridge'}. Best is trial 5 with value: 1.4504322508449965.\n"
     ]
    },
    {
     "name": "stdout",
     "output_type": "stream",
     "text": [
      "=======================================\n",
      "Evaluation metrics for entire test set:\n",
      "=======================================\n",
      "t2m => RMSE: 2.48; SE: 0.00722035292861406\n",
      "sp => RMSE: 1.998; SE: 0.026186777730342913\n",
      "tcc => RMSE: 0.275; SE: 0.00034068190903559453\n",
      "u10 => RMSE: 1.823; SE: 0.003557221413840321\n",
      "v10 => RMSE: 1.507; SE: 0.002911139152650286\n",
      "tp => RMSE: 0.0; SE: 2.454296631825405e-07\n"
     ]
    },
    {
     "name": "stderr",
     "output_type": "stream",
     "text": [
      "[I 2023-11-05 23:33:55,543] Trial 26 finished with value: 1.8219843858646139 and parameters: {'s': 5, 'fh': 1, 'regressor_type': 'lasso'}. Best is trial 5 with value: 1.4504322508449965.\n"
     ]
    },
    {
     "name": "stdout",
     "output_type": "stream",
     "text": [
      "=======================================\n",
      "Evaluation metrics for entire test set:\n",
      "=======================================\n",
      "t2m => RMSE: 2.037; SE: 0.010200797752953046\n",
      "sp => RMSE: 1.564; SE: 0.03702956939722691\n",
      "tcc => RMSE: 0.355; SE: 0.0004828579478474195\n",
      "u10 => RMSE: 1.481; SE: 0.005026088934293758\n",
      "v10 => RMSE: 1.42; SE: 0.004110117665590181\n",
      "tp => RMSE: 0.0; SE: 3.4696299529253065e-07\n"
     ]
    },
    {
     "name": "stderr",
     "output_type": "stream",
     "text": [
      "[I 2023-11-05 23:34:25,190] Trial 27 finished with value: 1.7171371915411775 and parameters: {'s': 5, 'fh': 1, 'regressor_type': 'elastic_net'}. Best is trial 5 with value: 1.4504322508449965.\n"
     ]
    },
    {
     "name": "stdout",
     "output_type": "stream",
     "text": [
      "=======================================\n",
      "Evaluation metrics for entire test set:\n",
      "=======================================\n",
      "t2m => RMSE: 1.963; SE: 0.010200797752953046\n",
      "sp => RMSE: 1.483; SE: 0.03702956939722691\n",
      "tcc => RMSE: 0.357; SE: 0.0004828579478474195\n",
      "u10 => RMSE: 1.506; SE: 0.005026088934293758\n",
      "v10 => RMSE: 1.361; SE: 0.004110117665590181\n",
      "tp => RMSE: 0.0; SE: 3.4696299529253065e-07\n"
     ]
    },
    {
     "name": "stderr",
     "output_type": "stream",
     "text": [
      "[I 2023-11-05 23:34:34,953] Trial 28 finished with value: 2.6157655546828043 and parameters: {'s': 4, 'fh': 2, 'regressor_type': 'linear'}. Best is trial 5 with value: 1.4504322508449965.\n"
     ]
    },
    {
     "name": "stdout",
     "output_type": "stream",
     "text": [
      "=======================================\n",
      "Evaluation metrics for entire test set:\n",
      "=======================================\n",
      "t2m => RMSE: 2.49; SE: 0.00722035292861406\n",
      "sp => RMSE: 1.974; SE: 0.026186777730342913\n",
      "tcc => RMSE: 0.275; SE: 0.00034068190903559453\n",
      "u10 => RMSE: 1.806; SE: 0.003557221413840321\n",
      "v10 => RMSE: 1.504; SE: 0.002911139152650286\n",
      "tp => RMSE: 0.0; SE: 2.454296631825405e-07\n"
     ]
    },
    {
     "name": "stderr",
     "output_type": "stream",
     "text": [
      "[I 2023-11-05 23:34:54,074] Trial 29 finished with value: 1.8219843858646139 and parameters: {'s': 5, 'fh': 1, 'regressor_type': 'lasso'}. Best is trial 5 with value: 1.4504322508449965.\n"
     ]
    },
    {
     "name": "stdout",
     "output_type": "stream",
     "text": [
      "=======================================\n",
      "Evaluation metrics for entire test set:\n",
      "=======================================\n",
      "t2m => RMSE: 2.037; SE: 0.010200797752953046\n",
      "sp => RMSE: 1.564; SE: 0.03702956939722691\n",
      "tcc => RMSE: 0.355; SE: 0.0004828579478474195\n",
      "u10 => RMSE: 1.481; SE: 0.005026088934293758\n",
      "v10 => RMSE: 1.42; SE: 0.004110117665590181\n",
      "tp => RMSE: 0.0; SE: 3.4696299529253065e-07\n"
     ]
    },
    {
     "name": "stderr",
     "output_type": "stream",
     "text": [
      "[I 2023-11-05 23:34:57,441] Trial 30 finished with value: 1.4504322508449965 and parameters: {'s': 5, 'fh': 1, 'regressor_type': 'ridge'}. Best is trial 5 with value: 1.4504322508449965.\n"
     ]
    },
    {
     "name": "stdout",
     "output_type": "stream",
     "text": [
      "=======================================\n",
      "Evaluation metrics for entire test set:\n",
      "=======================================\n",
      "t2m => RMSE: 1.895; SE: 0.010200797752953046\n",
      "sp => RMSE: 1.192; SE: 0.03702956939722691\n",
      "tcc => RMSE: 0.256; SE: 0.0004828579478474195\n",
      "u10 => RMSE: 1.461; SE: 0.005026088934293758\n",
      "v10 => RMSE: 1.221; SE: 0.004110117665590181\n",
      "tp => RMSE: 0.0; SE: 3.4696299529253065e-07\n"
     ]
    },
    {
     "name": "stderr",
     "output_type": "stream",
     "text": [
      "[I 2023-11-05 23:35:00,782] Trial 31 finished with value: 1.4504322508449965 and parameters: {'s': 5, 'fh': 1, 'regressor_type': 'ridge'}. Best is trial 5 with value: 1.4504322508449965.\n"
     ]
    },
    {
     "name": "stdout",
     "output_type": "stream",
     "text": [
      "=======================================\n",
      "Evaluation metrics for entire test set:\n",
      "=======================================\n",
      "t2m => RMSE: 1.895; SE: 0.010200797752953046\n",
      "sp => RMSE: 1.192; SE: 0.03702956939722691\n",
      "tcc => RMSE: 0.256; SE: 0.0004828579478474195\n",
      "u10 => RMSE: 1.461; SE: 0.005026088934293758\n",
      "v10 => RMSE: 1.221; SE: 0.004110117665590181\n",
      "tp => RMSE: 0.0; SE: 3.4696299529253065e-07\n"
     ]
    },
    {
     "name": "stderr",
     "output_type": "stream",
     "text": [
      "[I 2023-11-05 23:35:04,094] Trial 32 finished with value: 1.4504322508449965 and parameters: {'s': 5, 'fh': 1, 'regressor_type': 'ridge'}. Best is trial 5 with value: 1.4504322508449965.\n"
     ]
    },
    {
     "name": "stdout",
     "output_type": "stream",
     "text": [
      "=======================================\n",
      "Evaluation metrics for entire test set:\n",
      "=======================================\n",
      "t2m => RMSE: 1.895; SE: 0.010200797752953046\n",
      "sp => RMSE: 1.192; SE: 0.03702956939722691\n",
      "tcc => RMSE: 0.256; SE: 0.0004828579478474195\n",
      "u10 => RMSE: 1.461; SE: 0.005026088934293758\n",
      "v10 => RMSE: 1.221; SE: 0.004110117665590181\n",
      "tp => RMSE: 0.0; SE: 3.4696299529253065e-07\n"
     ]
    },
    {
     "name": "stderr",
     "output_type": "stream",
     "text": [
      "[I 2023-11-05 23:35:07,412] Trial 33 finished with value: 1.4504322508449965 and parameters: {'s': 5, 'fh': 1, 'regressor_type': 'ridge'}. Best is trial 5 with value: 1.4504322508449965.\n"
     ]
    },
    {
     "name": "stdout",
     "output_type": "stream",
     "text": [
      "=======================================\n",
      "Evaluation metrics for entire test set:\n",
      "=======================================\n",
      "t2m => RMSE: 1.895; SE: 0.010200797752953046\n",
      "sp => RMSE: 1.192; SE: 0.03702956939722691\n",
      "tcc => RMSE: 0.256; SE: 0.0004828579478474195\n",
      "u10 => RMSE: 1.461; SE: 0.005026088934293758\n",
      "v10 => RMSE: 1.221; SE: 0.004110117665590181\n",
      "tp => RMSE: 0.0; SE: 3.4696299529253065e-07\n"
     ]
    },
    {
     "name": "stderr",
     "output_type": "stream",
     "text": [
      "[I 2023-11-05 23:35:10,781] Trial 34 finished with value: 1.4504322508449965 and parameters: {'s': 5, 'fh': 1, 'regressor_type': 'ridge'}. Best is trial 5 with value: 1.4504322508449965.\n"
     ]
    },
    {
     "name": "stdout",
     "output_type": "stream",
     "text": [
      "=======================================\n",
      "Evaluation metrics for entire test set:\n",
      "=======================================\n",
      "t2m => RMSE: 1.895; SE: 0.010200797752953046\n",
      "sp => RMSE: 1.192; SE: 0.03702956939722691\n",
      "tcc => RMSE: 0.256; SE: 0.0004828579478474195\n",
      "u10 => RMSE: 1.461; SE: 0.005026088934293758\n",
      "v10 => RMSE: 1.221; SE: 0.004110117665590181\n",
      "tp => RMSE: 0.0; SE: 3.4696299529253065e-07\n"
     ]
    },
    {
     "name": "stderr",
     "output_type": "stream",
     "text": [
      "[I 2023-11-05 23:35:14,097] Trial 35 finished with value: 1.4504322508449965 and parameters: {'s': 5, 'fh': 1, 'regressor_type': 'ridge'}. Best is trial 5 with value: 1.4504322508449965.\n"
     ]
    },
    {
     "name": "stdout",
     "output_type": "stream",
     "text": [
      "=======================================\n",
      "Evaluation metrics for entire test set:\n",
      "=======================================\n",
      "t2m => RMSE: 1.895; SE: 0.010200797752953046\n",
      "sp => RMSE: 1.192; SE: 0.03702956939722691\n",
      "tcc => RMSE: 0.256; SE: 0.0004828579478474195\n",
      "u10 => RMSE: 1.461; SE: 0.005026088934293758\n",
      "v10 => RMSE: 1.221; SE: 0.004110117665590181\n",
      "tp => RMSE: 0.0; SE: 3.4696299529253065e-07\n"
     ]
    },
    {
     "name": "stderr",
     "output_type": "stream",
     "text": [
      "[I 2023-11-05 23:35:27,474] Trial 36 finished with value: 2.3787906970844297 and parameters: {'s': 5, 'fh': 2, 'regressor_type': 'linear'}. Best is trial 5 with value: 1.4504322508449965.\n"
     ]
    },
    {
     "name": "stdout",
     "output_type": "stream",
     "text": [
      "=======================================\n",
      "Evaluation metrics for entire test set:\n",
      "=======================================\n",
      "t2m => RMSE: 2.174; SE: 0.00722035292861406\n",
      "sp => RMSE: 1.984; SE: 0.026186777730342913\n",
      "tcc => RMSE: 0.275; SE: 0.00034068190903559453\n",
      "u10 => RMSE: 1.81; SE: 0.003557221413840321\n",
      "v10 => RMSE: 1.503; SE: 0.002911139152650286\n",
      "tp => RMSE: 0.0; SE: 2.454296631825405e-07\n"
     ]
    },
    {
     "name": "stderr",
     "output_type": "stream",
     "text": [
      "[I 2023-11-05 23:35:41,525] Trial 37 finished with value: 2.172297139563047 and parameters: {'s': 3, 'fh': 1, 'regressor_type': 'elastic_net'}. Best is trial 5 with value: 1.4504322508449965.\n"
     ]
    },
    {
     "name": "stdout",
     "output_type": "stream",
     "text": [
      "=======================================\n",
      "Evaluation metrics for entire test set:\n",
      "=======================================\n",
      "t2m => RMSE: 2.551; SE: 0.010200797752953046\n",
      "sp => RMSE: 1.486; SE: 0.03702956939722691\n",
      "tcc => RMSE: 0.357; SE: 0.0004828579478474195\n",
      "u10 => RMSE: 1.509; SE: 0.005026088934293758\n",
      "v10 => RMSE: 1.384; SE: 0.004110117665590181\n",
      "tp => RMSE: 0.0; SE: 3.4696299529253065e-07\n"
     ]
    },
    {
     "name": "stderr",
     "output_type": "stream",
     "text": [
      "[I 2023-11-05 23:35:44,742] Trial 38 finished with value: 2.6356694623904207 and parameters: {'s': 4, 'fh': 2, 'regressor_type': 'ridge'}. Best is trial 5 with value: 1.4504322508449965.\n"
     ]
    },
    {
     "name": "stdout",
     "output_type": "stream",
     "text": [
      "=======================================\n",
      "Evaluation metrics for entire test set:\n",
      "=======================================\n",
      "t2m => RMSE: 2.48; SE: 0.00722035292861406\n",
      "sp => RMSE: 1.998; SE: 0.026186777730342913\n",
      "tcc => RMSE: 0.275; SE: 0.00034068190903559453\n",
      "u10 => RMSE: 1.823; SE: 0.003557221413840321\n",
      "v10 => RMSE: 1.507; SE: 0.002911139152650286\n",
      "tp => RMSE: 0.0; SE: 2.454296631825405e-07\n"
     ]
    },
    {
     "name": "stderr",
     "output_type": "stream",
     "text": [
      "[I 2023-11-05 23:35:48,107] Trial 39 finished with value: 1.4504322508449965 and parameters: {'s': 5, 'fh': 1, 'regressor_type': 'ridge'}. Best is trial 5 with value: 1.4504322508449965.\n"
     ]
    },
    {
     "name": "stdout",
     "output_type": "stream",
     "text": [
      "=======================================\n",
      "Evaluation metrics for entire test set:\n",
      "=======================================\n",
      "t2m => RMSE: 1.895; SE: 0.010200797752953046\n",
      "sp => RMSE: 1.192; SE: 0.03702956939722691\n",
      "tcc => RMSE: 0.256; SE: 0.0004828579478474195\n",
      "u10 => RMSE: 1.461; SE: 0.005026088934293758\n",
      "v10 => RMSE: 1.221; SE: 0.004110117665590181\n",
      "tp => RMSE: 0.0; SE: 3.4696299529253065e-07\n"
     ]
    },
    {
     "name": "stderr",
     "output_type": "stream",
     "text": [
      "[I 2023-11-05 23:36:07,355] Trial 40 finished with value: 4.118307135799759 and parameters: {'s': 4, 'fh': 3, 'regressor_type': 'lasso'}. Best is trial 5 with value: 1.4504322508449965.\n"
     ]
    },
    {
     "name": "stdout",
     "output_type": "stream",
     "text": [
      "=======================================\n",
      "Evaluation metrics for entire test set:\n",
      "=======================================\n",
      "t2m => RMSE: 2.54; SE: 0.005901756074861131\n",
      "sp => RMSE: 3.172; SE: 0.02138352719199003\n",
      "tcc => RMSE: 0.355; SE: 0.0002772875764415203\n",
      "u10 => RMSE: 2.077; SE: 0.002905309043208137\n",
      "v10 => RMSE: 1.939; SE: 0.0023799655932334822\n",
      "tp => RMSE: 0.0; SE: 2.0052221260247116e-07\n"
     ]
    },
    {
     "name": "stderr",
     "output_type": "stream",
     "text": [
      "[I 2023-11-05 23:36:10,769] Trial 41 finished with value: 1.4504322508449965 and parameters: {'s': 5, 'fh': 1, 'regressor_type': 'ridge'}. Best is trial 5 with value: 1.4504322508449965.\n"
     ]
    },
    {
     "name": "stdout",
     "output_type": "stream",
     "text": [
      "=======================================\n",
      "Evaluation metrics for entire test set:\n",
      "=======================================\n",
      "t2m => RMSE: 1.895; SE: 0.010200797752953046\n",
      "sp => RMSE: 1.192; SE: 0.03702956939722691\n",
      "tcc => RMSE: 0.256; SE: 0.0004828579478474195\n",
      "u10 => RMSE: 1.461; SE: 0.005026088934293758\n",
      "v10 => RMSE: 1.221; SE: 0.004110117665590181\n",
      "tp => RMSE: 0.0; SE: 3.4696299529253065e-07\n"
     ]
    },
    {
     "name": "stderr",
     "output_type": "stream",
     "text": [
      "[I 2023-11-05 23:36:14,096] Trial 42 finished with value: 1.4504322508449965 and parameters: {'s': 5, 'fh': 1, 'regressor_type': 'ridge'}. Best is trial 5 with value: 1.4504322508449965.\n"
     ]
    },
    {
     "name": "stdout",
     "output_type": "stream",
     "text": [
      "=======================================\n",
      "Evaluation metrics for entire test set:\n",
      "=======================================\n",
      "t2m => RMSE: 1.895; SE: 0.010200797752953046\n",
      "sp => RMSE: 1.192; SE: 0.03702956939722691\n",
      "tcc => RMSE: 0.256; SE: 0.0004828579478474195\n",
      "u10 => RMSE: 1.461; SE: 0.005026088934293758\n",
      "v10 => RMSE: 1.221; SE: 0.004110117665590181\n",
      "tp => RMSE: 0.0; SE: 3.4696299529253065e-07\n"
     ]
    },
    {
     "name": "stderr",
     "output_type": "stream",
     "text": [
      "[I 2023-11-05 23:36:17,441] Trial 43 finished with value: 1.4504322508449965 and parameters: {'s': 5, 'fh': 1, 'regressor_type': 'ridge'}. Best is trial 5 with value: 1.4504322508449965.\n"
     ]
    },
    {
     "name": "stdout",
     "output_type": "stream",
     "text": [
      "=======================================\n",
      "Evaluation metrics for entire test set:\n",
      "=======================================\n",
      "t2m => RMSE: 1.895; SE: 0.010200797752953046\n",
      "sp => RMSE: 1.192; SE: 0.03702956939722691\n",
      "tcc => RMSE: 0.256; SE: 0.0004828579478474195\n",
      "u10 => RMSE: 1.461; SE: 0.005026088934293758\n",
      "v10 => RMSE: 1.221; SE: 0.004110117665590181\n",
      "tp => RMSE: 0.0; SE: 3.4696299529253065e-07\n"
     ]
    },
    {
     "name": "stderr",
     "output_type": "stream",
     "text": [
      "[I 2023-11-05 23:36:20,811] Trial 44 finished with value: 1.4504322508449965 and parameters: {'s': 5, 'fh': 1, 'regressor_type': 'ridge'}. Best is trial 5 with value: 1.4504322508449965.\n"
     ]
    },
    {
     "name": "stdout",
     "output_type": "stream",
     "text": [
      "=======================================\n",
      "Evaluation metrics for entire test set:\n",
      "=======================================\n",
      "t2m => RMSE: 1.895; SE: 0.010200797752953046\n",
      "sp => RMSE: 1.192; SE: 0.03702956939722691\n",
      "tcc => RMSE: 0.256; SE: 0.0004828579478474195\n",
      "u10 => RMSE: 1.461; SE: 0.005026088934293758\n",
      "v10 => RMSE: 1.221; SE: 0.004110117665590181\n",
      "tp => RMSE: 0.0; SE: 3.4696299529253065e-07\n"
     ]
    },
    {
     "name": "stderr",
     "output_type": "stream",
     "text": [
      "[I 2023-11-05 23:36:24,148] Trial 45 finished with value: 1.4504322508449965 and parameters: {'s': 5, 'fh': 1, 'regressor_type': 'ridge'}. Best is trial 5 with value: 1.4504322508449965.\n"
     ]
    },
    {
     "name": "stdout",
     "output_type": "stream",
     "text": [
      "=======================================\n",
      "Evaluation metrics for entire test set:\n",
      "=======================================\n",
      "t2m => RMSE: 1.895; SE: 0.010200797752953046\n",
      "sp => RMSE: 1.192; SE: 0.03702956939722691\n",
      "tcc => RMSE: 0.256; SE: 0.0004828579478474195\n",
      "u10 => RMSE: 1.461; SE: 0.005026088934293758\n",
      "v10 => RMSE: 1.221; SE: 0.004110117665590181\n",
      "tp => RMSE: 0.0; SE: 3.4696299529253065e-07\n"
     ]
    },
    {
     "name": "stderr",
     "output_type": "stream",
     "text": [
      "[I 2023-11-05 23:36:36,953] Trial 46 finished with value: 1.436537361466356 and parameters: {'s': 5, 'fh': 1, 'regressor_type': 'linear'}. Best is trial 46 with value: 1.436537361466356.\n"
     ]
    },
    {
     "name": "stdout",
     "output_type": "stream",
     "text": [
      "=======================================\n",
      "Evaluation metrics for entire test set:\n",
      "=======================================\n",
      "t2m => RMSE: 1.9; SE: 0.010200797752953046\n",
      "sp => RMSE: 1.179; SE: 0.03702956939722691\n",
      "tcc => RMSE: 0.256; SE: 0.0004828579478474195\n",
      "u10 => RMSE: 1.44; SE: 0.005026088934293758\n",
      "v10 => RMSE: 1.216; SE: 0.004110117665590181\n",
      "tp => RMSE: 0.0; SE: 3.4696299529253065e-07\n"
     ]
    },
    {
     "name": "stderr",
     "output_type": "stream",
     "text": [
      "[I 2023-11-05 23:36:47,383] Trial 47 finished with value: 2.6157655546828043 and parameters: {'s': 4, 'fh': 2, 'regressor_type': 'linear'}. Best is trial 46 with value: 1.436537361466356.\n"
     ]
    },
    {
     "name": "stdout",
     "output_type": "stream",
     "text": [
      "=======================================\n",
      "Evaluation metrics for entire test set:\n",
      "=======================================\n",
      "t2m => RMSE: 2.49; SE: 0.00722035292861406\n",
      "sp => RMSE: 1.974; SE: 0.026186777730342913\n",
      "tcc => RMSE: 0.275; SE: 0.00034068190903559453\n",
      "u10 => RMSE: 1.806; SE: 0.003557221413840321\n",
      "v10 => RMSE: 1.504; SE: 0.002911139152650286\n",
      "tp => RMSE: 0.0; SE: 2.454296631825405e-07\n"
     ]
    },
    {
     "name": "stderr",
     "output_type": "stream",
     "text": [
      "[I 2023-11-05 23:37:00,096] Trial 48 finished with value: 1.436537361466356 and parameters: {'s': 5, 'fh': 1, 'regressor_type': 'linear'}. Best is trial 46 with value: 1.436537361466356.\n"
     ]
    },
    {
     "name": "stdout",
     "output_type": "stream",
     "text": [
      "=======================================\n",
      "Evaluation metrics for entire test set:\n",
      "=======================================\n",
      "t2m => RMSE: 1.9; SE: 0.010200797752953046\n",
      "sp => RMSE: 1.179; SE: 0.03702956939722691\n",
      "tcc => RMSE: 0.256; SE: 0.0004828579478474195\n",
      "u10 => RMSE: 1.44; SE: 0.005026088934293758\n",
      "v10 => RMSE: 1.216; SE: 0.004110117665590181\n",
      "tp => RMSE: 0.0; SE: 3.4696299529253065e-07\n"
     ]
    },
    {
     "name": "stderr",
     "output_type": "stream",
     "text": [
      "[I 2023-11-05 23:37:07,191] Trial 49 finished with value: 3.590703161992051 and parameters: {'s': 3, 'fh': 3, 'regressor_type': 'linear'}. Best is trial 46 with value: 1.436537361466356.\n"
     ]
    },
    {
     "name": "stdout",
     "output_type": "stream",
     "text": [
      "=======================================\n",
      "Evaluation metrics for entire test set:\n",
      "=======================================\n",
      "t2m => RMSE: 2.625; SE: 0.005901756074861131\n",
      "sp => RMSE: 2.736; SE: 0.02138352719199003\n",
      "tcc => RMSE: 0.288; SE: 0.0002772875764415203\n",
      "u10 => RMSE: 2.04; SE: 0.002905309043208137\n",
      "v10 => RMSE: 1.709; SE: 0.0023799655932334822\n",
      "tp => RMSE: 0.0; SE: 2.0052221260247116e-07\n"
     ]
    },
    {
     "name": "stderr",
     "output_type": "stream",
     "text": [
      "[I 2023-11-05 23:37:20,168] Trial 50 finished with value: 1.436537361466356 and parameters: {'s': 5, 'fh': 1, 'regressor_type': 'linear'}. Best is trial 46 with value: 1.436537361466356.\n"
     ]
    },
    {
     "name": "stdout",
     "output_type": "stream",
     "text": [
      "=======================================\n",
      "Evaluation metrics for entire test set:\n",
      "=======================================\n",
      "t2m => RMSE: 1.9; SE: 0.010200797752953046\n",
      "sp => RMSE: 1.179; SE: 0.03702956939722691\n",
      "tcc => RMSE: 0.256; SE: 0.0004828579478474195\n",
      "u10 => RMSE: 1.44; SE: 0.005026088934293758\n",
      "v10 => RMSE: 1.216; SE: 0.004110117665590181\n",
      "tp => RMSE: 0.0; SE: 3.4696299529253065e-07\n"
     ]
    },
    {
     "name": "stderr",
     "output_type": "stream",
     "text": [
      "[I 2023-11-05 23:37:32,731] Trial 51 finished with value: 1.436537361466356 and parameters: {'s': 5, 'fh': 1, 'regressor_type': 'linear'}. Best is trial 46 with value: 1.436537361466356.\n"
     ]
    },
    {
     "name": "stdout",
     "output_type": "stream",
     "text": [
      "=======================================\n",
      "Evaluation metrics for entire test set:\n",
      "=======================================\n",
      "t2m => RMSE: 1.9; SE: 0.010200797752953046\n",
      "sp => RMSE: 1.179; SE: 0.03702956939722691\n",
      "tcc => RMSE: 0.256; SE: 0.0004828579478474195\n",
      "u10 => RMSE: 1.44; SE: 0.005026088934293758\n",
      "v10 => RMSE: 1.216; SE: 0.004110117665590181\n",
      "tp => RMSE: 0.0; SE: 3.4696299529253065e-07\n"
     ]
    },
    {
     "name": "stderr",
     "output_type": "stream",
     "text": [
      "[I 2023-11-05 23:37:45,624] Trial 52 finished with value: 1.436537361466356 and parameters: {'s': 5, 'fh': 1, 'regressor_type': 'linear'}. Best is trial 46 with value: 1.436537361466356.\n"
     ]
    },
    {
     "name": "stdout",
     "output_type": "stream",
     "text": [
      "=======================================\n",
      "Evaluation metrics for entire test set:\n",
      "=======================================\n",
      "t2m => RMSE: 1.9; SE: 0.010200797752953046\n",
      "sp => RMSE: 1.179; SE: 0.03702956939722691\n",
      "tcc => RMSE: 0.256; SE: 0.0004828579478474195\n",
      "u10 => RMSE: 1.44; SE: 0.005026088934293758\n",
      "v10 => RMSE: 1.216; SE: 0.004110117665590181\n",
      "tp => RMSE: 0.0; SE: 3.4696299529253065e-07\n"
     ]
    },
    {
     "name": "stderr",
     "output_type": "stream",
     "text": [
      "[I 2023-11-05 23:37:58,472] Trial 53 finished with value: 1.436537361466356 and parameters: {'s': 5, 'fh': 1, 'regressor_type': 'linear'}. Best is trial 46 with value: 1.436537361466356.\n"
     ]
    },
    {
     "name": "stdout",
     "output_type": "stream",
     "text": [
      "=======================================\n",
      "Evaluation metrics for entire test set:\n",
      "=======================================\n",
      "t2m => RMSE: 1.9; SE: 0.010200797752953046\n",
      "sp => RMSE: 1.179; SE: 0.03702956939722691\n",
      "tcc => RMSE: 0.256; SE: 0.0004828579478474195\n",
      "u10 => RMSE: 1.44; SE: 0.005026088934293758\n",
      "v10 => RMSE: 1.216; SE: 0.004110117665590181\n",
      "tp => RMSE: 0.0; SE: 3.4696299529253065e-07\n"
     ]
    },
    {
     "name": "stderr",
     "output_type": "stream",
     "text": [
      "[I 2023-11-05 23:38:11,104] Trial 54 finished with value: 1.436537361466356 and parameters: {'s': 5, 'fh': 1, 'regressor_type': 'linear'}. Best is trial 46 with value: 1.436537361466356.\n"
     ]
    },
    {
     "name": "stdout",
     "output_type": "stream",
     "text": [
      "=======================================\n",
      "Evaluation metrics for entire test set:\n",
      "=======================================\n",
      "t2m => RMSE: 1.9; SE: 0.010200797752953046\n",
      "sp => RMSE: 1.179; SE: 0.03702956939722691\n",
      "tcc => RMSE: 0.256; SE: 0.0004828579478474195\n",
      "u10 => RMSE: 1.44; SE: 0.005026088934293758\n",
      "v10 => RMSE: 1.216; SE: 0.004110117665590181\n",
      "tp => RMSE: 0.0; SE: 3.4696299529253065e-07\n"
     ]
    },
    {
     "name": "stderr",
     "output_type": "stream",
     "text": [
      "[I 2023-11-05 23:38:23,824] Trial 55 finished with value: 1.436537361466356 and parameters: {'s': 5, 'fh': 1, 'regressor_type': 'linear'}. Best is trial 46 with value: 1.436537361466356.\n"
     ]
    },
    {
     "name": "stdout",
     "output_type": "stream",
     "text": [
      "=======================================\n",
      "Evaluation metrics for entire test set:\n",
      "=======================================\n",
      "t2m => RMSE: 1.9; SE: 0.010200797752953046\n",
      "sp => RMSE: 1.179; SE: 0.03702956939722691\n",
      "tcc => RMSE: 0.256; SE: 0.0004828579478474195\n",
      "u10 => RMSE: 1.44; SE: 0.005026088934293758\n",
      "v10 => RMSE: 1.216; SE: 0.004110117665590181\n",
      "tp => RMSE: 0.0; SE: 3.4696299529253065e-07\n"
     ]
    },
    {
     "name": "stderr",
     "output_type": "stream",
     "text": [
      "[I 2023-11-05 23:38:36,717] Trial 56 finished with value: 1.436537361466356 and parameters: {'s': 5, 'fh': 1, 'regressor_type': 'linear'}. Best is trial 46 with value: 1.436537361466356.\n"
     ]
    },
    {
     "name": "stdout",
     "output_type": "stream",
     "text": [
      "=======================================\n",
      "Evaluation metrics for entire test set:\n",
      "=======================================\n",
      "t2m => RMSE: 1.9; SE: 0.010200797752953046\n",
      "sp => RMSE: 1.179; SE: 0.03702956939722691\n",
      "tcc => RMSE: 0.256; SE: 0.0004828579478474195\n",
      "u10 => RMSE: 1.44; SE: 0.005026088934293758\n",
      "v10 => RMSE: 1.216; SE: 0.004110117665590181\n",
      "tp => RMSE: 0.0; SE: 3.4696299529253065e-07\n"
     ]
    },
    {
     "name": "stderr",
     "output_type": "stream",
     "text": [
      "[I 2023-11-05 23:38:49,264] Trial 57 finished with value: 1.436537361466356 and parameters: {'s': 5, 'fh': 1, 'regressor_type': 'linear'}. Best is trial 46 with value: 1.436537361466356.\n"
     ]
    },
    {
     "name": "stdout",
     "output_type": "stream",
     "text": [
      "=======================================\n",
      "Evaluation metrics for entire test set:\n",
      "=======================================\n",
      "t2m => RMSE: 1.9; SE: 0.010200797752953046\n",
      "sp => RMSE: 1.179; SE: 0.03702956939722691\n",
      "tcc => RMSE: 0.256; SE: 0.0004828579478474195\n",
      "u10 => RMSE: 1.44; SE: 0.005026088934293758\n",
      "v10 => RMSE: 1.216; SE: 0.004110117665590181\n",
      "tp => RMSE: 0.0; SE: 3.4696299529253065e-07\n"
     ]
    },
    {
     "name": "stderr",
     "output_type": "stream",
     "text": [
      "[I 2023-11-05 23:39:01,900] Trial 58 finished with value: 1.436537361466356 and parameters: {'s': 5, 'fh': 1, 'regressor_type': 'linear'}. Best is trial 46 with value: 1.436537361466356.\n"
     ]
    },
    {
     "name": "stdout",
     "output_type": "stream",
     "text": [
      "=======================================\n",
      "Evaluation metrics for entire test set:\n",
      "=======================================\n",
      "t2m => RMSE: 1.9; SE: 0.010200797752953046\n",
      "sp => RMSE: 1.179; SE: 0.03702956939722691\n",
      "tcc => RMSE: 0.256; SE: 0.0004828579478474195\n",
      "u10 => RMSE: 1.44; SE: 0.005026088934293758\n",
      "v10 => RMSE: 1.216; SE: 0.004110117665590181\n",
      "tp => RMSE: 0.0; SE: 3.4696299529253065e-07\n"
     ]
    },
    {
     "name": "stderr",
     "output_type": "stream",
     "text": [
      "[I 2023-11-05 23:39:14,598] Trial 59 finished with value: 1.436537361466356 and parameters: {'s': 5, 'fh': 1, 'regressor_type': 'linear'}. Best is trial 46 with value: 1.436537361466356.\n"
     ]
    },
    {
     "name": "stdout",
     "output_type": "stream",
     "text": [
      "=======================================\n",
      "Evaluation metrics for entire test set:\n",
      "=======================================\n",
      "t2m => RMSE: 1.9; SE: 0.010200797752953046\n",
      "sp => RMSE: 1.179; SE: 0.03702956939722691\n",
      "tcc => RMSE: 0.256; SE: 0.0004828579478474195\n",
      "u10 => RMSE: 1.44; SE: 0.005026088934293758\n",
      "v10 => RMSE: 1.216; SE: 0.004110117665590181\n",
      "tp => RMSE: 0.0; SE: 3.4696299529253065e-07\n"
     ]
    },
    {
     "name": "stderr",
     "output_type": "stream",
     "text": [
      "[I 2023-11-05 23:39:27,328] Trial 60 finished with value: 1.436537361466356 and parameters: {'s': 5, 'fh': 1, 'regressor_type': 'linear'}. Best is trial 46 with value: 1.436537361466356.\n"
     ]
    },
    {
     "name": "stdout",
     "output_type": "stream",
     "text": [
      "=======================================\n",
      "Evaluation metrics for entire test set:\n",
      "=======================================\n",
      "t2m => RMSE: 1.9; SE: 0.010200797752953046\n",
      "sp => RMSE: 1.179; SE: 0.03702956939722691\n",
      "tcc => RMSE: 0.256; SE: 0.0004828579478474195\n",
      "u10 => RMSE: 1.44; SE: 0.005026088934293758\n",
      "v10 => RMSE: 1.216; SE: 0.004110117665590181\n",
      "tp => RMSE: 0.0; SE: 3.4696299529253065e-07\n"
     ]
    },
    {
     "name": "stderr",
     "output_type": "stream",
     "text": [
      "[I 2023-11-05 23:39:39,846] Trial 61 finished with value: 1.436537361466356 and parameters: {'s': 5, 'fh': 1, 'regressor_type': 'linear'}. Best is trial 46 with value: 1.436537361466356.\n"
     ]
    },
    {
     "name": "stdout",
     "output_type": "stream",
     "text": [
      "=======================================\n",
      "Evaluation metrics for entire test set:\n",
      "=======================================\n",
      "t2m => RMSE: 1.9; SE: 0.010200797752953046\n",
      "sp => RMSE: 1.179; SE: 0.03702956939722691\n",
      "tcc => RMSE: 0.256; SE: 0.0004828579478474195\n",
      "u10 => RMSE: 1.44; SE: 0.005026088934293758\n",
      "v10 => RMSE: 1.216; SE: 0.004110117665590181\n",
      "tp => RMSE: 0.0; SE: 3.4696299529253065e-07\n"
     ]
    },
    {
     "name": "stderr",
     "output_type": "stream",
     "text": [
      "[I 2023-11-05 23:39:52,511] Trial 62 finished with value: 1.436537361466356 and parameters: {'s': 5, 'fh': 1, 'regressor_type': 'linear'}. Best is trial 46 with value: 1.436537361466356.\n"
     ]
    },
    {
     "name": "stdout",
     "output_type": "stream",
     "text": [
      "=======================================\n",
      "Evaluation metrics for entire test set:\n",
      "=======================================\n",
      "t2m => RMSE: 1.9; SE: 0.010200797752953046\n",
      "sp => RMSE: 1.179; SE: 0.03702956939722691\n",
      "tcc => RMSE: 0.256; SE: 0.0004828579478474195\n",
      "u10 => RMSE: 1.44; SE: 0.005026088934293758\n",
      "v10 => RMSE: 1.216; SE: 0.004110117665590181\n",
      "tp => RMSE: 0.0; SE: 3.4696299529253065e-07\n"
     ]
    },
    {
     "name": "stderr",
     "output_type": "stream",
     "text": [
      "[I 2023-11-05 23:40:05,167] Trial 63 finished with value: 1.436537361466356 and parameters: {'s': 5, 'fh': 1, 'regressor_type': 'linear'}. Best is trial 46 with value: 1.436537361466356.\n"
     ]
    },
    {
     "name": "stdout",
     "output_type": "stream",
     "text": [
      "=======================================\n",
      "Evaluation metrics for entire test set:\n",
      "=======================================\n",
      "t2m => RMSE: 1.9; SE: 0.010200797752953046\n",
      "sp => RMSE: 1.179; SE: 0.03702956939722691\n",
      "tcc => RMSE: 0.256; SE: 0.0004828579478474195\n",
      "u10 => RMSE: 1.44; SE: 0.005026088934293758\n",
      "v10 => RMSE: 1.216; SE: 0.004110117665590181\n",
      "tp => RMSE: 0.0; SE: 3.4696299529253065e-07\n"
     ]
    },
    {
     "name": "stderr",
     "output_type": "stream",
     "text": [
      "[I 2023-11-05 23:40:17,743] Trial 64 finished with value: 1.436537361466356 and parameters: {'s': 5, 'fh': 1, 'regressor_type': 'linear'}. Best is trial 46 with value: 1.436537361466356.\n"
     ]
    },
    {
     "name": "stdout",
     "output_type": "stream",
     "text": [
      "=======================================\n",
      "Evaluation metrics for entire test set:\n",
      "=======================================\n",
      "t2m => RMSE: 1.9; SE: 0.010200797752953046\n",
      "sp => RMSE: 1.179; SE: 0.03702956939722691\n",
      "tcc => RMSE: 0.256; SE: 0.0004828579478474195\n",
      "u10 => RMSE: 1.44; SE: 0.005026088934293758\n",
      "v10 => RMSE: 1.216; SE: 0.004110117665590181\n",
      "tp => RMSE: 0.0; SE: 3.4696299529253065e-07\n"
     ]
    },
    {
     "name": "stderr",
     "output_type": "stream",
     "text": [
      "[I 2023-11-05 23:40:30,525] Trial 65 finished with value: 1.436537361466356 and parameters: {'s': 5, 'fh': 1, 'regressor_type': 'linear'}. Best is trial 46 with value: 1.436537361466356.\n"
     ]
    },
    {
     "name": "stdout",
     "output_type": "stream",
     "text": [
      "=======================================\n",
      "Evaluation metrics for entire test set:\n",
      "=======================================\n",
      "t2m => RMSE: 1.9; SE: 0.010200797752953046\n",
      "sp => RMSE: 1.179; SE: 0.03702956939722691\n",
      "tcc => RMSE: 0.256; SE: 0.0004828579478474195\n",
      "u10 => RMSE: 1.44; SE: 0.005026088934293758\n",
      "v10 => RMSE: 1.216; SE: 0.004110117665590181\n",
      "tp => RMSE: 0.0; SE: 3.4696299529253065e-07\n"
     ]
    },
    {
     "name": "stderr",
     "output_type": "stream",
     "text": [
      "[I 2023-11-05 23:40:42,923] Trial 66 finished with value: 1.436537361466356 and parameters: {'s': 5, 'fh': 1, 'regressor_type': 'linear'}. Best is trial 46 with value: 1.436537361466356.\n"
     ]
    },
    {
     "name": "stdout",
     "output_type": "stream",
     "text": [
      "=======================================\n",
      "Evaluation metrics for entire test set:\n",
      "=======================================\n",
      "t2m => RMSE: 1.9; SE: 0.010200797752953046\n",
      "sp => RMSE: 1.179; SE: 0.03702956939722691\n",
      "tcc => RMSE: 0.256; SE: 0.0004828579478474195\n",
      "u10 => RMSE: 1.44; SE: 0.005026088934293758\n",
      "v10 => RMSE: 1.216; SE: 0.004110117665590181\n",
      "tp => RMSE: 0.0; SE: 3.4696299529253065e-07\n"
     ]
    },
    {
     "name": "stderr",
     "output_type": "stream",
     "text": [
      "[I 2023-11-05 23:40:55,690] Trial 67 finished with value: 1.436537361466356 and parameters: {'s': 5, 'fh': 1, 'regressor_type': 'linear'}. Best is trial 46 with value: 1.436537361466356.\n"
     ]
    },
    {
     "name": "stdout",
     "output_type": "stream",
     "text": [
      "=======================================\n",
      "Evaluation metrics for entire test set:\n",
      "=======================================\n",
      "t2m => RMSE: 1.9; SE: 0.010200797752953046\n",
      "sp => RMSE: 1.179; SE: 0.03702956939722691\n",
      "tcc => RMSE: 0.256; SE: 0.0004828579478474195\n",
      "u10 => RMSE: 1.44; SE: 0.005026088934293758\n",
      "v10 => RMSE: 1.216; SE: 0.004110117665590181\n",
      "tp => RMSE: 0.0; SE: 3.4696299529253065e-07\n"
     ]
    },
    {
     "name": "stderr",
     "output_type": "stream",
     "text": [
      "[I 2023-11-05 23:41:08,378] Trial 68 finished with value: 1.436537361466356 and parameters: {'s': 5, 'fh': 1, 'regressor_type': 'linear'}. Best is trial 46 with value: 1.436537361466356.\n"
     ]
    },
    {
     "name": "stdout",
     "output_type": "stream",
     "text": [
      "=======================================\n",
      "Evaluation metrics for entire test set:\n",
      "=======================================\n",
      "t2m => RMSE: 1.9; SE: 0.010200797752953046\n",
      "sp => RMSE: 1.179; SE: 0.03702956939722691\n",
      "tcc => RMSE: 0.256; SE: 0.0004828579478474195\n",
      "u10 => RMSE: 1.44; SE: 0.005026088934293758\n",
      "v10 => RMSE: 1.216; SE: 0.004110117665590181\n",
      "tp => RMSE: 0.0; SE: 3.4696299529253065e-07\n"
     ]
    },
    {
     "name": "stderr",
     "output_type": "stream",
     "text": [
      "[I 2023-11-05 23:41:21,292] Trial 69 finished with value: 1.436537361466356 and parameters: {'s': 5, 'fh': 1, 'regressor_type': 'linear'}. Best is trial 46 with value: 1.436537361466356.\n"
     ]
    },
    {
     "name": "stdout",
     "output_type": "stream",
     "text": [
      "=======================================\n",
      "Evaluation metrics for entire test set:\n",
      "=======================================\n",
      "t2m => RMSE: 1.9; SE: 0.010200797752953046\n",
      "sp => RMSE: 1.179; SE: 0.03702956939722691\n",
      "tcc => RMSE: 0.256; SE: 0.0004828579478474195\n",
      "u10 => RMSE: 1.44; SE: 0.005026088934293758\n",
      "v10 => RMSE: 1.216; SE: 0.004110117665590181\n",
      "tp => RMSE: 0.0; SE: 3.4696299529253065e-07\n"
     ]
    },
    {
     "name": "stderr",
     "output_type": "stream",
     "text": [
      "[I 2023-11-05 23:41:33,634] Trial 70 finished with value: 1.436537361466356 and parameters: {'s': 5, 'fh': 1, 'regressor_type': 'linear'}. Best is trial 46 with value: 1.436537361466356.\n"
     ]
    },
    {
     "name": "stdout",
     "output_type": "stream",
     "text": [
      "=======================================\n",
      "Evaluation metrics for entire test set:\n",
      "=======================================\n",
      "t2m => RMSE: 1.9; SE: 0.010200797752953046\n",
      "sp => RMSE: 1.179; SE: 0.03702956939722691\n",
      "tcc => RMSE: 0.256; SE: 0.0004828579478474195\n",
      "u10 => RMSE: 1.44; SE: 0.005026088934293758\n",
      "v10 => RMSE: 1.216; SE: 0.004110117665590181\n",
      "tp => RMSE: 0.0; SE: 3.4696299529253065e-07\n"
     ]
    },
    {
     "name": "stderr",
     "output_type": "stream",
     "text": [
      "[I 2023-11-05 23:41:46,557] Trial 71 finished with value: 1.436537361466356 and parameters: {'s': 5, 'fh': 1, 'regressor_type': 'linear'}. Best is trial 46 with value: 1.436537361466356.\n"
     ]
    },
    {
     "name": "stdout",
     "output_type": "stream",
     "text": [
      "=======================================\n",
      "Evaluation metrics for entire test set:\n",
      "=======================================\n",
      "t2m => RMSE: 1.9; SE: 0.010200797752953046\n",
      "sp => RMSE: 1.179; SE: 0.03702956939722691\n",
      "tcc => RMSE: 0.256; SE: 0.0004828579478474195\n",
      "u10 => RMSE: 1.44; SE: 0.005026088934293758\n",
      "v10 => RMSE: 1.216; SE: 0.004110117665590181\n",
      "tp => RMSE: 0.0; SE: 3.4696299529253065e-07\n"
     ]
    },
    {
     "name": "stderr",
     "output_type": "stream",
     "text": [
      "[I 2023-11-05 23:41:59,229] Trial 72 finished with value: 1.436537361466356 and parameters: {'s': 5, 'fh': 1, 'regressor_type': 'linear'}. Best is trial 46 with value: 1.436537361466356.\n"
     ]
    },
    {
     "name": "stdout",
     "output_type": "stream",
     "text": [
      "=======================================\n",
      "Evaluation metrics for entire test set:\n",
      "=======================================\n",
      "t2m => RMSE: 1.9; SE: 0.010200797752953046\n",
      "sp => RMSE: 1.179; SE: 0.03702956939722691\n",
      "tcc => RMSE: 0.256; SE: 0.0004828579478474195\n",
      "u10 => RMSE: 1.44; SE: 0.005026088934293758\n",
      "v10 => RMSE: 1.216; SE: 0.004110117665590181\n",
      "tp => RMSE: 0.0; SE: 3.4696299529253065e-07\n"
     ]
    },
    {
     "name": "stderr",
     "output_type": "stream",
     "text": [
      "[I 2023-11-05 23:42:11,879] Trial 73 finished with value: 1.436537361466356 and parameters: {'s': 5, 'fh': 1, 'regressor_type': 'linear'}. Best is trial 46 with value: 1.436537361466356.\n"
     ]
    },
    {
     "name": "stdout",
     "output_type": "stream",
     "text": [
      "=======================================\n",
      "Evaluation metrics for entire test set:\n",
      "=======================================\n",
      "t2m => RMSE: 1.9; SE: 0.010200797752953046\n",
      "sp => RMSE: 1.179; SE: 0.03702956939722691\n",
      "tcc => RMSE: 0.256; SE: 0.0004828579478474195\n",
      "u10 => RMSE: 1.44; SE: 0.005026088934293758\n",
      "v10 => RMSE: 1.216; SE: 0.004110117665590181\n",
      "tp => RMSE: 0.0; SE: 3.4696299529253065e-07\n"
     ]
    },
    {
     "name": "stderr",
     "output_type": "stream",
     "text": [
      "[I 2023-11-05 23:42:24,603] Trial 74 finished with value: 1.436537361466356 and parameters: {'s': 5, 'fh': 1, 'regressor_type': 'linear'}. Best is trial 46 with value: 1.436537361466356.\n"
     ]
    },
    {
     "name": "stdout",
     "output_type": "stream",
     "text": [
      "=======================================\n",
      "Evaluation metrics for entire test set:\n",
      "=======================================\n",
      "t2m => RMSE: 1.9; SE: 0.010200797752953046\n",
      "sp => RMSE: 1.179; SE: 0.03702956939722691\n",
      "tcc => RMSE: 0.256; SE: 0.0004828579478474195\n",
      "u10 => RMSE: 1.44; SE: 0.005026088934293758\n",
      "v10 => RMSE: 1.216; SE: 0.004110117665590181\n",
      "tp => RMSE: 0.0; SE: 3.4696299529253065e-07\n"
     ]
    },
    {
     "name": "stderr",
     "output_type": "stream",
     "text": [
      "[I 2023-11-05 23:42:52,737] Trial 75 finished with value: 1.7171371915411775 and parameters: {'s': 5, 'fh': 1, 'regressor_type': 'elastic_net'}. Best is trial 46 with value: 1.436537361466356.\n"
     ]
    },
    {
     "name": "stdout",
     "output_type": "stream",
     "text": [
      "=======================================\n",
      "Evaluation metrics for entire test set:\n",
      "=======================================\n",
      "t2m => RMSE: 1.963; SE: 0.010200797752953046\n",
      "sp => RMSE: 1.483; SE: 0.03702956939722691\n",
      "tcc => RMSE: 0.357; SE: 0.0004828579478474195\n",
      "u10 => RMSE: 1.506; SE: 0.005026088934293758\n",
      "v10 => RMSE: 1.361; SE: 0.004110117665590181\n",
      "tp => RMSE: 0.0; SE: 3.4696299529253065e-07\n"
     ]
    },
    {
     "name": "stderr",
     "output_type": "stream",
     "text": [
      "[I 2023-11-05 23:43:06,312] Trial 76 finished with value: 1.436537361466356 and parameters: {'s': 5, 'fh': 1, 'regressor_type': 'linear'}. Best is trial 46 with value: 1.436537361466356.\n"
     ]
    },
    {
     "name": "stdout",
     "output_type": "stream",
     "text": [
      "=======================================\n",
      "Evaluation metrics for entire test set:\n",
      "=======================================\n",
      "t2m => RMSE: 1.9; SE: 0.010200797752953046\n",
      "sp => RMSE: 1.179; SE: 0.03702956939722691\n",
      "tcc => RMSE: 0.256; SE: 0.0004828579478474195\n",
      "u10 => RMSE: 1.44; SE: 0.005026088934293758\n",
      "v10 => RMSE: 1.216; SE: 0.004110117665590181\n",
      "tp => RMSE: 0.0; SE: 3.4696299529253065e-07\n"
     ]
    },
    {
     "name": "stderr",
     "output_type": "stream",
     "text": [
      "[I 2023-11-05 23:43:18,938] Trial 77 finished with value: 1.436537361466356 and parameters: {'s': 5, 'fh': 1, 'regressor_type': 'linear'}. Best is trial 46 with value: 1.436537361466356.\n"
     ]
    },
    {
     "name": "stdout",
     "output_type": "stream",
     "text": [
      "=======================================\n",
      "Evaluation metrics for entire test set:\n",
      "=======================================\n",
      "t2m => RMSE: 1.9; SE: 0.010200797752953046\n",
      "sp => RMSE: 1.179; SE: 0.03702956939722691\n",
      "tcc => RMSE: 0.256; SE: 0.0004828579478474195\n",
      "u10 => RMSE: 1.44; SE: 0.005026088934293758\n",
      "v10 => RMSE: 1.216; SE: 0.004110117665590181\n",
      "tp => RMSE: 0.0; SE: 3.4696299529253065e-07\n"
     ]
    },
    {
     "name": "stderr",
     "output_type": "stream",
     "text": [
      "[I 2023-11-05 23:43:32,368] Trial 78 finished with value: 2.3787906970844297 and parameters: {'s': 5, 'fh': 2, 'regressor_type': 'linear'}. Best is trial 46 with value: 1.436537361466356.\n"
     ]
    },
    {
     "name": "stdout",
     "output_type": "stream",
     "text": [
      "=======================================\n",
      "Evaluation metrics for entire test set:\n",
      "=======================================\n",
      "t2m => RMSE: 2.174; SE: 0.00722035292861406\n",
      "sp => RMSE: 1.984; SE: 0.026186777730342913\n",
      "tcc => RMSE: 0.275; SE: 0.00034068190903559453\n",
      "u10 => RMSE: 1.81; SE: 0.003557221413840321\n",
      "v10 => RMSE: 1.503; SE: 0.002911139152650286\n",
      "tp => RMSE: 0.0; SE: 2.454296631825405e-07\n"
     ]
    },
    {
     "name": "stderr",
     "output_type": "stream",
     "text": [
      "[I 2023-11-05 23:43:47,768] Trial 79 finished with value: 1.9823304567477646 and parameters: {'s': 4, 'fh': 1, 'regressor_type': 'lasso'}. Best is trial 46 with value: 1.436537361466356.\n"
     ]
    },
    {
     "name": "stdout",
     "output_type": "stream",
     "text": [
      "=======================================\n",
      "Evaluation metrics for entire test set:\n",
      "=======================================\n",
      "t2m => RMSE: 2.26; SE: 0.010200797752953046\n",
      "sp => RMSE: 1.565; SE: 0.03702956939722691\n",
      "tcc => RMSE: 0.355; SE: 0.0004828579478474195\n",
      "u10 => RMSE: 1.483; SE: 0.005026088934293758\n",
      "v10 => RMSE: 1.419; SE: 0.004110117665590181\n",
      "tp => RMSE: 0.0; SE: 3.4696299529253065e-07\n"
     ]
    },
    {
     "name": "stderr",
     "output_type": "stream",
     "text": [
      "[I 2023-11-05 23:44:00,962] Trial 80 finished with value: 1.436537361466356 and parameters: {'s': 5, 'fh': 1, 'regressor_type': 'linear'}. Best is trial 46 with value: 1.436537361466356.\n"
     ]
    },
    {
     "name": "stdout",
     "output_type": "stream",
     "text": [
      "=======================================\n",
      "Evaluation metrics for entire test set:\n",
      "=======================================\n",
      "t2m => RMSE: 1.9; SE: 0.010200797752953046\n",
      "sp => RMSE: 1.179; SE: 0.03702956939722691\n",
      "tcc => RMSE: 0.256; SE: 0.0004828579478474195\n",
      "u10 => RMSE: 1.44; SE: 0.005026088934293758\n",
      "v10 => RMSE: 1.216; SE: 0.004110117665590181\n",
      "tp => RMSE: 0.0; SE: 3.4696299529253065e-07\n"
     ]
    },
    {
     "name": "stderr",
     "output_type": "stream",
     "text": [
      "[I 2023-11-05 23:44:13,806] Trial 81 finished with value: 1.436537361466356 and parameters: {'s': 5, 'fh': 1, 'regressor_type': 'linear'}. Best is trial 46 with value: 1.436537361466356.\n"
     ]
    },
    {
     "name": "stdout",
     "output_type": "stream",
     "text": [
      "=======================================\n",
      "Evaluation metrics for entire test set:\n",
      "=======================================\n",
      "t2m => RMSE: 1.9; SE: 0.010200797752953046\n",
      "sp => RMSE: 1.179; SE: 0.03702956939722691\n",
      "tcc => RMSE: 0.256; SE: 0.0004828579478474195\n",
      "u10 => RMSE: 1.44; SE: 0.005026088934293758\n",
      "v10 => RMSE: 1.216; SE: 0.004110117665590181\n",
      "tp => RMSE: 0.0; SE: 3.4696299529253065e-07\n"
     ]
    },
    {
     "name": "stderr",
     "output_type": "stream",
     "text": [
      "[I 2023-11-05 23:44:26,536] Trial 82 finished with value: 1.436537361466356 and parameters: {'s': 5, 'fh': 1, 'regressor_type': 'linear'}. Best is trial 46 with value: 1.436537361466356.\n"
     ]
    },
    {
     "name": "stdout",
     "output_type": "stream",
     "text": [
      "=======================================\n",
      "Evaluation metrics for entire test set:\n",
      "=======================================\n",
      "t2m => RMSE: 1.9; SE: 0.010200797752953046\n",
      "sp => RMSE: 1.179; SE: 0.03702956939722691\n",
      "tcc => RMSE: 0.256; SE: 0.0004828579478474195\n",
      "u10 => RMSE: 1.44; SE: 0.005026088934293758\n",
      "v10 => RMSE: 1.216; SE: 0.004110117665590181\n",
      "tp => RMSE: 0.0; SE: 3.4696299529253065e-07\n"
     ]
    },
    {
     "name": "stderr",
     "output_type": "stream",
     "text": [
      "[I 2023-11-05 23:44:39,321] Trial 83 finished with value: 1.436537361466356 and parameters: {'s': 5, 'fh': 1, 'regressor_type': 'linear'}. Best is trial 46 with value: 1.436537361466356.\n"
     ]
    },
    {
     "name": "stdout",
     "output_type": "stream",
     "text": [
      "=======================================\n",
      "Evaluation metrics for entire test set:\n",
      "=======================================\n",
      "t2m => RMSE: 1.9; SE: 0.010200797752953046\n",
      "sp => RMSE: 1.179; SE: 0.03702956939722691\n",
      "tcc => RMSE: 0.256; SE: 0.0004828579478474195\n",
      "u10 => RMSE: 1.44; SE: 0.005026088934293758\n",
      "v10 => RMSE: 1.216; SE: 0.004110117665590181\n",
      "tp => RMSE: 0.0; SE: 3.4696299529253065e-07\n"
     ]
    },
    {
     "name": "stderr",
     "output_type": "stream",
     "text": [
      "[I 2023-11-05 23:44:51,977] Trial 84 finished with value: 1.436537361466356 and parameters: {'s': 5, 'fh': 1, 'regressor_type': 'linear'}. Best is trial 46 with value: 1.436537361466356.\n"
     ]
    },
    {
     "name": "stdout",
     "output_type": "stream",
     "text": [
      "=======================================\n",
      "Evaluation metrics for entire test set:\n",
      "=======================================\n",
      "t2m => RMSE: 1.9; SE: 0.010200797752953046\n",
      "sp => RMSE: 1.179; SE: 0.03702956939722691\n",
      "tcc => RMSE: 0.256; SE: 0.0004828579478474195\n",
      "u10 => RMSE: 1.44; SE: 0.005026088934293758\n",
      "v10 => RMSE: 1.216; SE: 0.004110117665590181\n",
      "tp => RMSE: 0.0; SE: 3.4696299529253065e-07\n"
     ]
    },
    {
     "name": "stderr",
     "output_type": "stream",
     "text": [
      "[I 2023-11-05 23:45:04,885] Trial 85 finished with value: 1.436537361466356 and parameters: {'s': 5, 'fh': 1, 'regressor_type': 'linear'}. Best is trial 46 with value: 1.436537361466356.\n"
     ]
    },
    {
     "name": "stdout",
     "output_type": "stream",
     "text": [
      "=======================================\n",
      "Evaluation metrics for entire test set:\n",
      "=======================================\n",
      "t2m => RMSE: 1.9; SE: 0.010200797752953046\n",
      "sp => RMSE: 1.179; SE: 0.03702956939722691\n",
      "tcc => RMSE: 0.256; SE: 0.0004828579478474195\n",
      "u10 => RMSE: 1.44; SE: 0.005026088934293758\n",
      "v10 => RMSE: 1.216; SE: 0.004110117665590181\n",
      "tp => RMSE: 0.0; SE: 3.4696299529253065e-07\n"
     ]
    },
    {
     "name": "stderr",
     "output_type": "stream",
     "text": [
      "[I 2023-11-05 23:45:33,956] Trial 86 finished with value: 1.7171371915411775 and parameters: {'s': 5, 'fh': 1, 'regressor_type': 'elastic_net'}. Best is trial 46 with value: 1.436537361466356.\n"
     ]
    },
    {
     "name": "stdout",
     "output_type": "stream",
     "text": [
      "=======================================\n",
      "Evaluation metrics for entire test set:\n",
      "=======================================\n",
      "t2m => RMSE: 1.963; SE: 0.010200797752953046\n",
      "sp => RMSE: 1.483; SE: 0.03702956939722691\n",
      "tcc => RMSE: 0.357; SE: 0.0004828579478474195\n",
      "u10 => RMSE: 1.506; SE: 0.005026088934293758\n",
      "v10 => RMSE: 1.361; SE: 0.004110117665590181\n",
      "tp => RMSE: 0.0; SE: 3.4696299529253065e-07\n"
     ]
    },
    {
     "name": "stderr",
     "output_type": "stream",
     "text": [
      "[I 2023-11-05 23:45:46,847] Trial 87 finished with value: 1.436537361466356 and parameters: {'s': 5, 'fh': 1, 'regressor_type': 'linear'}. Best is trial 46 with value: 1.436537361466356.\n"
     ]
    },
    {
     "name": "stdout",
     "output_type": "stream",
     "text": [
      "=======================================\n",
      "Evaluation metrics for entire test set:\n",
      "=======================================\n",
      "t2m => RMSE: 1.9; SE: 0.010200797752953046\n",
      "sp => RMSE: 1.179; SE: 0.03702956939722691\n",
      "tcc => RMSE: 0.256; SE: 0.0004828579478474195\n",
      "u10 => RMSE: 1.44; SE: 0.005026088934293758\n",
      "v10 => RMSE: 1.216; SE: 0.004110117665590181\n",
      "tp => RMSE: 0.0; SE: 3.4696299529253065e-07\n"
     ]
    },
    {
     "name": "stderr",
     "output_type": "stream",
     "text": [
      "[I 2023-11-05 23:45:59,712] Trial 88 finished with value: 1.436537361466356 and parameters: {'s': 5, 'fh': 1, 'regressor_type': 'linear'}. Best is trial 46 with value: 1.436537361466356.\n"
     ]
    },
    {
     "name": "stdout",
     "output_type": "stream",
     "text": [
      "=======================================\n",
      "Evaluation metrics for entire test set:\n",
      "=======================================\n",
      "t2m => RMSE: 1.9; SE: 0.010200797752953046\n",
      "sp => RMSE: 1.179; SE: 0.03702956939722691\n",
      "tcc => RMSE: 0.256; SE: 0.0004828579478474195\n",
      "u10 => RMSE: 1.44; SE: 0.005026088934293758\n",
      "v10 => RMSE: 1.216; SE: 0.004110117665590181\n",
      "tp => RMSE: 0.0; SE: 3.4696299529253065e-07\n"
     ]
    },
    {
     "name": "stderr",
     "output_type": "stream",
     "text": [
      "[I 2023-11-05 23:46:12,369] Trial 89 finished with value: 1.436537361466356 and parameters: {'s': 5, 'fh': 1, 'regressor_type': 'linear'}. Best is trial 46 with value: 1.436537361466356.\n"
     ]
    },
    {
     "name": "stdout",
     "output_type": "stream",
     "text": [
      "=======================================\n",
      "Evaluation metrics for entire test set:\n",
      "=======================================\n",
      "t2m => RMSE: 1.9; SE: 0.010200797752953046\n",
      "sp => RMSE: 1.179; SE: 0.03702956939722691\n",
      "tcc => RMSE: 0.256; SE: 0.0004828579478474195\n",
      "u10 => RMSE: 1.44; SE: 0.005026088934293758\n",
      "v10 => RMSE: 1.216; SE: 0.004110117665590181\n",
      "tp => RMSE: 0.0; SE: 3.4696299529253065e-07\n"
     ]
    },
    {
     "name": "stderr",
     "output_type": "stream",
     "text": [
      "[I 2023-11-05 23:46:31,390] Trial 90 finished with value: 1.8219843858646139 and parameters: {'s': 5, 'fh': 1, 'regressor_type': 'lasso'}. Best is trial 46 with value: 1.436537361466356.\n"
     ]
    },
    {
     "name": "stdout",
     "output_type": "stream",
     "text": [
      "=======================================\n",
      "Evaluation metrics for entire test set:\n",
      "=======================================\n",
      "t2m => RMSE: 2.037; SE: 0.010200797752953046\n",
      "sp => RMSE: 1.564; SE: 0.03702956939722691\n",
      "tcc => RMSE: 0.355; SE: 0.0004828579478474195\n",
      "u10 => RMSE: 1.481; SE: 0.005026088934293758\n",
      "v10 => RMSE: 1.42; SE: 0.004110117665590181\n",
      "tp => RMSE: 0.0; SE: 3.4696299529253065e-07\n"
     ]
    },
    {
     "name": "stderr",
     "output_type": "stream",
     "text": [
      "[I 2023-11-05 23:46:44,069] Trial 91 finished with value: 1.436537361466356 and parameters: {'s': 5, 'fh': 1, 'regressor_type': 'linear'}. Best is trial 46 with value: 1.436537361466356.\n"
     ]
    },
    {
     "name": "stdout",
     "output_type": "stream",
     "text": [
      "=======================================\n",
      "Evaluation metrics for entire test set:\n",
      "=======================================\n",
      "t2m => RMSE: 1.9; SE: 0.010200797752953046\n",
      "sp => RMSE: 1.179; SE: 0.03702956939722691\n",
      "tcc => RMSE: 0.256; SE: 0.0004828579478474195\n",
      "u10 => RMSE: 1.44; SE: 0.005026088934293758\n",
      "v10 => RMSE: 1.216; SE: 0.004110117665590181\n",
      "tp => RMSE: 0.0; SE: 3.4696299529253065e-07\n"
     ]
    },
    {
     "name": "stderr",
     "output_type": "stream",
     "text": [
      "[I 2023-11-05 23:46:57,064] Trial 92 finished with value: 1.436537361466356 and parameters: {'s': 5, 'fh': 1, 'regressor_type': 'linear'}. Best is trial 46 with value: 1.436537361466356.\n"
     ]
    },
    {
     "name": "stdout",
     "output_type": "stream",
     "text": [
      "=======================================\n",
      "Evaluation metrics for entire test set:\n",
      "=======================================\n",
      "t2m => RMSE: 1.9; SE: 0.010200797752953046\n",
      "sp => RMSE: 1.179; SE: 0.03702956939722691\n",
      "tcc => RMSE: 0.256; SE: 0.0004828579478474195\n",
      "u10 => RMSE: 1.44; SE: 0.005026088934293758\n",
      "v10 => RMSE: 1.216; SE: 0.004110117665590181\n",
      "tp => RMSE: 0.0; SE: 3.4696299529253065e-07\n"
     ]
    },
    {
     "name": "stderr",
     "output_type": "stream",
     "text": [
      "[I 2023-11-05 23:47:09,707] Trial 93 finished with value: 1.436537361466356 and parameters: {'s': 5, 'fh': 1, 'regressor_type': 'linear'}. Best is trial 46 with value: 1.436537361466356.\n"
     ]
    },
    {
     "name": "stdout",
     "output_type": "stream",
     "text": [
      "=======================================\n",
      "Evaluation metrics for entire test set:\n",
      "=======================================\n",
      "t2m => RMSE: 1.9; SE: 0.010200797752953046\n",
      "sp => RMSE: 1.179; SE: 0.03702956939722691\n",
      "tcc => RMSE: 0.256; SE: 0.0004828579478474195\n",
      "u10 => RMSE: 1.44; SE: 0.005026088934293758\n",
      "v10 => RMSE: 1.216; SE: 0.004110117665590181\n",
      "tp => RMSE: 0.0; SE: 3.4696299529253065e-07\n"
     ]
    },
    {
     "name": "stderr",
     "output_type": "stream",
     "text": [
      "[I 2023-11-05 23:47:22,551] Trial 94 finished with value: 1.436537361466356 and parameters: {'s': 5, 'fh': 1, 'regressor_type': 'linear'}. Best is trial 46 with value: 1.436537361466356.\n"
     ]
    },
    {
     "name": "stdout",
     "output_type": "stream",
     "text": [
      "=======================================\n",
      "Evaluation metrics for entire test set:\n",
      "=======================================\n",
      "t2m => RMSE: 1.9; SE: 0.010200797752953046\n",
      "sp => RMSE: 1.179; SE: 0.03702956939722691\n",
      "tcc => RMSE: 0.256; SE: 0.0004828579478474195\n",
      "u10 => RMSE: 1.44; SE: 0.005026088934293758\n",
      "v10 => RMSE: 1.216; SE: 0.004110117665590181\n",
      "tp => RMSE: 0.0; SE: 3.4696299529253065e-07\n"
     ]
    },
    {
     "name": "stderr",
     "output_type": "stream",
     "text": [
      "[I 2023-11-05 23:47:36,008] Trial 95 finished with value: 3.406374900070018 and parameters: {'s': 5, 'fh': 3, 'regressor_type': 'linear'}. Best is trial 46 with value: 1.436537361466356.\n"
     ]
    },
    {
     "name": "stdout",
     "output_type": "stream",
     "text": [
      "=======================================\n",
      "Evaluation metrics for entire test set:\n",
      "=======================================\n",
      "t2m => RMSE: 2.335; SE: 0.005905771736003721\n",
      "sp => RMSE: 2.783; SE: 0.02142538738220056\n",
      "tcc => RMSE: 0.287; SE: 0.00027777756540164547\n",
      "u10 => RMSE: 2.065; SE: 0.0029078345055463914\n",
      "v10 => RMSE: 1.702; SE: 0.0023720156785941486\n",
      "tp => RMSE: 0.0; SE: 2.008436494858926e-07\n"
     ]
    },
    {
     "name": "stderr",
     "output_type": "stream",
     "text": [
      "[I 2023-11-05 23:47:42,231] Trial 96 finished with value: 1.9817033153342356 and parameters: {'s': 3, 'fh': 1, 'regressor_type': 'linear'}. Best is trial 46 with value: 1.436537361466356.\n"
     ]
    },
    {
     "name": "stdout",
     "output_type": "stream",
     "text": [
      "=======================================\n",
      "Evaluation metrics for entire test set:\n",
      "=======================================\n",
      "t2m => RMSE: 2.626; SE: 0.010200797752953046\n",
      "sp => RMSE: 1.176; SE: 0.03702956939722691\n",
      "tcc => RMSE: 0.257; SE: 0.0004828579478474195\n",
      "u10 => RMSE: 1.432; SE: 0.005026088934293758\n",
      "v10 => RMSE: 1.221; SE: 0.004110117665590181\n",
      "tp => RMSE: 0.0; SE: 3.4696299529253065e-07\n"
     ]
    },
    {
     "name": "stderr",
     "output_type": "stream",
     "text": [
      "[I 2023-11-05 23:47:55,146] Trial 97 finished with value: 1.436537361466356 and parameters: {'s': 5, 'fh': 1, 'regressor_type': 'linear'}. Best is trial 46 with value: 1.436537361466356.\n"
     ]
    },
    {
     "name": "stdout",
     "output_type": "stream",
     "text": [
      "=======================================\n",
      "Evaluation metrics for entire test set:\n",
      "=======================================\n",
      "t2m => RMSE: 1.9; SE: 0.010200797752953046\n",
      "sp => RMSE: 1.179; SE: 0.03702956939722691\n",
      "tcc => RMSE: 0.256; SE: 0.0004828579478474195\n",
      "u10 => RMSE: 1.44; SE: 0.005026088934293758\n",
      "v10 => RMSE: 1.216; SE: 0.004110117665590181\n",
      "tp => RMSE: 0.0; SE: 3.4696299529253065e-07\n"
     ]
    },
    {
     "name": "stderr",
     "output_type": "stream",
     "text": [
      "[I 2023-11-05 23:48:07,922] Trial 98 finished with value: 1.436537361466356 and parameters: {'s': 5, 'fh': 1, 'regressor_type': 'linear'}. Best is trial 46 with value: 1.436537361466356.\n"
     ]
    },
    {
     "name": "stdout",
     "output_type": "stream",
     "text": [
      "=======================================\n",
      "Evaluation metrics for entire test set:\n",
      "=======================================\n",
      "t2m => RMSE: 1.9; SE: 0.010200797752953046\n",
      "sp => RMSE: 1.179; SE: 0.03702956939722691\n",
      "tcc => RMSE: 0.256; SE: 0.0004828579478474195\n",
      "u10 => RMSE: 1.44; SE: 0.005026088934293758\n",
      "v10 => RMSE: 1.216; SE: 0.004110117665590181\n",
      "tp => RMSE: 0.0; SE: 3.4696299529253065e-07\n"
     ]
    },
    {
     "name": "stderr",
     "output_type": "stream",
     "text": [
      "[I 2023-11-05 23:48:20,719] Trial 99 finished with value: 1.436537361466356 and parameters: {'s': 5, 'fh': 1, 'regressor_type': 'linear'}. Best is trial 46 with value: 1.436537361466356.\n"
     ]
    },
    {
     "name": "stdout",
     "output_type": "stream",
     "text": [
      "=======================================\n",
      "Evaluation metrics for entire test set:\n",
      "=======================================\n",
      "t2m => RMSE: 1.9; SE: 0.010200797752953046\n",
      "sp => RMSE: 1.179; SE: 0.03702956939722691\n",
      "tcc => RMSE: 0.256; SE: 0.0004828579478474195\n",
      "u10 => RMSE: 1.44; SE: 0.005026088934293758\n",
      "v10 => RMSE: 1.216; SE: 0.004110117665590181\n",
      "tp => RMSE: 0.0; SE: 3.4696299529253065e-07\n"
     ]
    }
   ],
   "source": [
    "n_trials = 100  # Number of trials to run\n",
    "study.optimize(objective_func, n_trials=n_trials)"
   ]
  },
  {
   "cell_type": "code",
   "execution_count": 34,
   "metadata": {},
   "outputs": [],
   "source": [
    "best_s = study.best_params['s']\n",
    "best_fh = study.best_params['fh']\n",
    "best_regressor_type = study.best_params['regressor_type']"
   ]
  },
  {
   "cell_type": "code",
   "execution_count": 35,
   "metadata": {},
   "outputs": [
    {
     "name": "stdout",
     "output_type": "stream",
     "text": [
      "Best hyperparameters - s: 5, fh: 1\n",
      "Best regressor type: linear\n"
     ]
    }
   ],
   "source": [
    "print(f\"Best hyperparameters - s: {best_s}, fh: {best_fh}\")\n",
    "print(f\"Best regressor type: {best_regressor_type}\")"
   ]
  }
 ],
 "metadata": {
  "kernelspec": {
   "display_name": "venv",
   "language": "python",
   "name": "venv"
  },
  "language_info": {
   "codemirror_mode": {
    "name": "ipython",
    "version": 3
   },
   "file_extension": ".py",
   "mimetype": "text/x-python",
   "name": "python",
   "nbconvert_exporter": "python",
   "pygments_lexer": "ipython3",
   "version": "3.11.4"
  },
  "orig_nbformat": 4
 },
 "nbformat": 4,
 "nbformat_minor": 2
}
