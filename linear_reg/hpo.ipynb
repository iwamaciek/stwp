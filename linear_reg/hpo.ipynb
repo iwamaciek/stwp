{
 "cells": [
  {
   "cell_type": "code",
   "execution_count": 1,
   "metadata": {},
   "outputs": [
    {
     "name": "stderr",
     "output_type": "stream",
     "text": [
      "/Users/piotr/Documents/inzynierka/projekt/meteoapp-data/venv/lib/python3.11/site-packages/tqdm/auto.py:21: TqdmWarning: IProgress not found. Please update jupyter and ipywidgets. See https://ipywidgets.readthedocs.io/en/stable/user_install.html\n",
      "  from .autonotebook import tqdm as notebook_tqdm\n"
     ]
    }
   ],
   "source": [
    "import xarray as xr\n",
    "import cfgrib\n",
    "import numpy as np\n",
    "import optuna\n",
    "\n",
    "from functools import partial\n",
    "from sklearn.metrics import mean_squared_error\n",
    "\n",
    "# import matplotlib.pyplot as plt\n",
    "\n",
    "from data_processor import DataProcessor\n",
    "from regressor import Regressor"
   ]
  },
  {
   "cell_type": "code",
   "execution_count": 2,
   "metadata": {},
   "outputs": [],
   "source": [
    "grib_data = cfgrib.open_datasets('../data2022.grib')\n",
    "surface = grib_data[0] \n",
    "hybrid = grib_data[1] "
   ]
  },
  {
   "cell_type": "code",
   "execution_count": 3,
   "metadata": {},
   "outputs": [],
   "source": [
    "feature_list = ['t2m', 'sp', 'tcc', 'u10', 'v10', 'tp']\n",
    "t2m = surface.t2m.to_numpy() - 273.15  # -> C\n",
    "sp = surface.sp.to_numpy() / 100       # -> hPa\n",
    "tcc = surface.tcc.to_numpy()\n",
    "u10 = surface.u10.to_numpy()\n",
    "v10 = surface.v10.to_numpy()\n",
    "tp = hybrid.tp.to_numpy().reshape((-1,) + hybrid.tp.shape[2:])\n",
    "data = np.stack((t2m, sp, tcc, u10, v10, tp), axis=-1)"
   ]
  },
  {
   "cell_type": "code",
   "execution_count": 4,
   "metadata": {},
   "outputs": [],
   "source": [
    "def objective(trial, data, feature_list):\n",
    "    #Parameters for optimization\n",
    "    s = trial.suggest_int('s', 3, 8)  \n",
    "    # fh = trial.suggest_int('fh', 1, 3) \n",
    "    fh = 1\n",
    "    alpha = trial.suggest_float('alpha', 0.1, 2.1, step=0.2)\n",
    "    # regressor_type = trial.suggest_categorical('regressor_type', ['linear', 'lasso', 'ridge', 'elastic_net'])\n",
    "    regressor_type = trial.suggest_categorical('regressor_type', ['lasso', 'ridge', 'elastic_net'])\n",
    "\n",
    "    processor = DataProcessor(data)\n",
    "    X, y = processor.preprocess(s, fh, use_neighbours=False)\n",
    "    X_train, X_test, y_train, y_test = processor.train_test_split(X, y)\n",
    "    \n",
    "    \n",
    "    linearreg = Regressor(X.shape, fh, feature_list, regressor_type=regressor_type, alpha=alpha)\n",
    "    linearreg.train_and_scale(X_train, y_train)\n",
    "    y_hat = linearreg.predict_(X_test, y_test)\n",
    "    \n",
    "    rmse_values = linearreg.get_rmse(y_hat, y_test, normalize=True)\n",
    "    mean_rmse = np.mean(rmse_values)\n",
    "\n",
    "\n",
    "    # return mean_squared_error(y_test.reshape(-1,1), y_hat.reshape(-1,1))\n",
    "    return mean_rmse"
   ]
  },
  {
   "cell_type": "code",
   "execution_count": 5,
   "metadata": {},
   "outputs": [
    {
     "name": "stderr",
     "output_type": "stream",
     "text": [
      "[I 2023-11-09 10:10:56,321] A new study created in memory with name: no-name-13eb31f6-e135-49c8-8f33-f2a747991f63\n"
     ]
    }
   ],
   "source": [
    "#create an optuna study and objective function\n",
    "study = optuna.create_study(direction='minimize')\n",
    "objective_func = partial(objective, data=data, feature_list=feature_list)"
   ]
  },
  {
   "cell_type": "code",
   "execution_count": 6,
   "metadata": {},
   "outputs": [
    {
     "name": "stderr",
     "output_type": "stream",
     "text": [
      "[I 2023-11-09 10:10:58,912] Trial 0 finished with value: 0.06549999999999999 and parameters: {'s': 4, 'alpha': 1.5000000000000002, 'regressor_type': 'ridge'}. Best is trial 0 with value: 0.06549999999999999.\n",
      "[I 2023-11-09 10:11:00,921] Trial 1 finished with value: 0.06683333333333333 and parameters: {'s': 3, 'alpha': 0.7000000000000001, 'regressor_type': 'ridge'}. Best is trial 0 with value: 0.06549999999999999.\n",
      "[I 2023-11-09 10:11:03,461] Trial 2 finished with value: 0.06549999999999999 and parameters: {'s': 4, 'alpha': 1.1, 'regressor_type': 'ridge'}. Best is trial 0 with value: 0.06549999999999999.\n",
      "[I 2023-11-09 10:11:25,402] Trial 3 finished with value: 0.08433333333333332 and parameters: {'s': 3, 'alpha': 0.7000000000000001, 'regressor_type': 'elastic_net'}. Best is trial 0 with value: 0.06549999999999999.\n",
      "[I 2023-11-09 10:11:45,788] Trial 4 finished with value: 0.08366666666666665 and parameters: {'s': 6, 'alpha': 1.3000000000000003, 'regressor_type': 'lasso'}. Best is trial 0 with value: 0.06549999999999999.\n"
     ]
    }
   ],
   "source": [
    "n_trials = 5  # Number of trials to run\n",
    "study.optimize(objective_func, n_trials=n_trials)"
   ]
  },
  {
   "cell_type": "code",
   "execution_count": 7,
   "metadata": {},
   "outputs": [],
   "source": [
    "best_s = study.best_params['s']\n",
    "# best_fh = study.best_params['fh']\n",
    "best_regressor_type = study.best_params['regressor_type']\n",
    "best_alpha = study.best_params['alpha']"
   ]
  },
  {
   "cell_type": "code",
   "execution_count": 8,
   "metadata": {},
   "outputs": [
    {
     "name": "stdout",
     "output_type": "stream",
     "text": [
      "Best hyperparameters - s: 4\n",
      "Best regressor type: ridge\n",
      "Best alpha: 1.5000000000000002\n"
     ]
    }
   ],
   "source": [
    "print(f\"Best hyperparameters - s: {best_s}\")\n",
    "print(f\"Best regressor type: {best_regressor_type}\")\n",
    "print(f\"Best alpha: {best_alpha}\")"
   ]
  }
 ],
 "metadata": {
  "kernelspec": {
   "display_name": "venv",
   "language": "python",
   "name": "venv"
  },
  "language_info": {
   "codemirror_mode": {
    "name": "ipython",
    "version": 3
   },
   "file_extension": ".py",
   "mimetype": "text/x-python",
   "name": "python",
   "nbconvert_exporter": "python",
   "pygments_lexer": "ipython3",
   "version": "3.11.4"
  }
 },
 "nbformat": 4,
 "nbformat_minor": 4
}
