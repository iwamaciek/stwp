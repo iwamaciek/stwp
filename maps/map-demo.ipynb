{
 "cells": [
  {
   "cell_type": "code",
   "execution_count": 1,
   "id": "fbec5439-89ca-4f54-b112-2869ec8c8f73",
   "metadata": {},
   "outputs": [],
   "source": [
    "import numpy as np\n",
    "import matplotlib.pyplot as plt\n",
    "import pandas as pd\n",
    "import pygrib\n",
    "import cartopy.crs as ccrs\n",
    "import cartopy.feature as cfeature"
   ]
  },
  {
   "cell_type": "code",
   "execution_count": 2,
   "id": "60e35db8",
   "metadata": {},
   "outputs": [],
   "source": [
    "grib_file = '../data2021-2022.grib'\n",
    "grbs = pygrib.open(grib_file)\n",
    "grbs.seek(0)\n",
    "grb = grbs[1]\n",
    "lats,lons = grb.latlons()"
   ]
  },
  {
   "cell_type": "code",
   "execution_count": null,
   "id": "e4d98fca-52af-4190-9a7c-c4096e8a2ca9",
   "metadata": {
    "tags": []
   },
   "outputs": [],
   "source": [
    "def draw_poland(ax, X, matrix_name, cmap):\n",
    "    data_crs = ccrs.PlateCarree()\n",
    "    ax.set_extent([14, 25, 49, 55])\n",
    "    ax.add_feature(cfeature.COASTLINE.with_scale('50m'))\n",
    "    ax.add_feature(cfeature.BORDERS)\n",
    "    contour_plot = ax.contourf(lons, lats, X, transform=data_crs, cmap=cmap)\n",
    "    ax.set_title(matrix_name)\n",
    "    plt.colorbar(contour_plot)\n",
    "    \n",
    "def plot_matrices(features, fh, y_test, y_hat):\n",
    "    max_samples = 1\n",
    "\n",
    "    for i in range(max_samples):\n",
    "        y_test_sample, y_hat_sample = y_test[i], y_hat[i]\n",
    "        fig, axs = plt.subplots(\n",
    "            features,\n",
    "            3 * fh,\n",
    "            figsize=(10 * fh, 3 * features),\n",
    "            subplot_kw={'projection': map_crs}\n",
    "        )\n",
    "\n",
    "        for j in range(features):\n",
    "            cur_feature = f'f{j}'\n",
    "            for k in range(3 * fh):\n",
    "                ts = k // 3\n",
    "                ax = axs[j, k]\n",
    "                if k % 3 == 0:\n",
    "                    title = rf\"$X_{{{cur_feature},t+{ts+1}}}$\"\n",
    "                    value = y_test[i, ..., ts, j]\n",
    "                    cmap = plt.cm.coolwarm\n",
    "                elif k % 3 == 1:\n",
    "                    title = rf\"$\\hat{{X}}_{{{cur_feature},t+{ts+1}}}$\"\n",
    "                    value = y_hat[i, ..., ts, j]\n",
    "                    cmap = plt.cm.coolwarm\n",
    "                else:\n",
    "                    title = rf\"$|X - \\hat{{X}}|_{{{cur_feature},t+{ts+1}}}$\"\n",
    "                    value = np.abs(y_test[i, ..., ts, j] - y_hat[i, ..., ts, j])\n",
    "                    cmap = \"binary\"\n",
    "\n",
    "                draw_poland(ax, value, title, cmap)\n",
    "\n",
    "        plt.tight_layout()\n",
    "        plt.show()\n",
    "    return axs\n",
    "\n",
    "features = 6\n",
    "fh = 1\n",
    "\n",
    "latitude = 32\n",
    "longitude = 48\n",
    "\n",
    "y_hat = np.random.rand(1, latitude, longitude, fh, features)\n",
    "y_test = np.random.rand(1, latitude, longitude, fh, features)\n",
    "\n",
    "plot_matrices(features, fh, y_test, y_hat)"
   ]
  }
 ],
 "metadata": {
  "kernelspec": {
   "display_name": "Python 3 (ipykernel)",
   "language": "python",
   "name": "python3"
  },
  "language_info": {
   "codemirror_mode": {
    "name": "ipython",
    "version": 3
   },
   "file_extension": ".py",
   "mimetype": "text/x-python",
   "name": "python",
   "nbconvert_exporter": "python",
   "pygments_lexer": "ipython3",
   "version": "3.11.4"
  }
 },
 "nbformat": 4,
 "nbformat_minor": 5
}
